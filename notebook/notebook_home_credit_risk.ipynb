{
 "cells": [
  {
   "cell_type": "code",
   "execution_count": 14,
   "metadata": {
    "pycharm": {
     "name": "#%%\n"
    },
    "ExecuteTime": {
     "end_time": "2023-12-20T19:37:32.258403600Z",
     "start_time": "2023-12-20T19:37:32.254212300Z"
    }
   },
   "outputs": [],
   "source": [
    "import numpy as np\n",
    "import pandas as pd\n",
    "import gc\n",
    "import time\n",
    "from contextlib import contextmanager\n",
    "from lightgbm import LGBMClassifier\n",
    "from sklearn.metrics import roc_auc_score, roc_curve\n",
    "from sklearn.model_selection import KFold, StratifiedKFold\n",
    "import matplotlib.pyplot as plt\n",
    "import seaborn as sns\n",
    "import mlflow\n",
    "import warnings\n",
    "import evidently\n",
    "\n",
    "warnings.simplefilter(action='ignore', category=FutureWarning)"
   ]
  },
  {
   "cell_type": "code",
   "execution_count": 15,
   "metadata": {
    "pycharm": {
     "name": "#%%\n"
    },
    "ExecuteTime": {
     "end_time": "2023-12-20T19:37:32.962899100Z",
     "start_time": "2023-12-20T19:37:32.954036600Z"
    }
   },
   "outputs": [],
   "source": [
    "@contextmanager\n",
    "def timer(title):\n",
    "    t0 = time.time()\n",
    "    yield\n",
    "    elapsed_time = time.time() - t0\n",
    "    print(\"{} - done in {:.0f}s\".format(title, elapsed_time))\n",
    "    # Logging durée pour chaque process\n",
    "    mlflow.log_metric(f\"{title}_time\", elapsed_time)"
   ]
  },
  {
   "cell_type": "markdown",
   "metadata": {},
   "source": [
    "# Data preparation / Feature engineering"
   ]
  },
  {
   "cell_type": "code",
   "execution_count": 16,
   "metadata": {
    "pycharm": {
     "name": "#%%\n"
    },
    "ExecuteTime": {
     "end_time": "2023-12-20T19:37:33.856844500Z",
     "start_time": "2023-12-20T19:37:33.845096500Z"
    }
   },
   "outputs": [],
   "source": [
    "# One-hot encoding for categorical columns with get_dummies\n",
    "def one_hot_encoder(df, nan_as_category = True):\n",
    "    original_columns = list(df.columns)\n",
    "    categorical_columns = [col for col in df.columns if df[col].dtype == 'object']\n",
    "    df = pd.get_dummies(df, columns= categorical_columns, dummy_na= nan_as_category)\n",
    "    new_columns = [c for c in df.columns if c not in original_columns]\n",
    "    return df, new_columns"
   ]
  },
  {
   "cell_type": "code",
   "execution_count": 17,
   "metadata": {
    "pycharm": {
     "name": "#%%\n"
    },
    "ExecuteTime": {
     "end_time": "2023-12-20T19:37:34.355768900Z",
     "start_time": "2023-12-20T19:37:34.350755800Z"
    }
   },
   "outputs": [],
   "source": [
    "# Preprocess bureau.csv and bureau_balance.csv\n",
    "def bureau_and_balance(num_rows = None, nan_as_category = True):\n",
    "    bureau = pd.read_csv('../ressources/bureau.csv', nrows = num_rows)\n",
    "    bb = pd.read_csv('../ressources/bureau_balance.csv', nrows = num_rows)\n",
    "    bb, bb_cat = one_hot_encoder(bb, nan_as_category)\n",
    "    bureau, bureau_cat = one_hot_encoder(bureau, nan_as_category)\n",
    "\n",
    "    # Bureau balance: Perform aggregations and merge with bureau.csv\n",
    "    bb_aggregations = {'MONTHS_BALANCE': ['min', 'max', 'size']}\n",
    "    for col in bb_cat:\n",
    "        bb_aggregations[col] = ['mean']\n",
    "    bb_agg = bb.groupby('SK_ID_BUREAU').agg(bb_aggregations)\n",
    "    bb_agg.columns = pd.Index([e[0] + \"_\" + e[1].upper() for e in bb_agg.columns.tolist()])\n",
    "    bureau = bureau.join(bb_agg, how='left', on='SK_ID_BUREAU')\n",
    "    bureau.drop(['SK_ID_BUREAU'], axis=1, inplace= True)\n",
    "    del bb, bb_agg\n",
    "    gc.collect()\n",
    "\n",
    "    # Bureau and bureau_balance numeric features\n",
    "    num_aggregations = {\n",
    "        'DAYS_CREDIT': ['min', 'max', 'mean', 'var'],\n",
    "        'DAYS_CREDIT_ENDDATE': ['min', 'max', 'mean'],\n",
    "        'DAYS_CREDIT_UPDATE': ['mean'],\n",
    "        'CREDIT_DAY_OVERDUE': ['max', 'mean'],\n",
    "        'AMT_CREDIT_MAX_OVERDUE': ['mean'],\n",
    "        'AMT_CREDIT_SUM': ['max', 'mean', 'sum'],\n",
    "        'AMT_CREDIT_SUM_DEBT': ['max', 'mean', 'sum'],\n",
    "        'AMT_CREDIT_SUM_OVERDUE': ['mean'],\n",
    "        'AMT_CREDIT_SUM_LIMIT': ['mean', 'sum'],\n",
    "        'AMT_ANNUITY': ['max', 'mean'],\n",
    "        'CNT_CREDIT_PROLONG': ['sum'],\n",
    "        'MONTHS_BALANCE_MIN': ['min'],\n",
    "        'MONTHS_BALANCE_MAX': ['max'],\n",
    "        'MONTHS_BALANCE_SIZE': ['mean', 'sum']\n",
    "    }\n",
    "    # Bureau and bureau_balance categorical features\n",
    "    cat_aggregations = {}\n",
    "    for cat in bureau_cat: cat_aggregations[cat] = ['mean']\n",
    "    for cat in bb_cat: cat_aggregations[cat + \"_MEAN\"] = ['mean']\n",
    "\n",
    "    bureau_agg = bureau.groupby('SK_ID_CURR').agg({**num_aggregations, **cat_aggregations})\n",
    "    bureau_agg.columns = pd.Index(['BURO_' + e[0] + \"_\" + e[1].upper() for e in bureau_agg.columns.tolist()])\n",
    "    # Bureau: Active credits - using only numerical aggregations\n",
    "    active = bureau[bureau['CREDIT_ACTIVE_Active'] == 1]\n",
    "    active_agg = active.groupby('SK_ID_CURR').agg(num_aggregations)\n",
    "    active_agg.columns = pd.Index(['ACTIVE_' + e[0] + \"_\" + e[1].upper() for e in active_agg.columns.tolist()])\n",
    "    bureau_agg = bureau_agg.join(active_agg, how='left', on='SK_ID_CURR')\n",
    "    del active, active_agg\n",
    "    gc.collect()\n",
    "    # Bureau: Closed credits - using only numerical aggregations\n",
    "    closed = bureau[bureau['CREDIT_ACTIVE_Closed'] == 1]\n",
    "    closed_agg = closed.groupby('SK_ID_CURR').agg(num_aggregations)\n",
    "    closed_agg.columns = pd.Index(['CLOSED_' + e[0] + \"_\" + e[1].upper() for e in closed_agg.columns.tolist()])\n",
    "    bureau_agg = bureau_agg.join(closed_agg, how='left', on='SK_ID_CURR')\n",
    "    del closed, closed_agg, bureau\n",
    "    gc.collect()\n",
    "    return bureau_agg"
   ]
  },
  {
   "cell_type": "code",
   "execution_count": 18,
   "metadata": {
    "pycharm": {
     "name": "#%%\n"
    },
    "ExecuteTime": {
     "end_time": "2023-12-20T19:37:34.550347100Z",
     "start_time": "2023-12-20T19:37:34.521661400Z"
    }
   },
   "outputs": [],
   "source": [
    "# Preprocess previous_applications.csv\n",
    "def previous_applications(num_rows = None, nan_as_category = True):\n",
    "    prev = pd.read_csv('../ressources/previous_application.csv', nrows = num_rows)\n",
    "    prev, cat_cols = one_hot_encoder(prev, nan_as_category= True)\n",
    "    # Days 365.243 values -> nan\n",
    "    prev['DAYS_FIRST_DRAWING'].replace(365243, np.nan, inplace= True)\n",
    "    prev['DAYS_FIRST_DUE'].replace(365243, np.nan, inplace= True)\n",
    "    prev['DAYS_LAST_DUE_1ST_VERSION'].replace(365243, np.nan, inplace= True)\n",
    "    prev['DAYS_LAST_DUE'].replace(365243, np.nan, inplace= True)\n",
    "    prev['DAYS_TERMINATION'].replace(365243, np.nan, inplace= True)\n",
    "    # Add feature: value ask / value received percentage\n",
    "    prev['APP_CREDIT_PERC'] = prev['AMT_APPLICATION'] / prev['AMT_CREDIT']\n",
    "    # Previous applications numeric features\n",
    "    num_aggregations = {\n",
    "        'AMT_ANNUITY': ['min', 'max', 'mean'],\n",
    "        'AMT_APPLICATION': ['min', 'max', 'mean'],\n",
    "        'AMT_CREDIT': ['min', 'max', 'mean'],\n",
    "        'APP_CREDIT_PERC': ['min', 'max', 'mean', 'var'],\n",
    "        'AMT_DOWN_PAYMENT': ['min', 'max', 'mean'],\n",
    "        'AMT_GOODS_PRICE': ['min', 'max', 'mean'],\n",
    "        'HOUR_APPR_PROCESS_START': ['min', 'max', 'mean'],\n",
    "        'RATE_DOWN_PAYMENT': ['min', 'max', 'mean'],\n",
    "        'DAYS_DECISION': ['min', 'max', 'mean'],\n",
    "        'CNT_PAYMENT': ['mean', 'sum'],\n",
    "    }\n",
    "    # Previous applications categorical features\n",
    "    cat_aggregations = {}\n",
    "    for cat in cat_cols:\n",
    "        cat_aggregations[cat] = ['mean']\n",
    "\n",
    "    prev_agg = prev.groupby('SK_ID_CURR').agg({**num_aggregations, **cat_aggregations})\n",
    "    prev_agg.columns = pd.Index(['PREV_' + e[0] + \"_\" + e[1].upper() for e in prev_agg.columns.tolist()])\n",
    "    # Previous Applications: Approved Applications - only numerical features\n",
    "    approved = prev[prev['NAME_CONTRACT_STATUS_Approved'] == 1]\n",
    "    approved_agg = approved.groupby('SK_ID_CURR').agg(num_aggregations)\n",
    "    approved_agg.columns = pd.Index(['APPROVED_' + e[0] + \"_\" + e[1].upper() for e in approved_agg.columns.tolist()])\n",
    "    prev_agg = prev_agg.join(approved_agg, how='left', on='SK_ID_CURR')\n",
    "    # Previous Applications: Refused Applications - only numerical features\n",
    "    refused = prev[prev['NAME_CONTRACT_STATUS_Refused'] == 1]\n",
    "    refused_agg = refused.groupby('SK_ID_CURR').agg(num_aggregations)\n",
    "    refused_agg.columns = pd.Index(['REFUSED_' + e[0] + \"_\" + e[1].upper() for e in refused_agg.columns.tolist()])\n",
    "    prev_agg = prev_agg.join(refused_agg, how='left', on='SK_ID_CURR')\n",
    "    del refused, refused_agg, approved, approved_agg, prev\n",
    "    gc.collect()\n",
    "    return prev_agg"
   ]
  },
  {
   "cell_type": "code",
   "execution_count": 19,
   "metadata": {
    "pycharm": {
     "name": "#%%\n"
    },
    "ExecuteTime": {
     "end_time": "2023-12-20T19:37:34.730660900Z",
     "start_time": "2023-12-20T19:37:34.717899Z"
    }
   },
   "outputs": [],
   "source": [
    "# Preprocess application_train.csv and application_test.csv\n",
    "def application_train_test(num_rows = None, nan_as_category = False):\n",
    "    # Read data and merge\n",
    "    df = pd.read_csv('../ressources/application_train.csv', nrows= num_rows)\n",
    "    test_df = pd.read_csv('../ressources/application_test.csv', nrows= num_rows)\n",
    "    print(\"Train samples: {}, test samples: {}\".format(len(df), len(test_df)))\n",
    "    #df = df.append(test_df).reset_index()\n",
    "    df = pd.concat([df, test_df],\n",
    "              ignore_index = True)\n",
    "    # Optional: Remove 4 applications with XNA CODE_GENDER (train set)\n",
    "    df = df[df['CODE_GENDER'] != 'XNA']\n",
    "\n",
    "    # Categorical features with Binary encode (0 or 1; two categories)\n",
    "    for bin_feature in ['CODE_GENDER', 'FLAG_OWN_CAR', 'FLAG_OWN_REALTY']:\n",
    "        df[bin_feature], uniques = pd.factorize(df[bin_feature])\n",
    "    # Categorical features with One-Hot encode\n",
    "    df, cat_cols = one_hot_encoder(df, nan_as_category)\n",
    "\n",
    "    # NaN values for DAYS_EMPLOYED: 365.243 -> nan\n",
    "    df['DAYS_EMPLOYED'].replace(365243, np.nan, inplace= True)\n",
    "    # Some simple new features (percentages)\n",
    "    df['DAYS_EMPLOYED_PERC'] = df['DAYS_EMPLOYED'] / df['DAYS_BIRTH']\n",
    "    df['INCOME_CREDIT_PERC'] = df['AMT_INCOME_TOTAL'] / df['AMT_CREDIT']\n",
    "    df['INCOME_PER_PERSON'] = df['AMT_INCOME_TOTAL'] / df['CNT_FAM_MEMBERS']\n",
    "    df['ANNUITY_INCOME_PERC'] = df['AMT_ANNUITY'] / df['AMT_INCOME_TOTAL']\n",
    "    df['PAYMENT_RATE'] = df['AMT_ANNUITY'] / df['AMT_CREDIT']\n",
    "    del test_df\n",
    "    gc.collect()\n",
    "    return df"
   ]
  },
  {
   "cell_type": "code",
   "execution_count": 20,
   "metadata": {
    "pycharm": {
     "name": "#%%\n"
    },
    "ExecuteTime": {
     "end_time": "2023-12-20T19:37:34.911404600Z",
     "start_time": "2023-12-20T19:37:34.897971300Z"
    }
   },
   "outputs": [],
   "source": [
    "# Preprocess POS_CASH_balance.csv\n",
    "def pos_cash(num_rows = None, nan_as_category = True):\n",
    "    pos = pd.read_csv('../ressources/POS_CASH_balance.csv', nrows = num_rows)\n",
    "    pos, cat_cols = one_hot_encoder(pos, nan_as_category= True)\n",
    "    # Features\n",
    "    aggregations = {\n",
    "        'MONTHS_BALANCE': ['max', 'mean', 'size'],\n",
    "        'SK_DPD': ['max', 'mean'],\n",
    "        'SK_DPD_DEF': ['max', 'mean']\n",
    "    }\n",
    "    for cat in cat_cols:\n",
    "        aggregations[cat] = ['mean']\n",
    "\n",
    "    pos_agg = pos.groupby('SK_ID_CURR').agg(aggregations)\n",
    "    pos_agg.columns = pd.Index(['POS_' + e[0] + \"_\" + e[1].upper() for e in pos_agg.columns.tolist()])\n",
    "    # Count pos cash accounts\n",
    "    pos_agg['POS_COUNT'] = pos.groupby('SK_ID_CURR').size()\n",
    "    del pos\n",
    "    gc.collect()\n",
    "    return pos_agg"
   ]
  },
  {
   "cell_type": "code",
   "execution_count": 21,
   "metadata": {
    "pycharm": {
     "name": "#%%\n"
    },
    "ExecuteTime": {
     "end_time": "2023-12-20T19:37:35.074822300Z",
     "start_time": "2023-12-20T19:37:35.065243800Z"
    }
   },
   "outputs": [],
   "source": [
    "# Preprocess installments_payments.csv\n",
    "def installments_payments(num_rows = None, nan_as_category = True):\n",
    "    ins = pd.read_csv('../ressources/installments_payments.csv', nrows = num_rows)\n",
    "    ins, cat_cols = one_hot_encoder(ins, nan_as_category= True)\n",
    "    # Percentage and difference paid in each installment (amount paid and installment value)\n",
    "    ins['PAYMENT_PERC'] = ins['AMT_PAYMENT'] / ins['AMT_INSTALMENT']\n",
    "    ins['PAYMENT_DIFF'] = ins['AMT_INSTALMENT'] - ins['AMT_PAYMENT']\n",
    "    # Days past due and days before due (no negative values)\n",
    "    ins['DPD'] = ins['DAYS_ENTRY_PAYMENT'] - ins['DAYS_INSTALMENT']\n",
    "    ins['DBD'] = ins['DAYS_INSTALMENT'] - ins['DAYS_ENTRY_PAYMENT']\n",
    "    ins['DPD'] = ins['DPD'].apply(lambda x: x if x > 0 else 0)\n",
    "    ins['DBD'] = ins['DBD'].apply(lambda x: x if x > 0 else 0)\n",
    "    # Features: Perform aggregations\n",
    "    aggregations = {\n",
    "        'NUM_INSTALMENT_VERSION': ['nunique'],\n",
    "        'DPD': ['max', 'mean', 'sum'],\n",
    "        'DBD': ['max', 'mean', 'sum'],\n",
    "        'PAYMENT_PERC': ['max', 'mean', 'sum', 'var'],\n",
    "        'PAYMENT_DIFF': ['max', 'mean', 'sum', 'var'],\n",
    "        'AMT_INSTALMENT': ['max', 'mean', 'sum'],\n",
    "        'AMT_PAYMENT': ['min', 'max', 'mean', 'sum'],\n",
    "        'DAYS_ENTRY_PAYMENT': ['max', 'mean', 'sum']\n",
    "    }\n",
    "    for cat in cat_cols:\n",
    "        aggregations[cat] = ['mean']\n",
    "    ins_agg = ins.groupby('SK_ID_CURR').agg(aggregations)\n",
    "    ins_agg.columns = pd.Index(['INSTAL_' + e[0] + \"_\" + e[1].upper() for e in ins_agg.columns.tolist()])\n",
    "    # Count installments accounts\n",
    "    ins_agg['INSTAL_COUNT'] = ins.groupby('SK_ID_CURR').size()\n",
    "    del ins\n",
    "    gc.collect()\n",
    "    return ins_agg"
   ]
  },
  {
   "cell_type": "code",
   "execution_count": 22,
   "metadata": {
    "pycharm": {
     "name": "#%%\n"
    },
    "ExecuteTime": {
     "end_time": "2023-12-20T19:37:35.266908100Z",
     "start_time": "2023-12-20T19:37:35.247027300Z"
    }
   },
   "outputs": [],
   "source": [
    "# Preprocess credit_card_balance.csv\n",
    "def credit_card_balance(num_rows = None, nan_as_category = True):\n",
    "    cc = pd.read_csv('../ressources/credit_card_balance.csv', nrows = num_rows)\n",
    "    cc, cat_cols = one_hot_encoder(cc, nan_as_category= True)\n",
    "    # General aggregations\n",
    "    cc.drop(['SK_ID_PREV'], axis= 1, inplace = True)\n",
    "    cc_agg = cc.groupby('SK_ID_CURR').agg(['min', 'max', 'mean', 'sum', 'var'])\n",
    "    cc_agg.columns = pd.Index(['CC_' + e[0] + \"_\" + e[1].upper() for e in cc_agg.columns.tolist()])\n",
    "    # Count credit card lines\n",
    "    cc_agg['CC_COUNT'] = cc.groupby('SK_ID_CURR').size()\n",
    "    del cc\n",
    "    gc.collect()\n",
    "    return cc_agg"
   ]
  },
  {
   "cell_type": "code",
   "execution_count": 23,
   "metadata": {
    "pycharm": {
     "name": "#%%\n"
    },
    "ExecuteTime": {
     "end_time": "2023-12-20T19:37:35.799510500Z",
     "start_time": "2023-12-20T19:37:35.793375900Z"
    }
   },
   "outputs": [],
   "source": [
    "# Display/plot feature importance\n",
    "def display_importances(feature_importance_df_):\n",
    "    cols = feature_importance_df_[[\"feature\", \"importance\"]].groupby(\"feature\").mean().sort_values(by=\"importance\", ascending=False)[:40].index\n",
    "    best_features = feature_importance_df_.loc[feature_importance_df_.feature.isin(cols)]\n",
    "    plt.figure(figsize=(8, 10))\n",
    "    sns.barplot(x=\"importance\", y=\"feature\", data=best_features.sort_values(by=\"importance\", ascending=False))\n",
    "    plt.title('LightGBM Features (avg over folds)')\n",
    "    plt.tight_layout()\n",
    "    plt.savefig('lgbm_importances01.png')"
   ]
  },
  {
   "cell_type": "code",
   "execution_count": 23,
   "outputs": [],
   "source": [],
   "metadata": {
    "collapsed": false,
    "ExecuteTime": {
     "end_time": "2023-12-20T19:37:36.183955Z",
     "start_time": "2023-12-20T19:37:36.159615300Z"
    }
   }
  },
  {
   "cell_type": "markdown",
   "source": [
    "# Credit score function"
   ],
   "metadata": {
    "collapsed": false
   }
  },
  {
   "cell_type": "markdown",
   "source": [
    "Le déséquilibre entre le nombre de bons et de moins bons clients doit être pris en compte pour élaborer un modèle pertinent, à l’aide d’au moins une méthode au choix\n",
    "Le déséquilibre du coût métier entre un faux négatif (FN - mauvais client prédit bon client : donc crédit accordé et perte en capital) et un faux positif (FP - bon client prédit mauvais : donc refus crédit et manque à gagner en marge)\n",
    "Vous pourrez supposer, par exemple, que le coût d’un FN est dix fois supérieur au coût d’un FP\n",
    "Vous créerez un score “métier” (minimisation du coût d’erreur de prédiction des FN et FP) pour comparer les modèles, afin de choisir le meilleur modèle et ses meilleurs hyperparamètres. Attention cette minimisation du coût métier doit passer par l’optimisation du seuil qui détermine, à partir d’une probabilité, la classe 0 ou 1 (un “predict” suppose un seuil à 0.5 qui n’est pas forcément l’optimum)\n",
    "En parallèle, maintenez pour comparaison et contrôle des mesures plus techniques, telles que l’AUC et l’accuracy"
   ],
   "metadata": {
    "collapsed": false
   }
  },
  {
   "cell_type": "code",
   "execution_count": 23,
   "outputs": [],
   "source": [],
   "metadata": {
    "collapsed": false,
    "ExecuteTime": {
     "end_time": "2023-12-20T19:37:36.730845300Z",
     "start_time": "2023-12-20T19:37:36.716702300Z"
    }
   }
  },
  {
   "cell_type": "code",
   "execution_count": 24,
   "metadata": {
    "pycharm": {
     "name": "#%%\n"
    },
    "ExecuteTime": {
     "end_time": "2023-12-20T19:37:36.949664600Z",
     "start_time": "2023-12-20T19:37:36.934973300Z"
    }
   },
   "outputs": [],
   "source": [
    "def credit_cost_function(y_true, y_prob, threshold):\n",
    "    cost_fp = 100\n",
    "    cost_fn = 1000\n",
    "\n",
    "    fn = ((y_true == 1) & (y_prob < threshold)).sum()\n",
    "    fp = ((y_true == 0) & (y_prob >= threshold)).sum()\n",
    "\n",
    "    total_cost = (cost_fp * fp) + (cost_fn * fn)\n",
    "    return total_cost"
   ]
  },
  {
   "cell_type": "code",
   "execution_count": 25,
   "metadata": {
    "pycharm": {
     "name": "#%%\n"
    },
    "ExecuteTime": {
     "end_time": "2023-12-20T19:37:37.353433300Z",
     "start_time": "2023-12-20T19:37:37.327765Z"
    }
   },
   "outputs": [],
   "source": [
    "from sklearn.metrics import mean_squared_error\n",
    "def credit_cost_function_search_best_threshold(y_true, y_prob):\n",
    "\n",
    "    best_threshold = 0.5\n",
    "    best_cost = float('inf')\n",
    "\n",
    "    for threshold in np.arange(0.05, 1.0, 0.05):  # Parcourir les seuils de 0.1 à 1.0\n",
    "        cost = credit_cost_function(y_true, y_prob, threshold)\n",
    "        if cost < best_cost:\n",
    "            best_threshold = threshold\n",
    "            best_cost = cost\n",
    "            print(f'Best cost : {best_cost}')\n",
    "            print(f'Best Threshold : {best_threshold}')\n",
    "\n",
    "    # Utiliser le meilleur seuil pour calculer la métrique sur les données de validation\n",
    "    total_cost = credit_cost_function(y_true, y_prob, best_threshold)\n",
    "    print(f'Custom Credit Score: {total_cost}')\n",
    "\n",
    "\n",
    "    return \"credit_cost_function\", total_cost, None"
   ]
  },
  {
   "cell_type": "code",
   "execution_count": 26,
   "metadata": {
    "pycharm": {
     "name": "#%%\n"
    },
    "ExecuteTime": {
     "end_time": "2023-12-20T19:37:37.519964800Z",
     "start_time": "2023-12-20T19:37:37.515939700Z"
    }
   },
   "outputs": [],
   "source": [
    "from sklearn.metrics import mean_squared_error\n",
    "def credit_cost_function_search_best_threshold_v2(y_true, y_prob):\n",
    "\n",
    "    best_threshold = 0.5\n",
    "    best_cost = float('inf')\n",
    "\n",
    "    for threshold in np.arange(0.00, 1.0, 0.025):  # Parcourir les seuils de 0.1 à 1.0\n",
    "        cost = credit_cost_function(y_true, y_prob, threshold)\n",
    "        if cost < best_cost:\n",
    "            best_threshold = threshold\n",
    "            best_cost = cost\n",
    "            #print(f'Best cost : {best_cost}')\n",
    "            #print(f'Best Threshold : {best_threshold}')\n",
    "\n",
    "    # Utiliser le meilleur seuil pour calculer la métrique sur les données de validation\n",
    "    total_cost = credit_cost_function(y_true, y_prob, best_threshold)\n",
    "    print(f'Custom Credit Score: {total_cost}')\n",
    "\n",
    "\n",
    "    return total_cost"
   ]
  },
  {
   "cell_type": "code",
   "execution_count": 27,
   "metadata": {
    "pycharm": {
     "name": "#%%\n"
    },
    "ExecuteTime": {
     "end_time": "2023-12-20T19:37:43.679433200Z",
     "start_time": "2023-12-20T19:37:38.079465400Z"
    }
   },
   "outputs": [
    {
     "name": "stderr",
     "output_type": "stream",
     "text": [
      "WARNING:root:Malformed experiment 'mlruns'. Detailed error Yaml file 'C:\\Users\\PC1\\DataspellProjects\\Home_Credit_Default_Risk\\notebook\\mlruns\\mlruns\\meta.yaml' does not exist.\n",
      "Traceback (most recent call last):\n",
      "  File \"C:\\Users\\PC1\\anaconda3\\envs\\myenv\\lib\\site-packages\\mlflow\\store\\tracking\\file_store.py\", line 304, in search_experiments\n",
      "    exp = self._get_experiment(exp_id, view_type)\n",
      "  File \"C:\\Users\\PC1\\anaconda3\\envs\\myenv\\lib\\site-packages\\mlflow\\store\\tracking\\file_store.py\", line 397, in _get_experiment\n",
      "    meta = FileStore._read_yaml(experiment_dir, FileStore.META_DATA_FILE_NAME)\n",
      "  File \"C:\\Users\\PC1\\anaconda3\\envs\\myenv\\lib\\site-packages\\mlflow\\store\\tracking\\file_store.py\", line 1306, in _read_yaml\n",
      "    return _read_helper(root, file_name, attempts_remaining=retries)\n",
      "  File \"C:\\Users\\PC1\\anaconda3\\envs\\myenv\\lib\\site-packages\\mlflow\\store\\tracking\\file_store.py\", line 1299, in _read_helper\n",
      "    result = read_yaml(root, file_name)\n",
      "  File \"C:\\Users\\PC1\\anaconda3\\envs\\myenv\\lib\\site-packages\\mlflow\\utils\\file_utils.py\", line 282, in read_yaml\n",
      "    raise MissingConfigException(f\"Yaml file '{file_path}' does not exist.\")\n",
      "mlflow.exceptions.MissingConfigException: Yaml file 'C:\\Users\\PC1\\DataspellProjects\\Home_Credit_Default_Risk\\notebook\\mlruns\\mlruns\\meta.yaml' does not exist.\n",
      "2023/12/20 20:37:38 INFO mlflow.tracking.fluent: Experiment with name 'credit_risk_project' does not exist. Creating a new experiment.\n",
      "WARNING:root:Malformed experiment 'mlruns'. Detailed error Yaml file 'C:\\Users\\PC1\\DataspellProjects\\Home_Credit_Default_Risk\\notebook\\mlruns\\mlruns\\meta.yaml' does not exist.\n",
      "Traceback (most recent call last):\n",
      "  File \"C:\\Users\\PC1\\anaconda3\\envs\\myenv\\lib\\site-packages\\mlflow\\store\\tracking\\file_store.py\", line 304, in search_experiments\n",
      "    exp = self._get_experiment(exp_id, view_type)\n",
      "  File \"C:\\Users\\PC1\\anaconda3\\envs\\myenv\\lib\\site-packages\\mlflow\\store\\tracking\\file_store.py\", line 397, in _get_experiment\n",
      "    meta = FileStore._read_yaml(experiment_dir, FileStore.META_DATA_FILE_NAME)\n",
      "  File \"C:\\Users\\PC1\\anaconda3\\envs\\myenv\\lib\\site-packages\\mlflow\\store\\tracking\\file_store.py\", line 1306, in _read_yaml\n",
      "    return _read_helper(root, file_name, attempts_remaining=retries)\n",
      "  File \"C:\\Users\\PC1\\anaconda3\\envs\\myenv\\lib\\site-packages\\mlflow\\store\\tracking\\file_store.py\", line 1299, in _read_helper\n",
      "    result = read_yaml(root, file_name)\n",
      "  File \"C:\\Users\\PC1\\anaconda3\\envs\\myenv\\lib\\site-packages\\mlflow\\utils\\file_utils.py\", line 282, in read_yaml\n",
      "    raise MissingConfigException(f\"Yaml file '{file_path}' does not exist.\")\n",
      "mlflow.exceptions.MissingConfigException: Yaml file 'C:\\Users\\PC1\\DataspellProjects\\Home_Credit_Default_Risk\\notebook\\mlruns\\mlruns\\meta.yaml' does not exist.\n"
     ]
    },
    {
     "name": "stdout",
     "output_type": "stream",
     "text": [
      "Train samples: 120000, test samples: 48744\n",
      "Bureau df shape: (27968, 113)\n",
      "Process bureau and bureau_balance - done in 1s\n",
      "Previous applications df shape: (92334, 247)\n",
      "Process previous_applications - done in 2s\n",
      "Pos-cash balance df shape: (88191, 15)\n",
      "Process POS-CASH balance - done in 0s\n",
      "Installments payments df shape: (53221, 26)\n",
      "Process installments payments - done in 1s\n",
      "Credit card balance df shape: (58133, 131)\n",
      "Process credit card balance - done in 1s\n"
     ]
    }
   ],
   "source": [
    "import datetime\n",
    "\n",
    "\n",
    "# Pour visualiser les logs lancer 'mlflow ui'\n",
    "\n",
    "current_time = datetime.datetime.now().strftime(\"%Y-%m-%d_%H-%M-%S\")\n",
    "experiment_name = f\"experiment_dummy_{current_time}\"\n",
    "mlflow.set_experiment('credit_risk_project')\n",
    "mlflow.start_run()\n",
    "\n",
    "num_rows = 120000\n",
    "df = application_train_test(num_rows)\n",
    "with timer(\"Process bureau and bureau_balance\"):\n",
    "    bureau = bureau_and_balance(num_rows)\n",
    "    print(\"Bureau df shape:\", bureau.shape)\n",
    "    df = df.join(bureau, how='left', on='SK_ID_CURR')\n",
    "    mlflow.log_metric(\"bureau_balance_rows\", bureau.shape[0])\n",
    "    mlflow.log_metric(\"bureau_balance_columns\", bureau.shape[1])\n",
    "    del bureau\n",
    "    gc.collect()\n",
    "with timer(\"Process previous_applications\"):\n",
    "    prev = previous_applications(num_rows)\n",
    "    print(\"Previous applications df shape:\", prev.shape)\n",
    "    df = df.join(prev, how='left', on='SK_ID_CURR')\n",
    "    mlflow.log_metric(\"previous_applications_rows\", prev.shape[0])\n",
    "    mlflow.log_metric(\"previous_applications_columns\", prev.shape[1])\n",
    "    del prev\n",
    "    gc.collect()\n",
    "with timer(\"Process POS-CASH balance\"):\n",
    "    pos = pos_cash(num_rows)\n",
    "    print(\"Pos-cash balance df shape:\", pos.shape)\n",
    "    df = df.join(pos, how='left', on='SK_ID_CURR')\n",
    "    mlflow.log_metric(\"balance_rows\", pos.shape[0])\n",
    "    mlflow.log_metric(\"balance_columns\", pos.shape[1])\n",
    "    del pos\n",
    "    gc.collect()\n",
    "with timer(\"Process installments payments\"):\n",
    "    ins = installments_payments(num_rows)\n",
    "    print(\"Installments payments df shape:\", ins.shape)\n",
    "    df = df.join(ins, how='left', on='SK_ID_CURR')\n",
    "    mlflow.log_metric(\"payments_rows\", ins.shape[0])\n",
    "    mlflow.log_metric(\"payments_columns\", ins.shape[1])\n",
    "    del ins\n",
    "    gc.collect()\n",
    "with timer(\"Process credit card balance\"):\n",
    "    cc = credit_card_balance(num_rows)\n",
    "    print(\"Credit card balance df shape:\", cc.shape)\n",
    "    df = df.join(cc, how='left', on='SK_ID_CURR')\n",
    "    mlflow.log_metric(\"card_balance_rows\", cc.shape[0])\n",
    "    mlflow.log_metric(\"card_balance_columns\", cc.shape[1])\n",
    "    del cc\n",
    "    gc.collect()\n",
    "\n",
    "#df.to_csv('../ressources/processed_data.csv', index=False)\n"
   ]
  },
  {
   "cell_type": "code",
   "execution_count": 28,
   "outputs": [],
   "source": [
    "mlflow.end_run()"
   ],
   "metadata": {
    "collapsed": false,
    "ExecuteTime": {
     "end_time": "2023-12-20T19:38:00.037236100Z",
     "start_time": "2023-12-20T19:37:59.958797300Z"
    }
   }
  },
  {
   "cell_type": "code",
   "execution_count": 29,
   "metadata": {
    "pycharm": {
     "name": "#%%\n"
    },
    "ExecuteTime": {
     "end_time": "2023-12-20T19:38:02.078423700Z",
     "start_time": "2023-12-20T19:38:02.055826Z"
    }
   },
   "outputs": [],
   "source": [
    "import re\n",
    "\n",
    "# Fonction de transformation pour supprimer les caractères spéciaux et mettre en majuscules\n",
    "def clean_column_name(col_name):\n",
    "    # Utiliser une expression régulière pour supprimer les caractères spéciaux\n",
    "    cleaned_name = re.sub(r'\\W+', '', col_name)\n",
    "    # Mettre le nom en majuscules\n",
    "    cleaned_name_uppercase = cleaned_name.upper()\n",
    "    return cleaned_name_uppercase\n",
    "\n",
    "# Renommer les colonnes avec la fonction de transformation\n",
    "df.rename(columns=clean_column_name, inplace=True)"
   ]
  },
  {
   "cell_type": "code",
   "execution_count": 30,
   "metadata": {
    "pycharm": {
     "name": "#%%\n"
    },
    "ExecuteTime": {
     "end_time": "2023-12-20T19:38:05.832914600Z",
     "start_time": "2023-12-20T19:38:03.549697500Z"
    }
   },
   "outputs": [
    {
     "data": {
      "text/plain": "         SK_ID_CURR         TARGET    CODE_GENDER   FLAG_OWN_CAR  \\\ncount  168741.00000  119997.000000  168741.000000  168741.000000   \nmean   200859.47097       0.081452       0.662169       0.338347   \nstd     81407.74005       0.273529       0.472972       0.473149   \nmin    100001.00000       0.000000       0.000000       0.000000   \n25%    142187.00000       0.000000       0.000000       0.000000   \n50%    184373.00000       0.000000       1.000000       0.000000   \n75%    226559.00000       0.000000       1.000000       1.000000   \nmax    456250.00000       1.000000       1.000000       1.000000   \n\n       FLAG_OWN_REALTY   CNT_CHILDREN  AMT_INCOME_TOTAL    AMT_CREDIT  \\\ncount    168741.000000  168741.000000      1.687410e+05  1.687410e+05   \nmean          0.307169       0.411975      1.718723e+05  5.750347e+05   \nstd           0.461321       0.717753      3.024190e+05  3.938216e+05   \nmin           0.000000       0.000000      2.565000e+04  4.500000e+04   \n25%           0.000000       0.000000      1.125000e+05  2.700000e+05   \n50%           0.000000       0.000000      1.575000e+05  4.904955e+05   \n75%           1.000000       1.000000      2.025000e+05  7.819200e+05   \nmax           1.000000      20.000000      1.170000e+08  4.050000e+06   \n\n         AMT_ANNUITY  AMT_GOODS_PRICE  ...  \\\ncount  168710.000000     1.686440e+05  ...   \nmean    27760.496106     5.163046e+05  ...   \nstd     15018.228686     3.621466e+05  ...   \nmin      1980.000000     4.500000e+04  ...   \n25%     16875.000000     2.295000e+05  ...   \n50%     25294.500000     4.500000e+05  ...   \n75%     35478.000000     6.750000e+05  ...   \nmax    258025.500000     4.050000e+06  ...   \n\n       CC_NAME_CONTRACT_STATUS_SENTPROPOSAL_MEAN  \\\ncount                               29073.000000   \nmean                                    0.000042   \nstd                                     0.003297   \nmin                                     0.000000   \n25%                                     0.000000   \n50%                                     0.000000   \n75%                                     0.000000   \nmax                                     0.333333   \n\n       CC_NAME_CONTRACT_STATUS_SENTPROPOSAL_SUM  \\\ncount                              29073.000000   \nmean                                   0.000172   \nstd                                    0.013113   \nmin                                    0.000000   \n25%                                    0.000000   \n50%                                    0.000000   \n75%                                    0.000000   \nmax                                    1.000000   \n\n       CC_NAME_CONTRACT_STATUS_SENTPROPOSAL_VAR  \\\ncount                              15462.000000   \nmean                                   0.000080   \nstd                                    0.004521   \nmin                                    0.000000   \n25%                                    0.000000   \n50%                                    0.000000   \n75%                                    0.000000   \nmax                                    0.333333   \n\n       CC_NAME_CONTRACT_STATUS_SIGNED_MEAN  \\\ncount                         29073.000000   \nmean                              0.002616   \nstd                               0.042536   \nmin                               0.000000   \n25%                               0.000000   \n50%                               0.000000   \n75%                               0.000000   \nmax                               1.000000   \n\n       CC_NAME_CONTRACT_STATUS_SIGNED_SUM  CC_NAME_CONTRACT_STATUS_SIGNED_VAR  \\\ncount                        29073.000000                        15462.000000   \nmean                             0.005538                            0.002399   \nstd                              0.082549                            0.030119   \nmin                              0.000000                            0.000000   \n25%                              0.000000                            0.000000   \n50%                              0.000000                            0.000000   \n75%                              0.000000                            0.000000   \nmax                              3.000000                            0.500000   \n\n       CC_NAME_CONTRACT_STATUS_NAN_MEAN  CC_NAME_CONTRACT_STATUS_NAN_SUM  \\\ncount                           29073.0                          29073.0   \nmean                                0.0                              0.0   \nstd                                 0.0                              0.0   \nmin                                 0.0                              0.0   \n25%                                 0.0                              0.0   \n50%                                 0.0                              0.0   \n75%                                 0.0                              0.0   \nmax                                 0.0                              0.0   \n\n       CC_NAME_CONTRACT_STATUS_NAN_VAR      CC_COUNT  \ncount                          15462.0  29073.000000  \nmean                               0.0      2.060606  \nstd                                0.0      1.343250  \nmin                                0.0      1.000000  \n25%                                0.0      1.000000  \n50%                                0.0      2.000000  \n75%                                0.0      3.000000  \nmax                                0.0     11.000000  \n\n[8 rows x 634 columns]",
      "text/html": "<div>\n<style scoped>\n    .dataframe tbody tr th:only-of-type {\n        vertical-align: middle;\n    }\n\n    .dataframe tbody tr th {\n        vertical-align: top;\n    }\n\n    .dataframe thead th {\n        text-align: right;\n    }\n</style>\n<table border=\"1\" class=\"dataframe\">\n  <thead>\n    <tr style=\"text-align: right;\">\n      <th></th>\n      <th>SK_ID_CURR</th>\n      <th>TARGET</th>\n      <th>CODE_GENDER</th>\n      <th>FLAG_OWN_CAR</th>\n      <th>FLAG_OWN_REALTY</th>\n      <th>CNT_CHILDREN</th>\n      <th>AMT_INCOME_TOTAL</th>\n      <th>AMT_CREDIT</th>\n      <th>AMT_ANNUITY</th>\n      <th>AMT_GOODS_PRICE</th>\n      <th>...</th>\n      <th>CC_NAME_CONTRACT_STATUS_SENTPROPOSAL_MEAN</th>\n      <th>CC_NAME_CONTRACT_STATUS_SENTPROPOSAL_SUM</th>\n      <th>CC_NAME_CONTRACT_STATUS_SENTPROPOSAL_VAR</th>\n      <th>CC_NAME_CONTRACT_STATUS_SIGNED_MEAN</th>\n      <th>CC_NAME_CONTRACT_STATUS_SIGNED_SUM</th>\n      <th>CC_NAME_CONTRACT_STATUS_SIGNED_VAR</th>\n      <th>CC_NAME_CONTRACT_STATUS_NAN_MEAN</th>\n      <th>CC_NAME_CONTRACT_STATUS_NAN_SUM</th>\n      <th>CC_NAME_CONTRACT_STATUS_NAN_VAR</th>\n      <th>CC_COUNT</th>\n    </tr>\n  </thead>\n  <tbody>\n    <tr>\n      <th>count</th>\n      <td>168741.00000</td>\n      <td>119997.000000</td>\n      <td>168741.000000</td>\n      <td>168741.000000</td>\n      <td>168741.000000</td>\n      <td>168741.000000</td>\n      <td>1.687410e+05</td>\n      <td>1.687410e+05</td>\n      <td>168710.000000</td>\n      <td>1.686440e+05</td>\n      <td>...</td>\n      <td>29073.000000</td>\n      <td>29073.000000</td>\n      <td>15462.000000</td>\n      <td>29073.000000</td>\n      <td>29073.000000</td>\n      <td>15462.000000</td>\n      <td>29073.0</td>\n      <td>29073.0</td>\n      <td>15462.0</td>\n      <td>29073.000000</td>\n    </tr>\n    <tr>\n      <th>mean</th>\n      <td>200859.47097</td>\n      <td>0.081452</td>\n      <td>0.662169</td>\n      <td>0.338347</td>\n      <td>0.307169</td>\n      <td>0.411975</td>\n      <td>1.718723e+05</td>\n      <td>5.750347e+05</td>\n      <td>27760.496106</td>\n      <td>5.163046e+05</td>\n      <td>...</td>\n      <td>0.000042</td>\n      <td>0.000172</td>\n      <td>0.000080</td>\n      <td>0.002616</td>\n      <td>0.005538</td>\n      <td>0.002399</td>\n      <td>0.0</td>\n      <td>0.0</td>\n      <td>0.0</td>\n      <td>2.060606</td>\n    </tr>\n    <tr>\n      <th>std</th>\n      <td>81407.74005</td>\n      <td>0.273529</td>\n      <td>0.472972</td>\n      <td>0.473149</td>\n      <td>0.461321</td>\n      <td>0.717753</td>\n      <td>3.024190e+05</td>\n      <td>3.938216e+05</td>\n      <td>15018.228686</td>\n      <td>3.621466e+05</td>\n      <td>...</td>\n      <td>0.003297</td>\n      <td>0.013113</td>\n      <td>0.004521</td>\n      <td>0.042536</td>\n      <td>0.082549</td>\n      <td>0.030119</td>\n      <td>0.0</td>\n      <td>0.0</td>\n      <td>0.0</td>\n      <td>1.343250</td>\n    </tr>\n    <tr>\n      <th>min</th>\n      <td>100001.00000</td>\n      <td>0.000000</td>\n      <td>0.000000</td>\n      <td>0.000000</td>\n      <td>0.000000</td>\n      <td>0.000000</td>\n      <td>2.565000e+04</td>\n      <td>4.500000e+04</td>\n      <td>1980.000000</td>\n      <td>4.500000e+04</td>\n      <td>...</td>\n      <td>0.000000</td>\n      <td>0.000000</td>\n      <td>0.000000</td>\n      <td>0.000000</td>\n      <td>0.000000</td>\n      <td>0.000000</td>\n      <td>0.0</td>\n      <td>0.0</td>\n      <td>0.0</td>\n      <td>1.000000</td>\n    </tr>\n    <tr>\n      <th>25%</th>\n      <td>142187.00000</td>\n      <td>0.000000</td>\n      <td>0.000000</td>\n      <td>0.000000</td>\n      <td>0.000000</td>\n      <td>0.000000</td>\n      <td>1.125000e+05</td>\n      <td>2.700000e+05</td>\n      <td>16875.000000</td>\n      <td>2.295000e+05</td>\n      <td>...</td>\n      <td>0.000000</td>\n      <td>0.000000</td>\n      <td>0.000000</td>\n      <td>0.000000</td>\n      <td>0.000000</td>\n      <td>0.000000</td>\n      <td>0.0</td>\n      <td>0.0</td>\n      <td>0.0</td>\n      <td>1.000000</td>\n    </tr>\n    <tr>\n      <th>50%</th>\n      <td>184373.00000</td>\n      <td>0.000000</td>\n      <td>1.000000</td>\n      <td>0.000000</td>\n      <td>0.000000</td>\n      <td>0.000000</td>\n      <td>1.575000e+05</td>\n      <td>4.904955e+05</td>\n      <td>25294.500000</td>\n      <td>4.500000e+05</td>\n      <td>...</td>\n      <td>0.000000</td>\n      <td>0.000000</td>\n      <td>0.000000</td>\n      <td>0.000000</td>\n      <td>0.000000</td>\n      <td>0.000000</td>\n      <td>0.0</td>\n      <td>0.0</td>\n      <td>0.0</td>\n      <td>2.000000</td>\n    </tr>\n    <tr>\n      <th>75%</th>\n      <td>226559.00000</td>\n      <td>0.000000</td>\n      <td>1.000000</td>\n      <td>1.000000</td>\n      <td>1.000000</td>\n      <td>1.000000</td>\n      <td>2.025000e+05</td>\n      <td>7.819200e+05</td>\n      <td>35478.000000</td>\n      <td>6.750000e+05</td>\n      <td>...</td>\n      <td>0.000000</td>\n      <td>0.000000</td>\n      <td>0.000000</td>\n      <td>0.000000</td>\n      <td>0.000000</td>\n      <td>0.000000</td>\n      <td>0.0</td>\n      <td>0.0</td>\n      <td>0.0</td>\n      <td>3.000000</td>\n    </tr>\n    <tr>\n      <th>max</th>\n      <td>456250.00000</td>\n      <td>1.000000</td>\n      <td>1.000000</td>\n      <td>1.000000</td>\n      <td>1.000000</td>\n      <td>20.000000</td>\n      <td>1.170000e+08</td>\n      <td>4.050000e+06</td>\n      <td>258025.500000</td>\n      <td>4.050000e+06</td>\n      <td>...</td>\n      <td>0.333333</td>\n      <td>1.000000</td>\n      <td>0.333333</td>\n      <td>1.000000</td>\n      <td>3.000000</td>\n      <td>0.500000</td>\n      <td>0.0</td>\n      <td>0.0</td>\n      <td>0.0</td>\n      <td>11.000000</td>\n    </tr>\n  </tbody>\n</table>\n<p>8 rows × 634 columns</p>\n</div>"
     },
     "execution_count": 30,
     "metadata": {},
     "output_type": "execute_result"
    }
   ],
   "source": [
    "df.describe()"
   ]
  },
  {
   "cell_type": "code",
   "execution_count": 31,
   "metadata": {
    "pycharm": {
     "name": "#%%\n"
    },
    "ExecuteTime": {
     "end_time": "2023-12-20T19:38:07.402745400Z",
     "start_time": "2023-12-20T19:38:07.250526900Z"
    }
   },
   "outputs": [
    {
     "data": {
      "text/plain": "SK_ID_CURR                               0\nTARGET                               48744\nCODE_GENDER                              0\nFLAG_OWN_CAR                             0\nFLAG_OWN_REALTY                          0\n                                     ...  \nCC_NAME_CONTRACT_STATUS_NAN_MAX     139668\nCC_NAME_CONTRACT_STATUS_NAN_MEAN    139668\nCC_NAME_CONTRACT_STATUS_NAN_SUM     139668\nCC_NAME_CONTRACT_STATUS_NAN_VAR     153279\nCC_COUNT                            139668\nLength: 779, dtype: int64"
     },
     "execution_count": 31,
     "metadata": {},
     "output_type": "execute_result"
    }
   ],
   "source": [
    "df.isna().sum()"
   ]
  },
  {
   "cell_type": "code",
   "execution_count": 32,
   "metadata": {
    "pycharm": {
     "name": "#%%\n"
    },
    "ExecuteTime": {
     "end_time": "2023-12-20T19:38:07.913741800Z",
     "start_time": "2023-12-20T19:38:07.885855300Z"
    }
   },
   "outputs": [
    {
     "name": "stdout",
     "output_type": "stream",
     "text": [
      "<class 'pandas.core.frame.DataFrame'>\n",
      "Index: 168741 entries, 0 to 168743\n",
      "Columns: 779 entries, SK_ID_CURR to CC_COUNT\n",
      "dtypes: bool(133), float64(592), int64(42), object(12)\n",
      "memory usage: 854.3+ MB\n"
     ]
    }
   ],
   "source": [
    "df.info()"
   ]
  },
  {
   "cell_type": "code",
   "execution_count": 33,
   "metadata": {
    "pycharm": {
     "name": "#%%\n"
    },
    "ExecuteTime": {
     "end_time": "2023-12-20T19:38:09.805494600Z",
     "start_time": "2023-12-20T19:38:09.640313100Z"
    }
   },
   "outputs": [],
   "source": [
    "# Liste des colonnes à supprimer\n",
    "colonnes_a_supprimer = ['CC_NAME_CONTRACT_STATUS_ACTIVE_MIN', 'CC_NAME_CONTRACT_STATUS_ACTIVE_MAX', 'CC_NAME_CONTRACT_STATUS_COMPLETED_MIN', 'CC_NAME_CONTRACT_STATUS_COMPLETED_MAX', 'CC_NAME_CONTRACT_STATUS_DEMAND_MIN', 'CC_NAME_CONTRACT_STATUS_DEMAND_MAX', 'CC_NAME_CONTRACT_STATUS_SENTPROPOSAL_MIN', 'CC_NAME_CONTRACT_STATUS_SENTPROPOSAL_MAX', 'CC_NAME_CONTRACT_STATUS_SIGNED_MIN', 'CC_NAME_CONTRACT_STATUS_SIGNED_MAX', 'CC_NAME_CONTRACT_STATUS_NAN_MIN', 'CC_NAME_CONTRACT_STATUS_NAN_MAX', 'CC_NAME_CONTRACT_STATUS_REFUSED_MIN', 'CC_NAME_CONTRACT_STATUS_APPROVED_MAX', 'CC_NAME_CONTRACT_STATUS_REFUSED_MIN', 'CC_NAME_CONTRACT_STATUS_REFUSED_MAX', 'CC_NAME_CONTRACT_STATUS_APPROVED_MIN']\n",
    "\n",
    "# Filtrer la liste pour garder uniquement les colonnes qui existent dans df\n",
    "colonnes_existantes = [col for col in colonnes_a_supprimer if col in df.columns]\n",
    "\n",
    "# Supprimer les colonnes existantes\n",
    "df = df.drop(columns=colonnes_existantes)"
   ]
  },
  {
   "cell_type": "code",
   "execution_count": 33,
   "outputs": [],
   "source": [],
   "metadata": {
    "collapsed": false,
    "ExecuteTime": {
     "end_time": "2023-12-20T19:38:10.940630700Z",
     "start_time": "2023-12-20T19:38:10.915752700Z"
    }
   }
  },
  {
   "cell_type": "markdown",
   "source": [
    "# Suppression des colonnes avec plus de 80% de valeurs manquantes."
   ],
   "metadata": {
    "collapsed": false
   }
  },
  {
   "cell_type": "code",
   "execution_count": 35,
   "outputs": [],
   "source": [
    "\n",
    "# Calculer le nombre de valeurs manquantes par colonne\n",
    "missing_values_count = df.isna().sum()\n",
    "\n",
    "# Calculer le pourcentage de valeurs manquantes pour chaque colonne\n",
    "percent_missing = missing_values_count / len(df) * 100\n",
    "\n",
    "\n"
   ],
   "metadata": {
    "collapsed": false,
    "ExecuteTime": {
     "end_time": "2023-12-20T19:38:40.448335Z",
     "start_time": "2023-12-20T19:38:40.322173600Z"
    }
   }
  },
  {
   "cell_type": "code",
   "execution_count": 36,
   "outputs": [
    {
     "data": {
      "text/plain": "SK_ID_CURR                                 0\nTARGET                                 48744\nCODE_GENDER                                0\nFLAG_OWN_CAR                               0\nFLAG_OWN_REALTY                            0\n                                       ...  \nCC_NAME_CONTRACT_STATUS_SIGNED_VAR    153279\nCC_NAME_CONTRACT_STATUS_NAN_MEAN      139668\nCC_NAME_CONTRACT_STATUS_NAN_SUM       139668\nCC_NAME_CONTRACT_STATUS_NAN_VAR       153279\nCC_COUNT                              139668\nLength: 767, dtype: int64"
     },
     "execution_count": 36,
     "metadata": {},
     "output_type": "execute_result"
    }
   ],
   "source": [
    "missing_values_count"
   ],
   "metadata": {
    "collapsed": false,
    "ExecuteTime": {
     "end_time": "2023-12-20T19:38:41.394413500Z",
     "start_time": "2023-12-20T19:38:41.362785Z"
    }
   }
  },
  {
   "cell_type": "code",
   "execution_count": 37,
   "outputs": [
    {
     "name": "stdout",
     "output_type": "stream",
     "text": [
      "Colonnes à supprimer : ['BURO_DAYS_CREDIT_MIN', 'BURO_DAYS_CREDIT_MAX', 'BURO_DAYS_CREDIT_MEAN', 'BURO_DAYS_CREDIT_VAR', 'BURO_DAYS_CREDIT_ENDDATE_MIN', 'BURO_DAYS_CREDIT_ENDDATE_MAX', 'BURO_DAYS_CREDIT_ENDDATE_MEAN', 'BURO_DAYS_CREDIT_UPDATE_MEAN', 'BURO_CREDIT_DAY_OVERDUE_MAX', 'BURO_CREDIT_DAY_OVERDUE_MEAN', 'BURO_AMT_CREDIT_MAX_OVERDUE_MEAN', 'BURO_AMT_CREDIT_SUM_MAX', 'BURO_AMT_CREDIT_SUM_MEAN', 'BURO_AMT_CREDIT_SUM_SUM', 'BURO_AMT_CREDIT_SUM_DEBT_MAX', 'BURO_AMT_CREDIT_SUM_DEBT_MEAN', 'BURO_AMT_CREDIT_SUM_DEBT_SUM', 'BURO_AMT_CREDIT_SUM_OVERDUE_MEAN', 'BURO_AMT_CREDIT_SUM_LIMIT_MEAN', 'BURO_AMT_CREDIT_SUM_LIMIT_SUM', 'BURO_AMT_ANNUITY_MAX', 'BURO_AMT_ANNUITY_MEAN', 'BURO_CNT_CREDIT_PROLONG_SUM', 'BURO_MONTHS_BALANCE_MIN_MIN', 'BURO_MONTHS_BALANCE_MAX_MAX', 'BURO_MONTHS_BALANCE_SIZE_MEAN', 'BURO_MONTHS_BALANCE_SIZE_SUM', 'BURO_CREDIT_ACTIVE_ACTIVE_MEAN', 'BURO_CREDIT_ACTIVE_BADDEBT_MEAN', 'BURO_CREDIT_ACTIVE_CLOSED_MEAN', 'BURO_CREDIT_ACTIVE_SOLD_MEAN', 'BURO_CREDIT_ACTIVE_NAN_MEAN', 'BURO_CREDIT_CURRENCY_CURRENCY1_MEAN', 'BURO_CREDIT_CURRENCY_CURRENCY2_MEAN', 'BURO_CREDIT_CURRENCY_CURRENCY3_MEAN', 'BURO_CREDIT_CURRENCY_CURRENCY4_MEAN', 'BURO_CREDIT_CURRENCY_NAN_MEAN', 'BURO_CREDIT_TYPE_ANOTHERTYPEOFLOAN_MEAN', 'BURO_CREDIT_TYPE_CARLOAN_MEAN', 'BURO_CREDIT_TYPE_CASHLOANNONEARMARKED_MEAN', 'BURO_CREDIT_TYPE_CONSUMERCREDIT_MEAN', 'BURO_CREDIT_TYPE_CREDITCARD_MEAN', 'BURO_CREDIT_TYPE_LOANFORBUSINESSDEVELOPMENT_MEAN', 'BURO_CREDIT_TYPE_LOANFORTHEPURCHASEOFEQUIPMENT_MEAN', 'BURO_CREDIT_TYPE_LOANFORWORKINGCAPITALREPLENISHMENT_MEAN', 'BURO_CREDIT_TYPE_MICROLOAN_MEAN', 'BURO_CREDIT_TYPE_MORTGAGE_MEAN', 'BURO_CREDIT_TYPE_REALESTATELOAN_MEAN', 'BURO_CREDIT_TYPE_UNKNOWNTYPEOFLOAN_MEAN', 'BURO_CREDIT_TYPE_NAN_MEAN', 'BURO_STATUS_0_MEAN_MEAN', 'BURO_STATUS_1_MEAN_MEAN', 'BURO_STATUS_2_MEAN_MEAN', 'BURO_STATUS_3_MEAN_MEAN', 'BURO_STATUS_4_MEAN_MEAN', 'BURO_STATUS_5_MEAN_MEAN', 'BURO_STATUS_C_MEAN_MEAN', 'BURO_STATUS_X_MEAN_MEAN', 'BURO_STATUS_NAN_MEAN_MEAN', 'ACTIVE_DAYS_CREDIT_MIN', 'ACTIVE_DAYS_CREDIT_MAX', 'ACTIVE_DAYS_CREDIT_MEAN', 'ACTIVE_DAYS_CREDIT_VAR', 'ACTIVE_DAYS_CREDIT_ENDDATE_MIN', 'ACTIVE_DAYS_CREDIT_ENDDATE_MAX', 'ACTIVE_DAYS_CREDIT_ENDDATE_MEAN', 'ACTIVE_DAYS_CREDIT_UPDATE_MEAN', 'ACTIVE_CREDIT_DAY_OVERDUE_MAX', 'ACTIVE_CREDIT_DAY_OVERDUE_MEAN', 'ACTIVE_AMT_CREDIT_MAX_OVERDUE_MEAN', 'ACTIVE_AMT_CREDIT_SUM_MAX', 'ACTIVE_AMT_CREDIT_SUM_MEAN', 'ACTIVE_AMT_CREDIT_SUM_SUM', 'ACTIVE_AMT_CREDIT_SUM_DEBT_MAX', 'ACTIVE_AMT_CREDIT_SUM_DEBT_MEAN', 'ACTIVE_AMT_CREDIT_SUM_DEBT_SUM', 'ACTIVE_AMT_CREDIT_SUM_OVERDUE_MEAN', 'ACTIVE_AMT_CREDIT_SUM_LIMIT_MEAN', 'ACTIVE_AMT_CREDIT_SUM_LIMIT_SUM', 'ACTIVE_AMT_ANNUITY_MAX', 'ACTIVE_AMT_ANNUITY_MEAN', 'ACTIVE_CNT_CREDIT_PROLONG_SUM', 'ACTIVE_MONTHS_BALANCE_MIN_MIN', 'ACTIVE_MONTHS_BALANCE_MAX_MAX', 'ACTIVE_MONTHS_BALANCE_SIZE_MEAN', 'ACTIVE_MONTHS_BALANCE_SIZE_SUM', 'CLOSED_DAYS_CREDIT_MIN', 'CLOSED_DAYS_CREDIT_MAX', 'CLOSED_DAYS_CREDIT_MEAN', 'CLOSED_DAYS_CREDIT_VAR', 'CLOSED_DAYS_CREDIT_ENDDATE_MIN', 'CLOSED_DAYS_CREDIT_ENDDATE_MAX', 'CLOSED_DAYS_CREDIT_ENDDATE_MEAN', 'CLOSED_DAYS_CREDIT_UPDATE_MEAN', 'CLOSED_CREDIT_DAY_OVERDUE_MAX', 'CLOSED_CREDIT_DAY_OVERDUE_MEAN', 'CLOSED_AMT_CREDIT_MAX_OVERDUE_MEAN', 'CLOSED_AMT_CREDIT_SUM_MAX', 'CLOSED_AMT_CREDIT_SUM_MEAN', 'CLOSED_AMT_CREDIT_SUM_SUM', 'CLOSED_AMT_CREDIT_SUM_DEBT_MAX', 'CLOSED_AMT_CREDIT_SUM_DEBT_MEAN', 'CLOSED_AMT_CREDIT_SUM_DEBT_SUM', 'CLOSED_AMT_CREDIT_SUM_OVERDUE_MEAN', 'CLOSED_AMT_CREDIT_SUM_LIMIT_MEAN', 'CLOSED_AMT_CREDIT_SUM_LIMIT_SUM', 'CLOSED_AMT_ANNUITY_MAX', 'CLOSED_AMT_ANNUITY_MEAN', 'CLOSED_CNT_CREDIT_PROLONG_SUM', 'CLOSED_MONTHS_BALANCE_MIN_MIN', 'CLOSED_MONTHS_BALANCE_MAX_MAX', 'CLOSED_MONTHS_BALANCE_SIZE_MEAN', 'CLOSED_MONTHS_BALANCE_SIZE_SUM', 'PREV_APP_CREDIT_PERC_VAR', 'PREV_AMT_DOWN_PAYMENT_MIN', 'PREV_AMT_DOWN_PAYMENT_MAX', 'PREV_AMT_DOWN_PAYMENT_MEAN', 'PREV_RATE_DOWN_PAYMENT_MIN', 'PREV_RATE_DOWN_PAYMENT_MAX', 'PREV_RATE_DOWN_PAYMENT_MEAN', 'APPROVED_AMT_ANNUITY_MIN', 'APPROVED_AMT_ANNUITY_MAX', 'APPROVED_AMT_ANNUITY_MEAN', 'APPROVED_AMT_APPLICATION_MIN', 'APPROVED_AMT_APPLICATION_MAX', 'APPROVED_AMT_APPLICATION_MEAN', 'APPROVED_AMT_CREDIT_MIN', 'APPROVED_AMT_CREDIT_MAX', 'APPROVED_AMT_CREDIT_MEAN', 'APPROVED_APP_CREDIT_PERC_MIN', 'APPROVED_APP_CREDIT_PERC_MAX', 'APPROVED_APP_CREDIT_PERC_MEAN', 'APPROVED_APP_CREDIT_PERC_VAR', 'APPROVED_AMT_DOWN_PAYMENT_MIN', 'APPROVED_AMT_DOWN_PAYMENT_MAX', 'APPROVED_AMT_DOWN_PAYMENT_MEAN', 'APPROVED_AMT_GOODS_PRICE_MIN', 'APPROVED_AMT_GOODS_PRICE_MAX', 'APPROVED_AMT_GOODS_PRICE_MEAN', 'APPROVED_HOUR_APPR_PROCESS_START_MIN', 'APPROVED_HOUR_APPR_PROCESS_START_MAX', 'APPROVED_HOUR_APPR_PROCESS_START_MEAN', 'APPROVED_RATE_DOWN_PAYMENT_MIN', 'APPROVED_RATE_DOWN_PAYMENT_MAX', 'APPROVED_RATE_DOWN_PAYMENT_MEAN', 'APPROVED_DAYS_DECISION_MIN', 'APPROVED_DAYS_DECISION_MAX', 'APPROVED_DAYS_DECISION_MEAN', 'APPROVED_CNT_PAYMENT_MEAN', 'APPROVED_CNT_PAYMENT_SUM', 'REFUSED_AMT_ANNUITY_MIN', 'REFUSED_AMT_ANNUITY_MAX', 'REFUSED_AMT_ANNUITY_MEAN', 'REFUSED_AMT_APPLICATION_MIN', 'REFUSED_AMT_APPLICATION_MAX', 'REFUSED_AMT_APPLICATION_MEAN', 'REFUSED_AMT_CREDIT_MIN', 'REFUSED_AMT_CREDIT_MAX', 'REFUSED_AMT_CREDIT_MEAN', 'REFUSED_APP_CREDIT_PERC_MIN', 'REFUSED_APP_CREDIT_PERC_MAX', 'REFUSED_APP_CREDIT_PERC_MEAN', 'REFUSED_APP_CREDIT_PERC_VAR', 'REFUSED_AMT_DOWN_PAYMENT_MIN', 'REFUSED_AMT_DOWN_PAYMENT_MAX', 'REFUSED_AMT_DOWN_PAYMENT_MEAN', 'REFUSED_AMT_GOODS_PRICE_MIN', 'REFUSED_AMT_GOODS_PRICE_MAX', 'REFUSED_AMT_GOODS_PRICE_MEAN', 'REFUSED_HOUR_APPR_PROCESS_START_MIN', 'REFUSED_HOUR_APPR_PROCESS_START_MAX', 'REFUSED_HOUR_APPR_PROCESS_START_MEAN', 'REFUSED_RATE_DOWN_PAYMENT_MIN', 'REFUSED_RATE_DOWN_PAYMENT_MAX', 'REFUSED_RATE_DOWN_PAYMENT_MEAN', 'REFUSED_DAYS_DECISION_MIN', 'REFUSED_DAYS_DECISION_MAX', 'REFUSED_DAYS_DECISION_MEAN', 'REFUSED_CNT_PAYMENT_MEAN', 'REFUSED_CNT_PAYMENT_SUM', 'INSTAL_PAYMENT_PERC_VAR', 'INSTAL_PAYMENT_DIFF_VAR', 'CC_MONTHS_BALANCE_MIN', 'CC_MONTHS_BALANCE_MAX', 'CC_MONTHS_BALANCE_MEAN', 'CC_MONTHS_BALANCE_SUM', 'CC_MONTHS_BALANCE_VAR', 'CC_AMT_BALANCE_MIN', 'CC_AMT_BALANCE_MAX', 'CC_AMT_BALANCE_MEAN', 'CC_AMT_BALANCE_SUM', 'CC_AMT_BALANCE_VAR', 'CC_AMT_CREDIT_LIMIT_ACTUAL_MIN', 'CC_AMT_CREDIT_LIMIT_ACTUAL_MAX', 'CC_AMT_CREDIT_LIMIT_ACTUAL_MEAN', 'CC_AMT_CREDIT_LIMIT_ACTUAL_SUM', 'CC_AMT_CREDIT_LIMIT_ACTUAL_VAR', 'CC_AMT_DRAWINGS_ATM_CURRENT_MIN', 'CC_AMT_DRAWINGS_ATM_CURRENT_MAX', 'CC_AMT_DRAWINGS_ATM_CURRENT_MEAN', 'CC_AMT_DRAWINGS_ATM_CURRENT_SUM', 'CC_AMT_DRAWINGS_ATM_CURRENT_VAR', 'CC_AMT_DRAWINGS_CURRENT_MIN', 'CC_AMT_DRAWINGS_CURRENT_MAX', 'CC_AMT_DRAWINGS_CURRENT_MEAN', 'CC_AMT_DRAWINGS_CURRENT_SUM', 'CC_AMT_DRAWINGS_CURRENT_VAR', 'CC_AMT_DRAWINGS_OTHER_CURRENT_MIN', 'CC_AMT_DRAWINGS_OTHER_CURRENT_MAX', 'CC_AMT_DRAWINGS_OTHER_CURRENT_MEAN', 'CC_AMT_DRAWINGS_OTHER_CURRENT_SUM', 'CC_AMT_DRAWINGS_OTHER_CURRENT_VAR', 'CC_AMT_DRAWINGS_POS_CURRENT_MIN', 'CC_AMT_DRAWINGS_POS_CURRENT_MAX', 'CC_AMT_DRAWINGS_POS_CURRENT_MEAN', 'CC_AMT_DRAWINGS_POS_CURRENT_SUM', 'CC_AMT_DRAWINGS_POS_CURRENT_VAR', 'CC_AMT_INST_MIN_REGULARITY_MIN', 'CC_AMT_INST_MIN_REGULARITY_MAX', 'CC_AMT_INST_MIN_REGULARITY_MEAN', 'CC_AMT_INST_MIN_REGULARITY_SUM', 'CC_AMT_INST_MIN_REGULARITY_VAR', 'CC_AMT_PAYMENT_CURRENT_MIN', 'CC_AMT_PAYMENT_CURRENT_MAX', 'CC_AMT_PAYMENT_CURRENT_MEAN', 'CC_AMT_PAYMENT_CURRENT_SUM', 'CC_AMT_PAYMENT_CURRENT_VAR', 'CC_AMT_PAYMENT_TOTAL_CURRENT_MIN', 'CC_AMT_PAYMENT_TOTAL_CURRENT_MAX', 'CC_AMT_PAYMENT_TOTAL_CURRENT_MEAN', 'CC_AMT_PAYMENT_TOTAL_CURRENT_SUM', 'CC_AMT_PAYMENT_TOTAL_CURRENT_VAR', 'CC_AMT_RECEIVABLE_PRINCIPAL_MIN', 'CC_AMT_RECEIVABLE_PRINCIPAL_MAX', 'CC_AMT_RECEIVABLE_PRINCIPAL_MEAN', 'CC_AMT_RECEIVABLE_PRINCIPAL_SUM', 'CC_AMT_RECEIVABLE_PRINCIPAL_VAR', 'CC_AMT_RECIVABLE_MIN', 'CC_AMT_RECIVABLE_MAX', 'CC_AMT_RECIVABLE_MEAN', 'CC_AMT_RECIVABLE_SUM', 'CC_AMT_RECIVABLE_VAR', 'CC_AMT_TOTAL_RECEIVABLE_MIN', 'CC_AMT_TOTAL_RECEIVABLE_MAX', 'CC_AMT_TOTAL_RECEIVABLE_MEAN', 'CC_AMT_TOTAL_RECEIVABLE_SUM', 'CC_AMT_TOTAL_RECEIVABLE_VAR', 'CC_CNT_DRAWINGS_ATM_CURRENT_MIN', 'CC_CNT_DRAWINGS_ATM_CURRENT_MAX', 'CC_CNT_DRAWINGS_ATM_CURRENT_MEAN', 'CC_CNT_DRAWINGS_ATM_CURRENT_SUM', 'CC_CNT_DRAWINGS_ATM_CURRENT_VAR', 'CC_CNT_DRAWINGS_CURRENT_MIN', 'CC_CNT_DRAWINGS_CURRENT_MAX', 'CC_CNT_DRAWINGS_CURRENT_MEAN', 'CC_CNT_DRAWINGS_CURRENT_SUM', 'CC_CNT_DRAWINGS_CURRENT_VAR', 'CC_CNT_DRAWINGS_OTHER_CURRENT_MIN', 'CC_CNT_DRAWINGS_OTHER_CURRENT_MAX', 'CC_CNT_DRAWINGS_OTHER_CURRENT_MEAN', 'CC_CNT_DRAWINGS_OTHER_CURRENT_SUM', 'CC_CNT_DRAWINGS_OTHER_CURRENT_VAR', 'CC_CNT_DRAWINGS_POS_CURRENT_MIN', 'CC_CNT_DRAWINGS_POS_CURRENT_MAX', 'CC_CNT_DRAWINGS_POS_CURRENT_MEAN', 'CC_CNT_DRAWINGS_POS_CURRENT_SUM', 'CC_CNT_DRAWINGS_POS_CURRENT_VAR', 'CC_CNT_INSTALMENT_MATURE_CUM_MIN', 'CC_CNT_INSTALMENT_MATURE_CUM_MAX', 'CC_CNT_INSTALMENT_MATURE_CUM_MEAN', 'CC_CNT_INSTALMENT_MATURE_CUM_SUM', 'CC_CNT_INSTALMENT_MATURE_CUM_VAR', 'CC_SK_DPD_MIN', 'CC_SK_DPD_MAX', 'CC_SK_DPD_MEAN', 'CC_SK_DPD_SUM', 'CC_SK_DPD_VAR', 'CC_SK_DPD_DEF_MIN', 'CC_SK_DPD_DEF_MAX', 'CC_SK_DPD_DEF_MEAN', 'CC_SK_DPD_DEF_SUM', 'CC_SK_DPD_DEF_VAR', 'CC_NAME_CONTRACT_STATUS_ACTIVE_MEAN', 'CC_NAME_CONTRACT_STATUS_ACTIVE_SUM', 'CC_NAME_CONTRACT_STATUS_ACTIVE_VAR', 'CC_NAME_CONTRACT_STATUS_COMPLETED_MEAN', 'CC_NAME_CONTRACT_STATUS_COMPLETED_SUM', 'CC_NAME_CONTRACT_STATUS_COMPLETED_VAR', 'CC_NAME_CONTRACT_STATUS_DEMAND_MEAN', 'CC_NAME_CONTRACT_STATUS_DEMAND_SUM', 'CC_NAME_CONTRACT_STATUS_DEMAND_VAR', 'CC_NAME_CONTRACT_STATUS_SENTPROPOSAL_MEAN', 'CC_NAME_CONTRACT_STATUS_SENTPROPOSAL_SUM', 'CC_NAME_CONTRACT_STATUS_SENTPROPOSAL_VAR', 'CC_NAME_CONTRACT_STATUS_SIGNED_MEAN', 'CC_NAME_CONTRACT_STATUS_SIGNED_SUM', 'CC_NAME_CONTRACT_STATUS_SIGNED_VAR', 'CC_NAME_CONTRACT_STATUS_NAN_MEAN', 'CC_NAME_CONTRACT_STATUS_NAN_SUM', 'CC_NAME_CONTRACT_STATUS_NAN_VAR', 'CC_COUNT']\n",
      "Colonnes restantes : ['SK_ID_CURR', 'TARGET', 'CODE_GENDER', 'FLAG_OWN_CAR', 'FLAG_OWN_REALTY', 'CNT_CHILDREN', 'AMT_INCOME_TOTAL', 'AMT_CREDIT', 'AMT_ANNUITY', 'AMT_GOODS_PRICE', 'REGION_POPULATION_RELATIVE', 'DAYS_BIRTH', 'DAYS_EMPLOYED', 'DAYS_REGISTRATION', 'DAYS_ID_PUBLISH', 'OWN_CAR_AGE', 'FLAG_MOBIL', 'FLAG_EMP_PHONE', 'FLAG_WORK_PHONE', 'FLAG_CONT_MOBILE', 'FLAG_PHONE', 'FLAG_EMAIL', 'CNT_FAM_MEMBERS', 'REGION_RATING_CLIENT', 'REGION_RATING_CLIENT_W_CITY', 'HOUR_APPR_PROCESS_START', 'REG_REGION_NOT_LIVE_REGION', 'REG_REGION_NOT_WORK_REGION', 'LIVE_REGION_NOT_WORK_REGION', 'REG_CITY_NOT_LIVE_CITY', 'REG_CITY_NOT_WORK_CITY', 'LIVE_CITY_NOT_WORK_CITY', 'EXT_SOURCE_1', 'EXT_SOURCE_2', 'EXT_SOURCE_3', 'APARTMENTS_AVG', 'BASEMENTAREA_AVG', 'YEARS_BEGINEXPLUATATION_AVG', 'YEARS_BUILD_AVG', 'COMMONAREA_AVG', 'ELEVATORS_AVG', 'ENTRANCES_AVG', 'FLOORSMAX_AVG', 'FLOORSMIN_AVG', 'LANDAREA_AVG', 'LIVINGAPARTMENTS_AVG', 'LIVINGAREA_AVG', 'NONLIVINGAPARTMENTS_AVG', 'NONLIVINGAREA_AVG', 'APARTMENTS_MODE', 'BASEMENTAREA_MODE', 'YEARS_BEGINEXPLUATATION_MODE', 'YEARS_BUILD_MODE', 'COMMONAREA_MODE', 'ELEVATORS_MODE', 'ENTRANCES_MODE', 'FLOORSMAX_MODE', 'FLOORSMIN_MODE', 'LANDAREA_MODE', 'LIVINGAPARTMENTS_MODE', 'LIVINGAREA_MODE', 'NONLIVINGAPARTMENTS_MODE', 'NONLIVINGAREA_MODE', 'APARTMENTS_MEDI', 'BASEMENTAREA_MEDI', 'YEARS_BEGINEXPLUATATION_MEDI', 'YEARS_BUILD_MEDI', 'COMMONAREA_MEDI', 'ELEVATORS_MEDI', 'ENTRANCES_MEDI', 'FLOORSMAX_MEDI', 'FLOORSMIN_MEDI', 'LANDAREA_MEDI', 'LIVINGAPARTMENTS_MEDI', 'LIVINGAREA_MEDI', 'NONLIVINGAPARTMENTS_MEDI', 'NONLIVINGAREA_MEDI', 'TOTALAREA_MODE', 'OBS_30_CNT_SOCIAL_CIRCLE', 'DEF_30_CNT_SOCIAL_CIRCLE', 'OBS_60_CNT_SOCIAL_CIRCLE', 'DEF_60_CNT_SOCIAL_CIRCLE', 'DAYS_LAST_PHONE_CHANGE', 'FLAG_DOCUMENT_2', 'FLAG_DOCUMENT_3', 'FLAG_DOCUMENT_4', 'FLAG_DOCUMENT_5', 'FLAG_DOCUMENT_6', 'FLAG_DOCUMENT_7', 'FLAG_DOCUMENT_8', 'FLAG_DOCUMENT_9', 'FLAG_DOCUMENT_10', 'FLAG_DOCUMENT_11', 'FLAG_DOCUMENT_12', 'FLAG_DOCUMENT_13', 'FLAG_DOCUMENT_14', 'FLAG_DOCUMENT_15', 'FLAG_DOCUMENT_16', 'FLAG_DOCUMENT_17', 'FLAG_DOCUMENT_18', 'FLAG_DOCUMENT_19', 'FLAG_DOCUMENT_20', 'FLAG_DOCUMENT_21', 'AMT_REQ_CREDIT_BUREAU_HOUR', 'AMT_REQ_CREDIT_BUREAU_DAY', 'AMT_REQ_CREDIT_BUREAU_WEEK', 'AMT_REQ_CREDIT_BUREAU_MON', 'AMT_REQ_CREDIT_BUREAU_QRT', 'AMT_REQ_CREDIT_BUREAU_YEAR', 'NAME_CONTRACT_TYPE_CASHLOANS', 'NAME_CONTRACT_TYPE_REVOLVINGLOANS', 'NAME_TYPE_SUITE_CHILDREN', 'NAME_TYPE_SUITE_FAMILY', 'NAME_TYPE_SUITE_GROUPOFPEOPLE', 'NAME_TYPE_SUITE_OTHER_A', 'NAME_TYPE_SUITE_OTHER_B', 'NAME_TYPE_SUITE_SPOUSEPARTNER', 'NAME_TYPE_SUITE_UNACCOMPANIED', 'NAME_INCOME_TYPE_BUSINESSMAN', 'NAME_INCOME_TYPE_COMMERCIALASSOCIATE', 'NAME_INCOME_TYPE_MATERNITYLEAVE', 'NAME_INCOME_TYPE_PENSIONER', 'NAME_INCOME_TYPE_STATESERVANT', 'NAME_INCOME_TYPE_STUDENT', 'NAME_INCOME_TYPE_UNEMPLOYED', 'NAME_INCOME_TYPE_WORKING', 'NAME_EDUCATION_TYPE_ACADEMICDEGREE', 'NAME_EDUCATION_TYPE_HIGHEREDUCATION', 'NAME_EDUCATION_TYPE_INCOMPLETEHIGHER', 'NAME_EDUCATION_TYPE_LOWERSECONDARY', 'NAME_EDUCATION_TYPE_SECONDARYSECONDARYSPECIAL', 'NAME_FAMILY_STATUS_CIVILMARRIAGE', 'NAME_FAMILY_STATUS_MARRIED', 'NAME_FAMILY_STATUS_SEPARATED', 'NAME_FAMILY_STATUS_SINGLENOTMARRIED', 'NAME_FAMILY_STATUS_UNKNOWN', 'NAME_FAMILY_STATUS_WIDOW', 'NAME_HOUSING_TYPE_COOPAPARTMENT', 'NAME_HOUSING_TYPE_HOUSEAPARTMENT', 'NAME_HOUSING_TYPE_MUNICIPALAPARTMENT', 'NAME_HOUSING_TYPE_OFFICEAPARTMENT', 'NAME_HOUSING_TYPE_RENTEDAPARTMENT', 'NAME_HOUSING_TYPE_WITHPARENTS', 'OCCUPATION_TYPE_ACCOUNTANTS', 'OCCUPATION_TYPE_CLEANINGSTAFF', 'OCCUPATION_TYPE_COOKINGSTAFF', 'OCCUPATION_TYPE_CORESTAFF', 'OCCUPATION_TYPE_DRIVERS', 'OCCUPATION_TYPE_HRSTAFF', 'OCCUPATION_TYPE_HIGHSKILLTECHSTAFF', 'OCCUPATION_TYPE_ITSTAFF', 'OCCUPATION_TYPE_LABORERS', 'OCCUPATION_TYPE_LOWSKILLLABORERS', 'OCCUPATION_TYPE_MANAGERS', 'OCCUPATION_TYPE_MEDICINESTAFF', 'OCCUPATION_TYPE_PRIVATESERVICESTAFF', 'OCCUPATION_TYPE_REALTYAGENTS', 'OCCUPATION_TYPE_SALESSTAFF', 'OCCUPATION_TYPE_SECRETARIES', 'OCCUPATION_TYPE_SECURITYSTAFF', 'OCCUPATION_TYPE_WAITERSBARMENSTAFF', 'WEEKDAY_APPR_PROCESS_START_FRIDAY', 'WEEKDAY_APPR_PROCESS_START_MONDAY', 'WEEKDAY_APPR_PROCESS_START_SATURDAY', 'WEEKDAY_APPR_PROCESS_START_SUNDAY', 'WEEKDAY_APPR_PROCESS_START_THURSDAY', 'WEEKDAY_APPR_PROCESS_START_TUESDAY', 'WEEKDAY_APPR_PROCESS_START_WEDNESDAY', 'ORGANIZATION_TYPE_ADVERTISING', 'ORGANIZATION_TYPE_AGRICULTURE', 'ORGANIZATION_TYPE_BANK', 'ORGANIZATION_TYPE_BUSINESSENTITYTYPE1', 'ORGANIZATION_TYPE_BUSINESSENTITYTYPE2', 'ORGANIZATION_TYPE_BUSINESSENTITYTYPE3', 'ORGANIZATION_TYPE_CLEANING', 'ORGANIZATION_TYPE_CONSTRUCTION', 'ORGANIZATION_TYPE_CULTURE', 'ORGANIZATION_TYPE_ELECTRICITY', 'ORGANIZATION_TYPE_EMERGENCY', 'ORGANIZATION_TYPE_GOVERNMENT', 'ORGANIZATION_TYPE_HOTEL', 'ORGANIZATION_TYPE_HOUSING', 'ORGANIZATION_TYPE_INDUSTRYTYPE1', 'ORGANIZATION_TYPE_INDUSTRYTYPE10', 'ORGANIZATION_TYPE_INDUSTRYTYPE11', 'ORGANIZATION_TYPE_INDUSTRYTYPE12', 'ORGANIZATION_TYPE_INDUSTRYTYPE13', 'ORGANIZATION_TYPE_INDUSTRYTYPE2', 'ORGANIZATION_TYPE_INDUSTRYTYPE3', 'ORGANIZATION_TYPE_INDUSTRYTYPE4', 'ORGANIZATION_TYPE_INDUSTRYTYPE5', 'ORGANIZATION_TYPE_INDUSTRYTYPE6', 'ORGANIZATION_TYPE_INDUSTRYTYPE7', 'ORGANIZATION_TYPE_INDUSTRYTYPE8', 'ORGANIZATION_TYPE_INDUSTRYTYPE9', 'ORGANIZATION_TYPE_INSURANCE', 'ORGANIZATION_TYPE_KINDERGARTEN', 'ORGANIZATION_TYPE_LEGALSERVICES', 'ORGANIZATION_TYPE_MEDICINE', 'ORGANIZATION_TYPE_MILITARY', 'ORGANIZATION_TYPE_MOBILE', 'ORGANIZATION_TYPE_OTHER', 'ORGANIZATION_TYPE_POLICE', 'ORGANIZATION_TYPE_POSTAL', 'ORGANIZATION_TYPE_REALTOR', 'ORGANIZATION_TYPE_RELIGION', 'ORGANIZATION_TYPE_RESTAURANT', 'ORGANIZATION_TYPE_SCHOOL', 'ORGANIZATION_TYPE_SECURITY', 'ORGANIZATION_TYPE_SECURITYMINISTRIES', 'ORGANIZATION_TYPE_SELFEMPLOYED', 'ORGANIZATION_TYPE_SERVICES', 'ORGANIZATION_TYPE_TELECOM', 'ORGANIZATION_TYPE_TRADETYPE1', 'ORGANIZATION_TYPE_TRADETYPE2', 'ORGANIZATION_TYPE_TRADETYPE3', 'ORGANIZATION_TYPE_TRADETYPE4', 'ORGANIZATION_TYPE_TRADETYPE5', 'ORGANIZATION_TYPE_TRADETYPE6', 'ORGANIZATION_TYPE_TRADETYPE7', 'ORGANIZATION_TYPE_TRANSPORTTYPE1', 'ORGANIZATION_TYPE_TRANSPORTTYPE2', 'ORGANIZATION_TYPE_TRANSPORTTYPE3', 'ORGANIZATION_TYPE_TRANSPORTTYPE4', 'ORGANIZATION_TYPE_UNIVERSITY', 'ORGANIZATION_TYPE_XNA', 'FONDKAPREMONT_MODE_NOTSPECIFIED', 'FONDKAPREMONT_MODE_ORGSPECACCOUNT', 'FONDKAPREMONT_MODE_REGOPERACCOUNT', 'FONDKAPREMONT_MODE_REGOPERSPECACCOUNT', 'HOUSETYPE_MODE_BLOCKOFFLATS', 'HOUSETYPE_MODE_SPECIFICHOUSING', 'HOUSETYPE_MODE_TERRACEDHOUSE', 'WALLSMATERIAL_MODE_BLOCK', 'WALLSMATERIAL_MODE_MIXED', 'WALLSMATERIAL_MODE_MONOLITHIC', 'WALLSMATERIAL_MODE_OTHERS', 'WALLSMATERIAL_MODE_PANEL', 'WALLSMATERIAL_MODE_STONEBRICK', 'WALLSMATERIAL_MODE_WOODEN', 'EMERGENCYSTATE_MODE_NO', 'EMERGENCYSTATE_MODE_YES', 'DAYS_EMPLOYED_PERC', 'INCOME_CREDIT_PERC', 'INCOME_PER_PERSON', 'ANNUITY_INCOME_PERC', 'PAYMENT_RATE', 'PREV_AMT_ANNUITY_MIN', 'PREV_AMT_ANNUITY_MAX', 'PREV_AMT_ANNUITY_MEAN', 'PREV_AMT_APPLICATION_MIN', 'PREV_AMT_APPLICATION_MAX', 'PREV_AMT_APPLICATION_MEAN', 'PREV_AMT_CREDIT_MIN', 'PREV_AMT_CREDIT_MAX', 'PREV_AMT_CREDIT_MEAN', 'PREV_APP_CREDIT_PERC_MIN', 'PREV_APP_CREDIT_PERC_MAX', 'PREV_APP_CREDIT_PERC_MEAN', 'PREV_AMT_GOODS_PRICE_MIN', 'PREV_AMT_GOODS_PRICE_MAX', 'PREV_AMT_GOODS_PRICE_MEAN', 'PREV_HOUR_APPR_PROCESS_START_MIN', 'PREV_HOUR_APPR_PROCESS_START_MAX', 'PREV_HOUR_APPR_PROCESS_START_MEAN', 'PREV_DAYS_DECISION_MIN', 'PREV_DAYS_DECISION_MAX', 'PREV_DAYS_DECISION_MEAN', 'PREV_CNT_PAYMENT_MEAN', 'PREV_CNT_PAYMENT_SUM', 'PREV_NAME_CONTRACT_TYPE_CASHLOANS_MEAN', 'PREV_NAME_CONTRACT_TYPE_CONSUMERLOANS_MEAN', 'PREV_NAME_CONTRACT_TYPE_REVOLVINGLOANS_MEAN', 'PREV_NAME_CONTRACT_TYPE_XNA_MEAN', 'PREV_NAME_CONTRACT_TYPE_NAN_MEAN', 'PREV_WEEKDAY_APPR_PROCESS_START_FRIDAY_MEAN', 'PREV_WEEKDAY_APPR_PROCESS_START_MONDAY_MEAN', 'PREV_WEEKDAY_APPR_PROCESS_START_SATURDAY_MEAN', 'PREV_WEEKDAY_APPR_PROCESS_START_SUNDAY_MEAN', 'PREV_WEEKDAY_APPR_PROCESS_START_THURSDAY_MEAN', 'PREV_WEEKDAY_APPR_PROCESS_START_TUESDAY_MEAN', 'PREV_WEEKDAY_APPR_PROCESS_START_WEDNESDAY_MEAN', 'PREV_WEEKDAY_APPR_PROCESS_START_NAN_MEAN', 'PREV_FLAG_LAST_APPL_PER_CONTRACT_N_MEAN', 'PREV_FLAG_LAST_APPL_PER_CONTRACT_Y_MEAN', 'PREV_FLAG_LAST_APPL_PER_CONTRACT_NAN_MEAN', 'PREV_NAME_CASH_LOAN_PURPOSE_BUILDINGAHOUSEORANANNEX_MEAN', 'PREV_NAME_CASH_LOAN_PURPOSE_BUSINESSDEVELOPMENT_MEAN', 'PREV_NAME_CASH_LOAN_PURPOSE_BUYINGAGARAGE_MEAN', 'PREV_NAME_CASH_LOAN_PURPOSE_BUYINGAHOLIDAYHOMELAND_MEAN', 'PREV_NAME_CASH_LOAN_PURPOSE_BUYINGAHOME_MEAN', 'PREV_NAME_CASH_LOAN_PURPOSE_BUYINGANEWCAR_MEAN', 'PREV_NAME_CASH_LOAN_PURPOSE_BUYINGAUSEDCAR_MEAN', 'PREV_NAME_CASH_LOAN_PURPOSE_CARREPAIRS_MEAN', 'PREV_NAME_CASH_LOAN_PURPOSE_EDUCATION_MEAN', 'PREV_NAME_CASH_LOAN_PURPOSE_EVERYDAYEXPENSES_MEAN', 'PREV_NAME_CASH_LOAN_PURPOSE_FURNITURE_MEAN', 'PREV_NAME_CASH_LOAN_PURPOSE_GASIFICATIONWATERSUPPLY_MEAN', 'PREV_NAME_CASH_LOAN_PURPOSE_HOBBY_MEAN', 'PREV_NAME_CASH_LOAN_PURPOSE_JOURNEY_MEAN', 'PREV_NAME_CASH_LOAN_PURPOSE_MEDICINE_MEAN', 'PREV_NAME_CASH_LOAN_PURPOSE_MONEYFORATHIRDPERSON_MEAN', 'PREV_NAME_CASH_LOAN_PURPOSE_OTHER_MEAN', 'PREV_NAME_CASH_LOAN_PURPOSE_PAYMENTSONOTHERLOANS_MEAN', 'PREV_NAME_CASH_LOAN_PURPOSE_PURCHASEOFELECTRONICEQUIPMENT_MEAN', 'PREV_NAME_CASH_LOAN_PURPOSE_REFUSALTONAMETHEGOAL_MEAN', 'PREV_NAME_CASH_LOAN_PURPOSE_REPAIRS_MEAN', 'PREV_NAME_CASH_LOAN_PURPOSE_URGENTNEEDS_MEAN', 'PREV_NAME_CASH_LOAN_PURPOSE_WEDDINGGIFTHOLIDAY_MEAN', 'PREV_NAME_CASH_LOAN_PURPOSE_XAP_MEAN', 'PREV_NAME_CASH_LOAN_PURPOSE_XNA_MEAN', 'PREV_NAME_CASH_LOAN_PURPOSE_NAN_MEAN', 'PREV_NAME_CONTRACT_STATUS_APPROVED_MEAN', 'PREV_NAME_CONTRACT_STATUS_CANCELED_MEAN', 'PREV_NAME_CONTRACT_STATUS_REFUSED_MEAN', 'PREV_NAME_CONTRACT_STATUS_UNUSEDOFFER_MEAN', 'PREV_NAME_CONTRACT_STATUS_NAN_MEAN', 'PREV_NAME_PAYMENT_TYPE_CASHTHROUGHTHEBANK_MEAN', 'PREV_NAME_PAYMENT_TYPE_CASHLESSFROMTHEACCOUNTOFTHEEMPLOYER_MEAN', 'PREV_NAME_PAYMENT_TYPE_NONCASHFROMYOURACCOUNT_MEAN', 'PREV_NAME_PAYMENT_TYPE_XNA_MEAN', 'PREV_NAME_PAYMENT_TYPE_NAN_MEAN', 'PREV_CODE_REJECT_REASON_CLIENT_MEAN', 'PREV_CODE_REJECT_REASON_HC_MEAN', 'PREV_CODE_REJECT_REASON_LIMIT_MEAN', 'PREV_CODE_REJECT_REASON_SCO_MEAN', 'PREV_CODE_REJECT_REASON_SCOFR_MEAN', 'PREV_CODE_REJECT_REASON_SYSTEM_MEAN', 'PREV_CODE_REJECT_REASON_VERIF_MEAN', 'PREV_CODE_REJECT_REASON_XAP_MEAN', 'PREV_CODE_REJECT_REASON_XNA_MEAN', 'PREV_CODE_REJECT_REASON_NAN_MEAN', 'PREV_NAME_TYPE_SUITE_CHILDREN_MEAN', 'PREV_NAME_TYPE_SUITE_FAMILY_MEAN', 'PREV_NAME_TYPE_SUITE_GROUPOFPEOPLE_MEAN', 'PREV_NAME_TYPE_SUITE_OTHER_A_MEAN', 'PREV_NAME_TYPE_SUITE_OTHER_B_MEAN', 'PREV_NAME_TYPE_SUITE_SPOUSEPARTNER_MEAN', 'PREV_NAME_TYPE_SUITE_UNACCOMPANIED_MEAN', 'PREV_NAME_TYPE_SUITE_NAN_MEAN', 'PREV_NAME_CLIENT_TYPE_NEW_MEAN', 'PREV_NAME_CLIENT_TYPE_REFRESHED_MEAN', 'PREV_NAME_CLIENT_TYPE_REPEATER_MEAN', 'PREV_NAME_CLIENT_TYPE_XNA_MEAN', 'PREV_NAME_CLIENT_TYPE_NAN_MEAN', 'PREV_NAME_GOODS_CATEGORY_ADDITIONALSERVICE_MEAN', 'PREV_NAME_GOODS_CATEGORY_AUDIOVIDEO_MEAN', 'PREV_NAME_GOODS_CATEGORY_AUTOACCESSORIES_MEAN', 'PREV_NAME_GOODS_CATEGORY_CLOTHINGANDACCESSORIES_MEAN', 'PREV_NAME_GOODS_CATEGORY_COMPUTERS_MEAN', 'PREV_NAME_GOODS_CATEGORY_CONSTRUCTIONMATERIALS_MEAN', 'PREV_NAME_GOODS_CATEGORY_CONSUMERELECTRONICS_MEAN', 'PREV_NAME_GOODS_CATEGORY_DIRECTSALES_MEAN', 'PREV_NAME_GOODS_CATEGORY_EDUCATION_MEAN', 'PREV_NAME_GOODS_CATEGORY_FITNESS_MEAN', 'PREV_NAME_GOODS_CATEGORY_FURNITURE_MEAN', 'PREV_NAME_GOODS_CATEGORY_GARDENING_MEAN', 'PREV_NAME_GOODS_CATEGORY_HOMEWARES_MEAN', 'PREV_NAME_GOODS_CATEGORY_INSURANCE_MEAN', 'PREV_NAME_GOODS_CATEGORY_JEWELRY_MEAN', 'PREV_NAME_GOODS_CATEGORY_MEDICALSUPPLIES_MEAN', 'PREV_NAME_GOODS_CATEGORY_MEDICINE_MEAN', 'PREV_NAME_GOODS_CATEGORY_MOBILE_MEAN', 'PREV_NAME_GOODS_CATEGORY_OFFICEAPPLIANCES_MEAN', 'PREV_NAME_GOODS_CATEGORY_OTHER_MEAN', 'PREV_NAME_GOODS_CATEGORY_PHOTOCINEMAEQUIPMENT_MEAN', 'PREV_NAME_GOODS_CATEGORY_SPORTANDLEISURE_MEAN', 'PREV_NAME_GOODS_CATEGORY_TOURISM_MEAN', 'PREV_NAME_GOODS_CATEGORY_VEHICLES_MEAN', 'PREV_NAME_GOODS_CATEGORY_WEAPON_MEAN', 'PREV_NAME_GOODS_CATEGORY_XNA_MEAN', 'PREV_NAME_GOODS_CATEGORY_NAN_MEAN', 'PREV_NAME_PORTFOLIO_CARDS_MEAN', 'PREV_NAME_PORTFOLIO_CARS_MEAN', 'PREV_NAME_PORTFOLIO_CASH_MEAN', 'PREV_NAME_PORTFOLIO_POS_MEAN', 'PREV_NAME_PORTFOLIO_XNA_MEAN', 'PREV_NAME_PORTFOLIO_NAN_MEAN', 'PREV_NAME_PRODUCT_TYPE_XNA_MEAN', 'PREV_NAME_PRODUCT_TYPE_WALKIN_MEAN', 'PREV_NAME_PRODUCT_TYPE_XSELL_MEAN', 'PREV_NAME_PRODUCT_TYPE_NAN_MEAN', 'PREV_CHANNEL_TYPE_APCASHLOAN_MEAN', 'PREV_CHANNEL_TYPE_CARDEALER_MEAN', 'PREV_CHANNEL_TYPE_CHANNELOFCORPORATESALES_MEAN', 'PREV_CHANNEL_TYPE_CONTACTCENTER_MEAN', 'PREV_CHANNEL_TYPE_COUNTRYWIDE_MEAN', 'PREV_CHANNEL_TYPE_CREDITANDCASHOFFICES_MEAN', 'PREV_CHANNEL_TYPE_REGIONALLOCAL_MEAN', 'PREV_CHANNEL_TYPE_STONE_MEAN', 'PREV_CHANNEL_TYPE_NAN_MEAN', 'PREV_NAME_SELLER_INDUSTRY_AUTOTECHNOLOGY_MEAN', 'PREV_NAME_SELLER_INDUSTRY_CLOTHING_MEAN', 'PREV_NAME_SELLER_INDUSTRY_CONNECTIVITY_MEAN', 'PREV_NAME_SELLER_INDUSTRY_CONSTRUCTION_MEAN', 'PREV_NAME_SELLER_INDUSTRY_CONSUMERELECTRONICS_MEAN', 'PREV_NAME_SELLER_INDUSTRY_FURNITURE_MEAN', 'PREV_NAME_SELLER_INDUSTRY_INDUSTRY_MEAN', 'PREV_NAME_SELLER_INDUSTRY_JEWELRY_MEAN', 'PREV_NAME_SELLER_INDUSTRY_MLMPARTNERS_MEAN', 'PREV_NAME_SELLER_INDUSTRY_TOURISM_MEAN', 'PREV_NAME_SELLER_INDUSTRY_XNA_MEAN', 'PREV_NAME_SELLER_INDUSTRY_NAN_MEAN', 'PREV_NAME_YIELD_GROUP_XNA_MEAN', 'PREV_NAME_YIELD_GROUP_HIGH_MEAN', 'PREV_NAME_YIELD_GROUP_LOW_ACTION_MEAN', 'PREV_NAME_YIELD_GROUP_LOW_NORMAL_MEAN', 'PREV_NAME_YIELD_GROUP_MIDDLE_MEAN', 'PREV_NAME_YIELD_GROUP_NAN_MEAN', 'PREV_PRODUCT_COMBINATION_CARDSTREET_MEAN', 'PREV_PRODUCT_COMBINATION_CARDXSELL_MEAN', 'PREV_PRODUCT_COMBINATION_CASH_MEAN', 'PREV_PRODUCT_COMBINATION_CASHSTREETHIGH_MEAN', 'PREV_PRODUCT_COMBINATION_CASHSTREETLOW_MEAN', 'PREV_PRODUCT_COMBINATION_CASHSTREETMIDDLE_MEAN', 'PREV_PRODUCT_COMBINATION_CASHXSELLHIGH_MEAN', 'PREV_PRODUCT_COMBINATION_CASHXSELLLOW_MEAN', 'PREV_PRODUCT_COMBINATION_CASHXSELLMIDDLE_MEAN', 'PREV_PRODUCT_COMBINATION_POSHOUSEHOLDWITHINTEREST_MEAN', 'PREV_PRODUCT_COMBINATION_POSHOUSEHOLDWITHOUTINTEREST_MEAN', 'PREV_PRODUCT_COMBINATION_POSINDUSTRYWITHINTEREST_MEAN', 'PREV_PRODUCT_COMBINATION_POSINDUSTRYWITHOUTINTEREST_MEAN', 'PREV_PRODUCT_COMBINATION_POSMOBILEWITHINTEREST_MEAN', 'PREV_PRODUCT_COMBINATION_POSMOBILEWITHOUTINTEREST_MEAN', 'PREV_PRODUCT_COMBINATION_POSOTHERWITHINTEREST_MEAN', 'PREV_PRODUCT_COMBINATION_POSOTHERSWITHOUTINTEREST_MEAN', 'PREV_PRODUCT_COMBINATION_NAN_MEAN', 'POS_MONTHS_BALANCE_MAX', 'POS_MONTHS_BALANCE_MEAN', 'POS_MONTHS_BALANCE_SIZE', 'POS_SK_DPD_MAX', 'POS_SK_DPD_MEAN', 'POS_SK_DPD_DEF_MAX', 'POS_SK_DPD_DEF_MEAN', 'POS_NAME_CONTRACT_STATUS_ACTIVE_MEAN', 'POS_NAME_CONTRACT_STATUS_APPROVED_MEAN', 'POS_NAME_CONTRACT_STATUS_COMPLETED_MEAN', 'POS_NAME_CONTRACT_STATUS_DEMAND_MEAN', 'POS_NAME_CONTRACT_STATUS_RETURNEDTOTHESTORE_MEAN', 'POS_NAME_CONTRACT_STATUS_SIGNED_MEAN', 'POS_NAME_CONTRACT_STATUS_NAN_MEAN', 'POS_COUNT', 'INSTAL_NUM_INSTALMENT_VERSION_NUNIQUE', 'INSTAL_DPD_MAX', 'INSTAL_DPD_MEAN', 'INSTAL_DPD_SUM', 'INSTAL_DBD_MAX', 'INSTAL_DBD_MEAN', 'INSTAL_DBD_SUM', 'INSTAL_PAYMENT_PERC_MAX', 'INSTAL_PAYMENT_PERC_MEAN', 'INSTAL_PAYMENT_PERC_SUM', 'INSTAL_PAYMENT_DIFF_MAX', 'INSTAL_PAYMENT_DIFF_MEAN', 'INSTAL_PAYMENT_DIFF_SUM', 'INSTAL_AMT_INSTALMENT_MAX', 'INSTAL_AMT_INSTALMENT_MEAN', 'INSTAL_AMT_INSTALMENT_SUM', 'INSTAL_AMT_PAYMENT_MIN', 'INSTAL_AMT_PAYMENT_MAX', 'INSTAL_AMT_PAYMENT_MEAN', 'INSTAL_AMT_PAYMENT_SUM', 'INSTAL_DAYS_ENTRY_PAYMENT_MAX', 'INSTAL_DAYS_ENTRY_PAYMENT_MEAN', 'INSTAL_DAYS_ENTRY_PAYMENT_SUM', 'INSTAL_COUNT']\n"
     ]
    }
   ],
   "source": [
    "# Identifier les colonnes où le pourcentage de valeurs manquantes est supérieur à 80%\n",
    "columns_to_drop = percent_missing[percent_missing > 80].index\n",
    "\n",
    "# Afficher les colonnes qui seront supprimées\n",
    "print(\"Colonnes à supprimer :\", columns_to_drop.tolist())\n",
    "\n",
    "# Supprimer ces colonnes du DataFrame\n",
    "df = df.drop(columns=columns_to_drop)\n",
    "\n",
    "# Afficher les colonnes restantes après suppression\n",
    "print(\"Colonnes restantes :\", df.columns.tolist())"
   ],
   "metadata": {
    "collapsed": false,
    "ExecuteTime": {
     "end_time": "2023-12-20T19:38:42.892098700Z",
     "start_time": "2023-12-20T19:38:42.785864600Z"
    }
   }
  },
  {
   "cell_type": "code",
   "execution_count": 38,
   "metadata": {
    "pycharm": {
     "name": "#%%\n"
    },
    "ExecuteTime": {
     "end_time": "2023-12-20T19:38:58.006014Z",
     "start_time": "2023-12-20T19:38:45.540487200Z"
    }
   },
   "outputs": [],
   "source": [
    "df.to_csv('../ressources/processed_data.csv', index=False)"
   ]
  },
  {
   "cell_type": "code",
   "execution_count": 39,
   "outputs": [],
   "source": [
    "from sklearn.model_selection import train_test_split\n",
    "\n",
    "train_df = df[df['TARGET'].notnull()]\n",
    "final_test_df = df[df['TARGET'].isnull()]"
   ],
   "metadata": {
    "collapsed": false,
    "ExecuteTime": {
     "end_time": "2023-12-20T19:39:09.372846600Z",
     "start_time": "2023-12-20T19:39:09.230699700Z"
    }
   }
  },
  {
   "cell_type": "code",
   "execution_count": 40,
   "outputs": [
    {
     "name": "stderr",
     "output_type": "stream",
     "text": [
      "C:\\Users\\PC1\\anaconda3\\envs\\myenv\\lib\\site-packages\\numpy\\lib\\function_base.py:2897: RuntimeWarning: invalid value encountered in divide\n",
      "  c /= stddev[:, None]\n",
      "C:\\Users\\PC1\\anaconda3\\envs\\myenv\\lib\\site-packages\\numpy\\lib\\function_base.py:2898: RuntimeWarning: invalid value encountered in divide\n",
      "  c /= stddev[None, :]\n",
      "C:\\Users\\PC1\\anaconda3\\envs\\myenv\\lib\\site-packages\\numpy\\lib\\function_base.py:2742: RuntimeWarning: invalid value encountered in subtract\n",
      "  X -= avg[:, None]\n"
     ]
    }
   ],
   "source": [
    "import pandas as pd\n",
    "import seaborn as sns\n",
    "import matplotlib.pyplot as plt\n",
    "\n",
    "target_correlation = train_df.corrwith(train_df['TARGET'])\n"
   ],
   "metadata": {
    "collapsed": false,
    "ExecuteTime": {
     "end_time": "2023-12-20T19:39:18.433559900Z",
     "start_time": "2023-12-20T19:39:17.897556700Z"
    }
   }
  },
  {
   "cell_type": "code",
   "execution_count": 41,
   "outputs": [],
   "source": [
    "sorted_correlations = target_correlation.abs().sort_values(ascending=False)\n",
    "\n",
    "# Sélectionner les 40 caractéristiques les plus corrélées\n",
    "top_40_features = sorted_correlations.head(40).index.tolist()"
   ],
   "metadata": {
    "collapsed": false,
    "ExecuteTime": {
     "end_time": "2023-12-20T19:39:18.540412200Z",
     "start_time": "2023-12-20T19:39:18.493581200Z"
    }
   }
  },
  {
   "cell_type": "code",
   "execution_count": 42,
   "outputs": [
    {
     "data": {
      "text/plain": "SK_ID_CURR                        0.004508\nTARGET                            1.000000\nCODE_GENDER                      -0.056059\nFLAG_OWN_CAR                     -0.020716\nFLAG_OWN_REALTY                   0.006211\n                                    ...   \nINSTAL_AMT_PAYMENT_SUM           -0.016546\nINSTAL_DAYS_ENTRY_PAYMENT_MAX     0.025354\nINSTAL_DAYS_ENTRY_PAYMENT_MEAN    0.039821\nINSTAL_DAYS_ENTRY_PAYMENT_SUM     0.033452\nINSTAL_COUNT                     -0.014378\nLength: 466, dtype: float64"
     },
     "execution_count": 42,
     "metadata": {},
     "output_type": "execute_result"
    }
   ],
   "source": [
    "target_correlation"
   ],
   "metadata": {
    "collapsed": false,
    "ExecuteTime": {
     "end_time": "2023-12-20T19:39:18.856560900Z",
     "start_time": "2023-12-20T19:39:18.824465Z"
    }
   }
  },
  {
   "cell_type": "code",
   "execution_count": 43,
   "outputs": [
    {
     "data": {
      "text/plain": "['TARGET',\n 'EXT_SOURCE_3',\n 'EXT_SOURCE_2',\n 'EXT_SOURCE_1',\n 'DAYS_BIRTH',\n 'DAYS_EMPLOYED',\n 'DAYS_EMPLOYED_PERC',\n 'REGION_RATING_CLIENT_W_CITY',\n 'REGION_RATING_CLIENT',\n 'PREV_NAME_CONTRACT_STATUS_APPROVED_MEAN',\n 'NAME_INCOME_TYPE_WORKING',\n 'PREV_NAME_CONTRACT_STATUS_REFUSED_MEAN',\n 'NAME_EDUCATION_TYPE_HIGHEREDUCATION',\n 'CODE_GENDER',\n 'PREV_CODE_REJECT_REASON_SCOFR_MEAN',\n 'PREV_CODE_REJECT_REASON_XAP_MEAN',\n 'DAYS_LAST_PHONE_CHANGE',\n 'DAYS_ID_PUBLISH',\n 'REG_CITY_NOT_WORK_CITY',\n 'NAME_EDUCATION_TYPE_SECONDARYSECONDARYSPECIAL',\n 'OCCUPATION_TYPE_LABORERS',\n 'FLOORSMAX_AVG',\n 'FLOORSMAX_MEDI',\n 'PREV_NAME_PRODUCT_TYPE_WALKIN_MEAN',\n 'NAME_INCOME_TYPE_PENSIONER',\n 'FLAG_DOCUMENT_3',\n 'EMERGENCYSTATE_MODE_NO',\n 'ORGANIZATION_TYPE_XNA',\n 'FLAG_EMP_PHONE',\n 'FLOORSMAX_MODE',\n 'HOUSETYPE_MODE_BLOCKOFFLATS',\n 'OWN_CAR_AGE',\n 'PREV_NAME_YIELD_GROUP_XNA_MEAN',\n 'INSTAL_DAYS_ENTRY_PAYMENT_MEAN',\n 'DAYS_REGISTRATION',\n 'AMT_GOODS_PRICE',\n 'REG_CITY_NOT_LIVE_CITY',\n 'REGION_POPULATION_RELATIVE',\n 'PREV_DAYS_DECISION_MEAN',\n 'PREV_NAME_GOODS_CATEGORY_XNA_MEAN']"
     },
     "execution_count": 43,
     "metadata": {},
     "output_type": "execute_result"
    }
   ],
   "source": [
    "top_40_features"
   ],
   "metadata": {
    "collapsed": false,
    "ExecuteTime": {
     "end_time": "2023-12-20T19:39:19.077072300Z",
     "start_time": "2023-12-20T19:39:19.063056700Z"
    }
   }
  },
  {
   "cell_type": "code",
   "execution_count": 44,
   "outputs": [],
   "source": [
    "train_df = train_df[top_40_features]\n",
    "final_test_df = final_test_df[top_40_features]"
   ],
   "metadata": {
    "collapsed": false,
    "ExecuteTime": {
     "end_time": "2023-12-20T19:39:19.659312600Z",
     "start_time": "2023-12-20T19:39:19.605764700Z"
    }
   }
  },
  {
   "cell_type": "code",
   "execution_count": 45,
   "outputs": [
    {
     "name": "stdout",
     "output_type": "stream",
     "text": [
      "Taille de l'ensemble d'entraînement X_train: (95997, 39)\n",
      "Taille de l'ensemble d'entraînement y_train: (95997,)\n",
      "Taille de l'ensemble de test X_test: (24000, 39)\n",
      "Taille de l'ensemble de test y_test: (24000,)\n"
     ]
    },
    {
     "data": {
      "text/plain": "0"
     },
     "execution_count": 45,
     "metadata": {},
     "output_type": "execute_result"
    }
   ],
   "source": [
    "\n",
    "\n",
    "X = train_df.drop(columns=['TARGET'])\n",
    "y = train_df['TARGET']\n",
    "\n",
    "X_train, X_test, y_train, y_test = train_test_split(X, y, test_size=0.2, random_state=42)\n",
    "\n",
    "\n",
    "print(\"Taille de l'ensemble d'entraînement X_train:\", X_train.shape)\n",
    "print(\"Taille de l'ensemble d'entraînement y_train:\", y_train.shape)\n",
    "print(\"Taille de l'ensemble de test X_test:\", X_test.shape)\n",
    "print(\"Taille de l'ensemble de test y_test:\", y_test.shape)\n",
    "\n",
    "gc.collect()\n",
    "\n"
   ],
   "metadata": {
    "collapsed": false,
    "ExecuteTime": {
     "end_time": "2023-12-20T19:39:20.337241100Z",
     "start_time": "2023-12-20T19:39:20.252676500Z"
    }
   }
  },
  {
   "cell_type": "code",
   "execution_count": 46,
   "outputs": [
    {
     "data": {
      "text/plain": "106183    0.0\n119010    0.0\n107737    0.0\n1364      0.0\n8731      0.0\n         ... \n110271    0.0\n119882    0.0\n103697    0.0\n860       0.0\n15795     1.0\nName: TARGET, Length: 95997, dtype: float64"
     },
     "execution_count": 46,
     "metadata": {},
     "output_type": "execute_result"
    }
   ],
   "source": [
    "y_train"
   ],
   "metadata": {
    "collapsed": false,
    "ExecuteTime": {
     "end_time": "2023-12-20T19:39:20.936872500Z",
     "start_time": "2023-12-20T19:39:20.896045200Z"
    }
   }
  },
  {
   "cell_type": "code",
   "execution_count": 47,
   "outputs": [
    {
     "name": "stdout",
     "output_type": "stream",
     "text": [
      "Comptes pour y_train:\n",
      "TARGET\n",
      "0.0    88209\n",
      "1.0     7788\n",
      "Name: count, dtype: int64\n",
      "\n",
      "Comptes pour y_test:\n",
      "TARGET\n",
      "0.0    22014\n",
      "1.0     1986\n",
      "Name: count, dtype: int64\n"
     ]
    }
   ],
   "source": [
    "counts_train = y_train.value_counts()\n",
    "counts_test = y_test.value_counts()\n",
    "\n",
    "# Afficher les comptes pour y_train et y_test\n",
    "print(\"Comptes pour y_train:\")\n",
    "print(counts_train)\n",
    "print(\"\\nComptes pour y_test:\")\n",
    "print(counts_test)"
   ],
   "metadata": {
    "collapsed": false,
    "ExecuteTime": {
     "end_time": "2023-12-20T19:39:21.685760200Z",
     "start_time": "2023-12-20T19:39:21.665511300Z"
    }
   }
  },
  {
   "cell_type": "code",
   "execution_count": 48,
   "metadata": {
    "pycharm": {
     "name": "#%%\n"
    },
    "ExecuteTime": {
     "end_time": "2023-12-20T19:39:22.425147100Z",
     "start_time": "2023-12-20T19:39:22.389035Z"
    }
   },
   "outputs": [
    {
     "data": {
      "text/plain": "0"
     },
     "execution_count": 48,
     "metadata": {},
     "output_type": "execute_result"
    }
   ],
   "source": [
    "y_train.isna().sum()"
   ]
  },
  {
   "cell_type": "code",
   "execution_count": 49,
   "metadata": {
    "pycharm": {
     "name": "#%%\n"
    },
    "ExecuteTime": {
     "end_time": "2023-12-20T19:39:23.041657700Z",
     "start_time": "2023-12-20T19:39:23.013332100Z"
    }
   },
   "outputs": [
    {
     "data": {
      "text/plain": "EXT_SOURCE_3                                     19007\nEXT_SOURCE_2                                       197\nEXT_SOURCE_1                                     54021\nDAYS_BIRTH                                           0\nDAYS_EMPLOYED                                    17210\nDAYS_EMPLOYED_PERC                               17210\nREGION_RATING_CLIENT_W_CITY                          0\nREGION_RATING_CLIENT                                 0\nPREV_NAME_CONTRACT_STATUS_APPROVED_MEAN          71398\nNAME_INCOME_TYPE_WORKING                             0\nPREV_NAME_CONTRACT_STATUS_REFUSED_MEAN           71398\nNAME_EDUCATION_TYPE_HIGHEREDUCATION                  0\nCODE_GENDER                                          0\nPREV_CODE_REJECT_REASON_SCOFR_MEAN               71398\nPREV_CODE_REJECT_REASON_XAP_MEAN                 71398\nDAYS_LAST_PHONE_CHANGE                               1\nDAYS_ID_PUBLISH                                      0\nREG_CITY_NOT_WORK_CITY                               0\nNAME_EDUCATION_TYPE_SECONDARYSECONDARYSPECIAL        0\nOCCUPATION_TYPE_LABORERS                             0\nFLOORSMAX_AVG                                    47752\nFLOORSMAX_MEDI                                   47752\nPREV_NAME_PRODUCT_TYPE_WALKIN_MEAN               71398\nNAME_INCOME_TYPE_PENSIONER                           0\nFLAG_DOCUMENT_3                                      0\nEMERGENCYSTATE_MODE_NO                               0\nORGANIZATION_TYPE_XNA                                0\nFLAG_EMP_PHONE                                       0\nFLOORSMAX_MODE                                   47752\nHOUSETYPE_MODE_BLOCKOFFLATS                          0\nOWN_CAR_AGE                                      63433\nPREV_NAME_YIELD_GROUP_XNA_MEAN                   71398\nINSTAL_DAYS_ENTRY_PAYMENT_MEAN                   59641\nDAYS_REGISTRATION                                    0\nAMT_GOODS_PRICE                                     79\nREG_CITY_NOT_LIVE_CITY                               0\nREGION_POPULATION_RELATIVE                           0\nPREV_DAYS_DECISION_MEAN                          71398\nPREV_NAME_GOODS_CATEGORY_XNA_MEAN                71398\ndtype: int64"
     },
     "execution_count": 49,
     "metadata": {},
     "output_type": "execute_result"
    }
   ],
   "source": [
    "X_train.isna().sum()"
   ]
  },
  {
   "cell_type": "code",
   "execution_count": 50,
   "metadata": {
    "pycharm": {
     "name": "#%%\n"
    },
    "ExecuteTime": {
     "end_time": "2023-12-20T19:39:23.595784900Z",
     "start_time": "2023-12-20T19:39:23.572267800Z"
    }
   },
   "outputs": [],
   "source": [
    "num_folds= 5\n",
    "stratified= False"
   ]
  },
  {
   "cell_type": "code",
   "execution_count": 51,
   "outputs": [],
   "source": [
    "feats = [f for f in train_df.columns if f not in ['TARGET','SK_ID_CURR','SK_ID_BUREAU','SK_ID_PREV','index']]"
   ],
   "metadata": {
    "collapsed": false,
    "ExecuteTime": {
     "end_time": "2023-12-20T19:39:24.491636600Z",
     "start_time": "2023-12-20T19:39:24.459819900Z"
    }
   }
  },
  {
   "cell_type": "code",
   "execution_count": 52,
   "outputs": [
    {
     "data": {
      "text/plain": "['EXT_SOURCE_3',\n 'EXT_SOURCE_2',\n 'EXT_SOURCE_1',\n 'DAYS_BIRTH',\n 'DAYS_EMPLOYED',\n 'DAYS_EMPLOYED_PERC',\n 'REGION_RATING_CLIENT_W_CITY',\n 'REGION_RATING_CLIENT',\n 'PREV_NAME_CONTRACT_STATUS_APPROVED_MEAN',\n 'NAME_INCOME_TYPE_WORKING',\n 'PREV_NAME_CONTRACT_STATUS_REFUSED_MEAN',\n 'NAME_EDUCATION_TYPE_HIGHEREDUCATION',\n 'CODE_GENDER',\n 'PREV_CODE_REJECT_REASON_SCOFR_MEAN',\n 'PREV_CODE_REJECT_REASON_XAP_MEAN',\n 'DAYS_LAST_PHONE_CHANGE',\n 'DAYS_ID_PUBLISH',\n 'REG_CITY_NOT_WORK_CITY',\n 'NAME_EDUCATION_TYPE_SECONDARYSECONDARYSPECIAL',\n 'OCCUPATION_TYPE_LABORERS',\n 'FLOORSMAX_AVG',\n 'FLOORSMAX_MEDI',\n 'PREV_NAME_PRODUCT_TYPE_WALKIN_MEAN',\n 'NAME_INCOME_TYPE_PENSIONER',\n 'FLAG_DOCUMENT_3',\n 'EMERGENCYSTATE_MODE_NO',\n 'ORGANIZATION_TYPE_XNA',\n 'FLAG_EMP_PHONE',\n 'FLOORSMAX_MODE',\n 'HOUSETYPE_MODE_BLOCKOFFLATS',\n 'OWN_CAR_AGE',\n 'PREV_NAME_YIELD_GROUP_XNA_MEAN',\n 'INSTAL_DAYS_ENTRY_PAYMENT_MEAN',\n 'DAYS_REGISTRATION',\n 'AMT_GOODS_PRICE',\n 'REG_CITY_NOT_LIVE_CITY',\n 'REGION_POPULATION_RELATIVE',\n 'PREV_DAYS_DECISION_MEAN',\n 'PREV_NAME_GOODS_CATEGORY_XNA_MEAN']"
     },
     "execution_count": 52,
     "metadata": {},
     "output_type": "execute_result"
    }
   ],
   "source": [
    "feats"
   ],
   "metadata": {
    "collapsed": false,
    "ExecuteTime": {
     "end_time": "2023-12-20T19:39:24.818545500Z",
     "start_time": "2023-12-20T19:39:24.797729400Z"
    }
   }
  },
  {
   "cell_type": "markdown",
   "source": [
    "# Stratégie d’élaboration d’un modèle d’apprentissage supervisé, et sélectionner et entraîner des modèles adaptés à une problématique métier afin de réaliser une analyse prédictive.\n",
    " CE1 Vous avez défini sa stratégie d’élaboration d’un modèle pour répondre à un besoin métier\n",
    " CE2 Vous avez choisi la ou les variables cibles pertinentes.\n",
    " CE3 Vous avez vérifié qu'il n’y a pas de problème de data leakage (c'est-à-dire, des variables trop corrélées à la variable cible et inconnues a priori dans les données en entrée du modèle).\n",
    " CE4 Vous avez testé plusieurs algorithmes de façon cohérente, en partant des plus simples vers les plus complexes (au minimum un linéaire et un non linéaire).\n"
   ],
   "metadata": {
    "collapsed": false
   }
  },
  {
   "cell_type": "code",
   "execution_count": 53,
   "outputs": [
    {
     "name": "stdout",
     "output_type": "stream",
     "text": [
      "TARGET  EXT_SOURCE_3  EXT_SOURCE_2  EXT_SOURCE_1  DAYS_BIRTH  DAYS_EMPLOYED  DAYS_EMPLOYED_PERC  REGION_RATING_CLIENT_W_CITY  REGION_RATING_CLIENT  PREV_NAME_CONTRACT_STATUS_APPROVED_MEAN  NAME_INCOME_TYPE_WORKING  PREV_NAME_CONTRACT_STATUS_REFUSED_MEAN  NAME_EDUCATION_TYPE_HIGHEREDUCATION  CODE_GENDER  PREV_CODE_REJECT_REASON_SCOFR_MEAN  PREV_CODE_REJECT_REASON_XAP_MEAN  DAYS_LAST_PHONE_CHANGE  DAYS_ID_PUBLISH  REG_CITY_NOT_WORK_CITY  NAME_EDUCATION_TYPE_SECONDARYSECONDARYSPECIAL  OCCUPATION_TYPE_LABORERS  FLOORSMAX_AVG  FLOORSMAX_MEDI  PREV_NAME_PRODUCT_TYPE_WALKIN_MEAN  NAME_INCOME_TYPE_PENSIONER  FLAG_DOCUMENT_3  EMERGENCYSTATE_MODE_NO  ORGANIZATION_TYPE_XNA  FLAG_EMP_PHONE  FLOORSMAX_MODE  HOUSETYPE_MODE_BLOCKOFFLATS  OWN_CAR_AGE  PREV_NAME_YIELD_GROUP_XNA_MEAN  INSTAL_DAYS_ENTRY_PAYMENT_MEAN  DAYS_REGISTRATION  AMT_GOODS_PRICE  REG_CITY_NOT_LIVE_CITY  REGION_POPULATION_RELATIVE  PREV_DAYS_DECISION_MEAN  PREV_NAME_GOODS_CATEGORY_XNA_MEAN\n",
      "0.0     0.000527      0.438361      0.206907      -14231      -1002.0        0.070410            1                            2                     1.000000                                 True                      0.0                                     False                                0            0.0                                 1.0                                0.0                    -5168            0                       True                                           True                      0.0833         0.0833          0.0                                 False                       1                True                    False                  1               0.0833          True                         8.0          0.000000                        -390.5                          -1503.0            450000.0         0                       0.010006                    -527.000000              0.000000                             1\n",
      "        0.631355      0.348836      0.610857      -10825      -1802.0        0.166467            2                            2                     1.000000                                 False                     0.0                                     False                                1            0.0                                 1.0                               -1266.0                 -2238            0                       False                                          False                     0.3333         0.3333          0.0                                 False                       1                True                    False                  1               0.3333          True                         11.0         0.000000                        -474.5                          -4757.0            1183500.0        0                       0.018801                    -2001.000000             0.000000                             1\n",
      "        0.622922      0.736329      0.589413      -15433      -3163.0        0.204950            1                            1                     0.500000                                 False                     0.0                                     True                                 0            0.0                                 1.0                               -1733.0                 -4103            1                       False                                          False                     0.2917         0.2917          0.0                                 False                       0                True                    False                  1               0.2500          False                        21.0         0.500000                        -1462.0                         -9453.0            900000.0         0                       0.032561                    -906.500000              0.500000                             1\n",
      "        0.624615      0.548141      0.777688      -19336      -1778.0        0.091953            2                            2                     1.000000                                 False                     0.0                                     True                                 1            0.0                                 1.0                               -2455.0                 -2882            0                       False                                          False                     0.3333         0.3333          0.0                                 False                       1                True                    False                  1               0.3333          True                         8.0          0.000000                        -1062.5                         -4946.0            198000.0         0                       0.016612                    -1544.000000             0.000000                             1\n",
      "        0.626304      0.209119      0.402019      -10564      -897.0         0.084911            1                            2                     0.666667                                 True                      0.0                                     False                                1            0.0                                 1.0                               -876.0                  -1114            0                       True                                           False                     0.1667         0.1667          0.0                                 False                       1                True                    False                  1               0.1667          True                         4.0          0.333333                        -1177.0                         -10268.0           85500.0          0                       0.010006                    -1328.666667             0.666667                             1\n",
      "                                                                                                                                                                                                                                                                                                                                                                                                                                                                                                                                                                                                                                                                                                                                                                                                                                                                                                                                                                                               ..\n",
      "        0.417100      0.258972      0.327221      -12729      -2022.0        0.158850            3                            3                     1.000000                                 True                      0.0                                     False                                1            0.0                                 1.0                               -845.0                  -1563            0                       True                                           True                      0.3333         0.3333          0.0                                 False                       1                True                    False                  1               0.3333          False                        3.0          0.000000                        -254.0                          -10194.0           90000.0          0                       0.020246                    -845.000000              0.000000                             1\n",
      "                      0.460819      0.549332      -10403      -1650.0        0.158608            2                            2                     1.000000                                 True                      0.0                                     True                                 1            0.0                                 1.0                               -487.0                  -556             0                       False                                          False                     0.1667         0.1667          0.0                                 False                       1                True                    False                  1               0.1667          True                         3.0          0.000000                        -118.0                          -3842.0            1345500.0        0                       0.007274                    -284.000000              0.000000                             1\n",
      "                      0.469818      0.326061      -11891      -1176.0        0.098898            3                            3                     1.000000                                 False                     0.0                                     True                                 0            0.0                                 1.0                               -1526.0                 -3720            0                       False                                          False                     0.1667         0.1667          0.0                                 False                       1                True                    False                  1               0.1667          False                        1.0          0.000000                        -366.0                          -497.0             810000.0         0                       0.018209                    -2029.500000             0.000000                             1\n",
      "                      0.577948      0.842477      -18216      -2952.0        0.162055            2                            2                     1.000000                                 True                      0.0                                     False                                1            0.0                                 1.0                               -1626.0                 -1538            0                       True                                           False                     0.3333         0.3333          0.5                                 False                       1                True                    False                  1               0.3333          True                         11.0         0.500000                        -661.0                          -9042.0            765000.0         0                       0.028663                    -1027.500000             1.000000                             1\n",
      "1.0     0.762336      0.687267      0.416462      -16747      -1667.0        0.099540            2                            2                     1.000000                                 True                      0.0                                     True                                 1            0.0                                 1.0                               -1496.0                 -272             0                       False                                          False                     0.6250         0.6250          0.0                                 False                       1                True                    False                  1               0.6250          True                         10.0         0.000000                        -1475.2                         -5404.0            900000.0         0                       0.018850                    -2755.000000             1.000000                             1\n",
      "Name: count, Length: 890, dtype: int64\n",
      "TARGET  EXT_SOURCE_3  EXT_SOURCE_2  EXT_SOURCE_1  DAYS_BIRTH  DAYS_EMPLOYED  DAYS_EMPLOYED_PERC  REGION_RATING_CLIENT_W_CITY  REGION_RATING_CLIENT  PREV_NAME_CONTRACT_STATUS_APPROVED_MEAN  NAME_INCOME_TYPE_WORKING  PREV_NAME_CONTRACT_STATUS_REFUSED_MEAN  NAME_EDUCATION_TYPE_HIGHEREDUCATION  CODE_GENDER  PREV_CODE_REJECT_REASON_SCOFR_MEAN  PREV_CODE_REJECT_REASON_XAP_MEAN  DAYS_LAST_PHONE_CHANGE  DAYS_ID_PUBLISH  REG_CITY_NOT_WORK_CITY  NAME_EDUCATION_TYPE_SECONDARYSECONDARYSPECIAL  OCCUPATION_TYPE_LABORERS  FLOORSMAX_AVG  FLOORSMAX_MEDI  PREV_NAME_PRODUCT_TYPE_WALKIN_MEAN  NAME_INCOME_TYPE_PENSIONER  FLAG_DOCUMENT_3  EMERGENCYSTATE_MODE_NO  ORGANIZATION_TYPE_XNA  FLAG_EMP_PHONE  FLOORSMAX_MODE  HOUSETYPE_MODE_BLOCKOFFLATS  OWN_CAR_AGE  PREV_NAME_YIELD_GROUP_XNA_MEAN  INSTAL_DAYS_ENTRY_PAYMENT_MEAN  DAYS_REGISTRATION  AMT_GOODS_PRICE  REG_CITY_NOT_LIVE_CITY  REGION_POPULATION_RELATIVE  PREV_DAYS_DECISION_MEAN  PREV_NAME_GOODS_CATEGORY_XNA_MEAN\n",
      "0.0     0.000527      0.438361      0.206907      -14231      -1002.0        0.070410            1                            2                     1.000000                                 True                      0.0                                     False                                0            0.0                                 1.0                                0.0                    -5168            0                       True                                           True                      0.0833         0.0833          0.0                                 False                       1                True                    False                  1               0.0833          True                         8.0          0.000000                        -390.5                          -1503.0            450000.0         0                       0.010006                    -527.000000              0.000000                             0.11236\n",
      "        0.631355      0.348836      0.610857      -10825      -1802.0        0.166467            2                            2                     1.000000                                 False                     0.0                                     False                                1            0.0                                 1.0                               -1266.0                 -2238            0                       False                                          False                     0.3333         0.3333          0.0                                 False                       1                True                    False                  1               0.3333          True                         11.0         0.000000                        -474.5                          -4757.0            1183500.0        0                       0.018801                    -2001.000000             0.000000                             0.11236\n",
      "        0.622922      0.736329      0.589413      -15433      -3163.0        0.204950            1                            1                     0.500000                                 False                     0.0                                     True                                 0            0.0                                 1.0                               -1733.0                 -4103            1                       False                                          False                     0.2917         0.2917          0.0                                 False                       0                True                    False                  1               0.2500          False                        21.0         0.500000                        -1462.0                         -9453.0            900000.0         0                       0.032561                    -906.500000              0.500000                             0.11236\n",
      "        0.624615      0.548141      0.777688      -19336      -1778.0        0.091953            2                            2                     1.000000                                 False                     0.0                                     True                                 1            0.0                                 1.0                               -2455.0                 -2882            0                       False                                          False                     0.3333         0.3333          0.0                                 False                       1                True                    False                  1               0.3333          True                         8.0          0.000000                        -1062.5                         -4946.0            198000.0         0                       0.016612                    -1544.000000             0.000000                             0.11236\n",
      "        0.626304      0.209119      0.402019      -10564      -897.0         0.084911            1                            2                     0.666667                                 True                      0.0                                     False                                1            0.0                                 1.0                               -876.0                  -1114            0                       True                                           False                     0.1667         0.1667          0.0                                 False                       1                True                    False                  1               0.1667          True                         4.0          0.333333                        -1177.0                         -10268.0           85500.0          0                       0.010006                    -1328.666667             0.666667                             0.11236\n",
      "                                                                                                                                                                                                                                                                                                                                                                                                                                                                                                                                                                                                                                                                                                                                                                                                                                                                                                                                                                                                 ...   \n",
      "        0.417100      0.258972      0.327221      -12729      -2022.0        0.158850            3                            3                     1.000000                                 True                      0.0                                     False                                1            0.0                                 1.0                               -845.0                  -1563            0                       True                                           True                      0.3333         0.3333          0.0                                 False                       1                True                    False                  1               0.3333          False                        3.0          0.000000                        -254.0                          -10194.0           90000.0          0                       0.020246                    -845.000000              0.000000                             0.11236\n",
      "                      0.460819      0.549332      -10403      -1650.0        0.158608            2                            2                     1.000000                                 True                      0.0                                     True                                 1            0.0                                 1.0                               -487.0                  -556             0                       False                                          False                     0.1667         0.1667          0.0                                 False                       1                True                    False                  1               0.1667          True                         3.0          0.000000                        -118.0                          -3842.0            1345500.0        0                       0.007274                    -284.000000              0.000000                             0.11236\n",
      "                      0.469818      0.326061      -11891      -1176.0        0.098898            3                            3                     1.000000                                 False                     0.0                                     True                                 0            0.0                                 1.0                               -1526.0                 -3720            0                       False                                          False                     0.1667         0.1667          0.0                                 False                       1                True                    False                  1               0.1667          False                        1.0          0.000000                        -366.0                          -497.0             810000.0         0                       0.018209                    -2029.500000             0.000000                             0.11236\n",
      "                      0.577948      0.842477      -18216      -2952.0        0.162055            2                            2                     1.000000                                 True                      0.0                                     False                                1            0.0                                 1.0                               -1626.0                 -1538            0                       True                                           False                     0.3333         0.3333          0.5                                 False                       1                True                    False                  1               0.3333          True                         11.0         0.500000                        -661.0                          -9042.0            765000.0         0                       0.028663                    -1027.500000             1.000000                             0.11236\n",
      "1.0     0.762336      0.687267      0.416462      -16747      -1667.0        0.099540            2                            2                     1.000000                                 True                      0.0                                     True                                 1            0.0                                 1.0                               -1496.0                 -272             0                       False                                          False                     0.6250         0.6250          0.0                                 False                       1                True                    False                  1               0.6250          True                         10.0         0.000000                        -1475.2                         -5404.0            900000.0         0                       0.018850                    -2755.000000             1.000000                             0.11236\n",
      "Name: count, Length: 890, dtype: float64\n"
     ]
    }
   ],
   "source": [
    "import pandas as pd\n",
    "\n",
    "# Supposons que 'y' est votre Series ou colonne DataFrame contenant les valeurs cibles\n",
    "class_counts = train_df.value_counts()\n",
    "\n",
    "# Afficher l'équilibre des classes\n",
    "print(class_counts)\n",
    "\n",
    "# Pour obtenir un pourcentage, vous pouvez faire:\n",
    "class_balance_percentage = (class_counts / class_counts.sum()) * 100\n",
    "print(class_balance_percentage)"
   ],
   "metadata": {
    "collapsed": false,
    "ExecuteTime": {
     "end_time": "2023-12-20T19:39:26.340388600Z",
     "start_time": "2023-12-20T19:39:26.145751400Z"
    }
   }
  },
  {
   "cell_type": "code",
   "execution_count": 54,
   "outputs": [
    {
     "name": "stdout",
     "output_type": "stream",
     "text": [
      "TARGET\n",
      "0.0    110223\n",
      "1.0      9774\n",
      "Name: count, dtype: int64\n"
     ]
    }
   ],
   "source": [
    "y_series = pd.Series(y)  # où 'y' est votre tableau ou liste de valeurs cibles\n",
    "class_counts = y_series.value_counts()\n",
    "print(class_counts)"
   ],
   "metadata": {
    "collapsed": false,
    "ExecuteTime": {
     "end_time": "2023-12-20T19:39:27.605354Z",
     "start_time": "2023-12-20T19:39:27.580615500Z"
    }
   }
  },
  {
   "cell_type": "code",
   "execution_count": 55,
   "outputs": [
    {
     "data": {
      "text/plain": "<Figure size 800x600 with 1 Axes>",
      "image/png": "[encoded data removed]"
     },
     "metadata": {},
     "output_type": "display_data"
    }
   ],
   "source": [
    "# Création d'un bar plot pour montrer l'équilibre des classes\n",
    "plt.figure(figsize=(8, 6))\n",
    "class_counts.plot(kind='bar')\n",
    "plt.title('Équilibre des classes')\n",
    "plt.xlabel('Classe')\n",
    "plt.ylabel('Nombre d\\'observations')\n",
    "plt.xticks(rotation=0)  # Ajuste l'orientation des étiquettes de l'axe des x\n",
    "plt.show()"
   ],
   "metadata": {
    "collapsed": false,
    "ExecuteTime": {
     "end_time": "2023-12-20T19:39:28.114086100Z",
     "start_time": "2023-12-20T19:39:28.043266Z"
    }
   }
  },
  {
   "cell_type": "code",
   "execution_count": 56,
   "outputs": [],
   "source": [
    "# On constate qu'il n'y a pas de fuite de données liées à une corrélation trop forte avec la TARGET."
   ],
   "metadata": {
    "collapsed": false,
    "ExecuteTime": {
     "end_time": "2023-12-20T19:39:28.248215500Z",
     "start_time": "2023-12-20T19:39:28.216186400Z"
    }
   }
  },
  {
   "cell_type": "markdown",
   "source": [
    "# Évaluer les performances des modèles d’apprentissage supervisé selon différents critères (scores, temps d'entraînement, etc.) en adaptant les paramètres afin de choisir le modèle le plus performant pour la problématique métier.\n",
    "CE1 Vous avez choisi une métrique adaptée pour évaluer la performance d'un algorithme (par exemple : R2 ou RMSE en régression, accuracy ou AUC en classification, etc.)\n",
    "Il a mis en oeuvre un score métier pour évaluer les modèles et optimiser les hyperparamètres, qui prend en compte les spécificités du contexte, en particulier le fait que le coût d’un faux négatif et d’un faux positif sont sensiblement différents\n",
    "CE2 Vous avez exploré d'autres indicateurs de performance que le score pour comprendre les résultats (coefficients des variables en fonction de la pénalisation, visualisation des erreurs en fonction des variables du modèle, temps de calcul...)\n",
    "CE3 Vous avez séparé les données en train/test pour les évaluer de façon pertinente et détecter l'overfitting\n",
    "CE4 Vous avez mis en place un modèle simple de référence pour évaluer le pouvoir prédictif du modèle choisi (dummyRegressor ou dummyClassifier)\n",
    "CE5 Vous avez pris en compte dans sa démarche de modélisation l'éventuel déséquilibre des classes (dans le cas d'une classification).\n",
    "CE6 Vous avez optimisé les hyper-paramètres pertinents dans les différents algorithmes.\n",
    "CE7 Vous avez mis en place une validation croisée (via GridsearchCV, RandomizedSearchCV ou équivalent) afin d’optimiser les hyperparamètres et comparer les modèles. Dans le cadre de ce projet :\n",
    "Une cross-validation du dataset train est réalisée\n",
    "Un premier test de différentes valeurs d’hyperparamètres est réalisé sur chaque algorithme testé, et affiné pour l’algorithme final choisi\n",
    "Tout projet présentant un score AUC anormalement élevé, démontrant de l’overfitting dans le GrisSearchCV, sera invalidé (il ne devrait pas être supérieur au meilleur de la compétition Kaggle : 0.82)\n",
    "CE8 Vous avez présenté l'ensemble des résultats en allant des modèles les plus simples aux plus complexes. Il a justifié le choix final de l'algorithme et des hyperparamètres.\n",
    "CE9 Vous avez réalisé l’analyse de l’importance des variables (feature importance) globale sur l’ensemble du jeu de données et locale sur chaque individu du jeu de données."
   ],
   "metadata": {
    "collapsed": false
   }
  },
  {
   "cell_type": "code",
   "execution_count": 56,
   "outputs": [],
   "source": [],
   "metadata": {
    "collapsed": false,
    "ExecuteTime": {
     "end_time": "2023-12-20T19:39:29.751561700Z",
     "start_time": "2023-12-20T19:39:29.730818900Z"
    }
   }
  },
  {
   "cell_type": "markdown",
   "source": [
    "# Définir et mettre en œuvre un pipeline d’entraînement des modèles, avec centralisation du stockage des modèles et formalisation des résultats et mesures des différentes expérimentations réalisées, afin d’industrialiser le projet de Machine Learning.\n",
    "CE1 Vous avez mis en oeuvre un pipeline d’entraînement des modèles reproductible\n",
    "CE2 Vous avez sérialisé et stocké les modèles créés dans un registre centralisé afin de pouvoir facilement les réutiliser.\n",
    "CE3 Vous avez formalisé des mesures et résultats de chaque expérimentation, afin de les analyser et de les comparerdd"
   ],
   "metadata": {
    "collapsed": false
   }
  },
  {
   "cell_type": "code",
   "execution_count": 57,
   "outputs": [],
   "source": [
    "def custom_scorer(y_true, y_pred_proba):\n",
    "    # Recherche du meilleur seuil et calcul du coût\n",
    "    return credit_cost_function_search_best_threshold_v2(y_true, y_pred_proba)\n",
    "\n",
    "def auc_scorer(y_true, y_pred_proba):\n",
    "    return roc_auc_score(y_true, y_pred_proba)\n",
    "\n",
    "def f1_score_scorer(y_true, y_pred_proba):\n",
    "    return f1_score(y_true, y_pred_proba)"
   ],
   "metadata": {
    "collapsed": false,
    "ExecuteTime": {
     "end_time": "2023-12-20T19:39:30.812261200Z",
     "start_time": "2023-12-20T19:39:30.796948500Z"
    }
   }
  },
  {
   "cell_type": "markdown",
   "source": [
    "## DummyClassifier"
   ],
   "metadata": {
    "collapsed": false
   }
  },
  {
   "cell_type": "code",
   "execution_count": 132,
   "outputs": [
    {
     "name": "stderr",
     "output_type": "stream",
     "text": [
      "WARNING:root:Malformed experiment 'mlruns'. Detailed error Yaml file 'C:\\Users\\PC1\\DataspellProjects\\Home_Credit_Default_Risk\\notebook\\mlruns\\mlruns\\meta.yaml' does not exist.\n",
      "Traceback (most recent call last):\n",
      "  File \"C:\\Users\\PC1\\anaconda3\\Lib\\site-packages\\mlflow\\store\\tracking\\file_store.py\", line 302, in search_experiments\n",
      "    exp = self._get_experiment(exp_id, view_type)\n",
      "          ^^^^^^^^^^^^^^^^^^^^^^^^^^^^^^^^^^^^^^^\n",
      "  File \"C:\\Users\\PC1\\anaconda3\\Lib\\site-packages\\mlflow\\store\\tracking\\file_store.py\", line 395, in _get_experiment\n",
      "    meta = FileStore._read_yaml(experiment_dir, FileStore.META_DATA_FILE_NAME)\n",
      "           ^^^^^^^^^^^^^^^^^^^^^^^^^^^^^^^^^^^^^^^^^^^^^^^^^^^^^^^^^^^^^^^^^^^\n",
      "  File \"C:\\Users\\PC1\\anaconda3\\Lib\\site-packages\\mlflow\\store\\tracking\\file_store.py\", line 1303, in _read_yaml\n",
      "    return _read_helper(root, file_name, attempts_remaining=retries)\n",
      "           ^^^^^^^^^^^^^^^^^^^^^^^^^^^^^^^^^^^^^^^^^^^^^^^^^^^^^^^^^\n",
      "  File \"C:\\Users\\PC1\\anaconda3\\Lib\\site-packages\\mlflow\\store\\tracking\\file_store.py\", line 1296, in _read_helper\n",
      "    result = read_yaml(root, file_name)\n",
      "             ^^^^^^^^^^^^^^^^^^^^^^^^^^\n",
      "  File \"C:\\Users\\PC1\\anaconda3\\Lib\\site-packages\\mlflow\\utils\\file_utils.py\", line 303, in read_yaml\n",
      "    raise MissingConfigException(f\"Yaml file '{file_path}' does not exist.\")\n",
      "mlflow.exceptions.MissingConfigException: Yaml file 'C:\\Users\\PC1\\DataspellProjects\\Home_Credit_Default_Risk\\notebook\\mlruns\\mlruns\\meta.yaml' does not exist.\n",
      "WARNING:root:Malformed experiment 'mlruns'. Detailed error Yaml file 'C:\\Users\\PC1\\DataspellProjects\\Home_Credit_Default_Risk\\notebook\\mlruns\\mlruns\\meta.yaml' does not exist.\n",
      "Traceback (most recent call last):\n",
      "  File \"C:\\Users\\PC1\\anaconda3\\Lib\\site-packages\\mlflow\\store\\tracking\\file_store.py\", line 302, in search_experiments\n",
      "    exp = self._get_experiment(exp_id, view_type)\n",
      "          ^^^^^^^^^^^^^^^^^^^^^^^^^^^^^^^^^^^^^^^\n",
      "  File \"C:\\Users\\PC1\\anaconda3\\Lib\\site-packages\\mlflow\\store\\tracking\\file_store.py\", line 395, in _get_experiment\n",
      "    meta = FileStore._read_yaml(experiment_dir, FileStore.META_DATA_FILE_NAME)\n",
      "           ^^^^^^^^^^^^^^^^^^^^^^^^^^^^^^^^^^^^^^^^^^^^^^^^^^^^^^^^^^^^^^^^^^^\n",
      "  File \"C:\\Users\\PC1\\anaconda3\\Lib\\site-packages\\mlflow\\store\\tracking\\file_store.py\", line 1303, in _read_yaml\n",
      "    return _read_helper(root, file_name, attempts_remaining=retries)\n",
      "           ^^^^^^^^^^^^^^^^^^^^^^^^^^^^^^^^^^^^^^^^^^^^^^^^^^^^^^^^^\n",
      "  File \"C:\\Users\\PC1\\anaconda3\\Lib\\site-packages\\mlflow\\store\\tracking\\file_store.py\", line 1296, in _read_helper\n",
      "    result = read_yaml(root, file_name)\n",
      "             ^^^^^^^^^^^^^^^^^^^^^^^^^^\n",
      "  File \"C:\\Users\\PC1\\anaconda3\\Lib\\site-packages\\mlflow\\utils\\file_utils.py\", line 303, in read_yaml\n",
      "    raise MissingConfigException(f\"Yaml file '{file_path}' does not exist.\")\n",
      "mlflow.exceptions.MissingConfigException: Yaml file 'C:\\Users\\PC1\\DataspellProjects\\Home_Credit_Default_Risk\\notebook\\mlruns\\mlruns\\meta.yaml' does not exist.\n"
     ]
    },
    {
     "name": "stdout",
     "output_type": "stream",
     "text": [
      "Custom Credit Score: 1991700\n"
     ]
    }
   ],
   "source": [
    "from sklearn.dummy import DummyClassifier\n",
    "from sklearn.metrics import roc_auc_score, roc_curve, f1_score\n",
    "import matplotlib.pyplot as plt\n",
    "import mlflow\n",
    "import datetime\n",
    "import time\n",
    "\n",
    "\n",
    "dummy_model = DummyClassifier(strategy=\"stratified\")\n",
    "\n",
    "# Générer un nom d'expériment unique\n",
    "current_time = datetime.datetime.now().strftime(\"%Y-%m-%d_%H-%M-%S\")\n",
    "experiment_name = f\"experiment_dummy_{current_time}\"\n",
    "\n",
    "# Créer l'expériment dans MLflow\n",
    "mlflow.create_experiment(experiment_name)\n",
    "mlflow.set_experiment(experiment_name)\n",
    "\n",
    "with mlflow.start_run():\n",
    "\n",
    "    start_time = time.time()\n",
    "\n",
    "    dummy_model.fit(X_train, y_train)\n",
    "\n",
    "    dummy_probs = dummy_model.predict_proba(X_test)[:, 1] # Obtenez la probabilité de la classe positive\n",
    "\n",
    "    # Calcul de la métrique personnalisée sur le jeu de test\n",
    "    test_pred_proba = dummy_model.predict_proba(X_test)[:, 1]\n",
    "    test_cost = custom_scorer(y_test, test_pred_proba)\n",
    "    mlflow.log_metric('test_custom_cost', test_cost)\n",
    "\n",
    "    test_auc = auc_scorer(y_test, test_pred_proba)\n",
    "    mlflow.log_metric('test_auc', test_auc)\n",
    "\n",
    "    # Calcul et enregistrement du F1 score\n",
    "    test_pred = dummy_model.predict(X_test)\n",
    "    test_f1_score = f1_score(y_test, test_pred)\n",
    "    mlflow.log_metric('test_f1_score', test_f1_score)\n",
    "\n",
    "    mlflow.log_metric('training_duration', time.time() - start_time)\n",
    "\n",
    "mlflow.end_run()"
   ],
   "metadata": {
    "collapsed": false,
    "ExecuteTime": {
     "end_time": "2023-12-20T16:53:46.670242200Z",
     "start_time": "2023-12-20T16:53:46.572692800Z"
    }
   }
  },
  {
   "cell_type": "markdown",
   "metadata": {
    "pycharm": {
     "name": "#%% md\n"
    }
   },
   "source": [
    "## LGBMClassifier"
   ]
  },
  {
   "cell_type": "markdown",
   "source": [
    "### Custom score"
   ],
   "metadata": {
    "collapsed": false
   }
  },
  {
   "cell_type": "code",
   "execution_count": 124,
   "outputs": [
    {
     "name": "stderr",
     "output_type": "stream",
     "text": [
      "WARNING:root:Malformed experiment 'mlruns'. Detailed error Yaml file 'C:\\Users\\PC1\\DataspellProjects\\Home_Credit_Default_Risk\\notebook\\mlruns\\mlruns\\meta.yaml' does not exist.\n",
      "Traceback (most recent call last):\n",
      "  File \"C:\\Users\\PC1\\anaconda3\\Lib\\site-packages\\mlflow\\store\\tracking\\file_store.py\", line 302, in search_experiments\n",
      "    exp = self._get_experiment(exp_id, view_type)\n",
      "          ^^^^^^^^^^^^^^^^^^^^^^^^^^^^^^^^^^^^^^^\n",
      "  File \"C:\\Users\\PC1\\anaconda3\\Lib\\site-packages\\mlflow\\store\\tracking\\file_store.py\", line 395, in _get_experiment\n",
      "    meta = FileStore._read_yaml(experiment_dir, FileStore.META_DATA_FILE_NAME)\n",
      "           ^^^^^^^^^^^^^^^^^^^^^^^^^^^^^^^^^^^^^^^^^^^^^^^^^^^^^^^^^^^^^^^^^^^\n",
      "  File \"C:\\Users\\PC1\\anaconda3\\Lib\\site-packages\\mlflow\\store\\tracking\\file_store.py\", line 1303, in _read_yaml\n",
      "    return _read_helper(root, file_name, attempts_remaining=retries)\n",
      "           ^^^^^^^^^^^^^^^^^^^^^^^^^^^^^^^^^^^^^^^^^^^^^^^^^^^^^^^^^\n",
      "  File \"C:\\Users\\PC1\\anaconda3\\Lib\\site-packages\\mlflow\\store\\tracking\\file_store.py\", line 1296, in _read_helper\n",
      "    result = read_yaml(root, file_name)\n",
      "             ^^^^^^^^^^^^^^^^^^^^^^^^^^\n",
      "  File \"C:\\Users\\PC1\\anaconda3\\Lib\\site-packages\\mlflow\\utils\\file_utils.py\", line 303, in read_yaml\n",
      "    raise MissingConfigException(f\"Yaml file '{file_path}' does not exist.\")\n",
      "mlflow.exceptions.MissingConfigException: Yaml file 'C:\\Users\\PC1\\DataspellProjects\\Home_Credit_Default_Risk\\notebook\\mlruns\\mlruns\\meta.yaml' does not exist.\n",
      "WARNING:root:Malformed experiment 'mlruns'. Detailed error Yaml file 'C:\\Users\\PC1\\DataspellProjects\\Home_Credit_Default_Risk\\notebook\\mlruns\\mlruns\\meta.yaml' does not exist.\n",
      "Traceback (most recent call last):\n",
      "  File \"C:\\Users\\PC1\\anaconda3\\Lib\\site-packages\\mlflow\\store\\tracking\\file_store.py\", line 302, in search_experiments\n",
      "    exp = self._get_experiment(exp_id, view_type)\n",
      "          ^^^^^^^^^^^^^^^^^^^^^^^^^^^^^^^^^^^^^^^\n",
      "  File \"C:\\Users\\PC1\\anaconda3\\Lib\\site-packages\\mlflow\\store\\tracking\\file_store.py\", line 395, in _get_experiment\n",
      "    meta = FileStore._read_yaml(experiment_dir, FileStore.META_DATA_FILE_NAME)\n",
      "           ^^^^^^^^^^^^^^^^^^^^^^^^^^^^^^^^^^^^^^^^^^^^^^^^^^^^^^^^^^^^^^^^^^^\n",
      "  File \"C:\\Users\\PC1\\anaconda3\\Lib\\site-packages\\mlflow\\store\\tracking\\file_store.py\", line 1303, in _read_yaml\n",
      "    return _read_helper(root, file_name, attempts_remaining=retries)\n",
      "           ^^^^^^^^^^^^^^^^^^^^^^^^^^^^^^^^^^^^^^^^^^^^^^^^^^^^^^^^^\n",
      "  File \"C:\\Users\\PC1\\anaconda3\\Lib\\site-packages\\mlflow\\store\\tracking\\file_store.py\", line 1296, in _read_helper\n",
      "    result = read_yaml(root, file_name)\n",
      "             ^^^^^^^^^^^^^^^^^^^^^^^^^^\n",
      "  File \"C:\\Users\\PC1\\anaconda3\\Lib\\site-packages\\mlflow\\utils\\file_utils.py\", line 303, in read_yaml\n",
      "    raise MissingConfigException(f\"Yaml file '{file_path}' does not exist.\")\n",
      "mlflow.exceptions.MissingConfigException: Yaml file 'C:\\Users\\PC1\\DataspellProjects\\Home_Credit_Default_Risk\\notebook\\mlruns\\mlruns\\meta.yaml' does not exist.\n"
     ]
    },
    {
     "name": "stdout",
     "output_type": "stream",
     "text": [
      "[LightGBM] [Warning] Found whitespace in feature_names, replace with underlines\n",
      "[LightGBM] [Info] Number of positive: 6230, number of negative: 70567\n",
      "[LightGBM] [Info] Auto-choosing row-wise multi-threading, the overhead of testing was 0.001613 seconds.\n",
      "You can set `force_row_wise=true` to remove the overhead.\n",
      "And if memory is not enough, you can set `force_col_wise=true`.\n",
      "[LightGBM] [Info] Total Bins 3561\n",
      "[LightGBM] [Info] Number of data points in the train set: 76797, number of used features: 39\n",
      "[LightGBM] [Info] [binary:BoostFromScore]: pavg=0.500000 -> initscore=0.000000\n",
      "[LightGBM] [Info] Start training from score 0.000000\n",
      "Custom Credit Score: 1084500\n",
      "[LightGBM] [Warning] Found whitespace in feature_names, replace with underlines\n",
      "[LightGBM] [Info] Number of positive: 6230, number of negative: 70567\n",
      "[LightGBM] [Info] Auto-choosing row-wise multi-threading, the overhead of testing was 0.001591 seconds.\n",
      "You can set `force_row_wise=true` to remove the overhead.\n",
      "And if memory is not enough, you can set `force_col_wise=true`.\n",
      "[LightGBM] [Info] Total Bins 3572\n",
      "[LightGBM] [Info] Number of data points in the train set: 76797, number of used features: 39\n",
      "[LightGBM] [Info] [binary:BoostFromScore]: pavg=0.500000 -> initscore=0.000000\n",
      "[LightGBM] [Info] Start training from score 0.000000\n",
      "Custom Credit Score: 1045400\n",
      "[LightGBM] [Warning] Found whitespace in feature_names, replace with underlines\n",
      "[LightGBM] [Info] Number of positive: 6231, number of negative: 70567\n",
      "[LightGBM] [Info] Auto-choosing row-wise multi-threading, the overhead of testing was 0.002456 seconds.\n",
      "You can set `force_row_wise=true` to remove the overhead.\n",
      "And if memory is not enough, you can set `force_col_wise=true`.\n",
      "[LightGBM] [Info] Total Bins 3575\n",
      "[LightGBM] [Info] Number of data points in the train set: 76798, number of used features: 39\n",
      "[LightGBM] [Info] [binary:BoostFromScore]: pavg=0.500000 -> initscore=0.000000\n",
      "[LightGBM] [Info] Start training from score 0.000000\n",
      "Custom Credit Score: 1080000\n",
      "[LightGBM] [Warning] Found whitespace in feature_names, replace with underlines\n",
      "[LightGBM] [Info] Number of positive: 6231, number of negative: 70567\n",
      "[LightGBM] [Info] Auto-choosing row-wise multi-threading, the overhead of testing was 0.058304 seconds.\n",
      "You can set `force_row_wise=true` to remove the overhead.\n",
      "And if memory is not enough, you can set `force_col_wise=true`.\n",
      "[LightGBM] [Info] Total Bins 3575\n",
      "[LightGBM] [Info] Number of data points in the train set: 76798, number of used features: 39\n",
      "[LightGBM] [Info] [binary:BoostFromScore]: pavg=0.500000 -> initscore=0.000000\n",
      "[LightGBM] [Info] Start training from score 0.000000\n",
      "Custom Credit Score: 1091000\n",
      "[LightGBM] [Warning] Found whitespace in feature_names, replace with underlines\n",
      "[LightGBM] [Info] Number of positive: 6230, number of negative: 70568\n",
      "[LightGBM] [Info] Auto-choosing row-wise multi-threading, the overhead of testing was 0.003325 seconds.\n",
      "You can set `force_row_wise=true` to remove the overhead.\n",
      "And if memory is not enough, you can set `force_col_wise=true`.\n",
      "[LightGBM] [Info] Total Bins 3575\n",
      "[LightGBM] [Info] Number of data points in the train set: 76798, number of used features: 39\n",
      "[LightGBM] [Info] [binary:BoostFromScore]: pavg=0.500000 -> initscore=-0.000000\n",
      "[LightGBM] [Info] Start training from score -0.000000\n",
      "Custom Credit Score: 1102400\n",
      "[LightGBM] [Warning] Found whitespace in feature_names, replace with underlines\n",
      "[LightGBM] [Info] Number of positive: 6230, number of negative: 70567\n",
      "[LightGBM] [Info] Auto-choosing row-wise multi-threading, the overhead of testing was 0.001826 seconds.\n",
      "You can set `force_row_wise=true` to remove the overhead.\n",
      "And if memory is not enough, you can set `force_col_wise=true`.\n",
      "[LightGBM] [Info] Total Bins 3561\n",
      "[LightGBM] [Info] Number of data points in the train set: 76797, number of used features: 39\n",
      "[LightGBM] [Info] [binary:BoostFromScore]: pavg=0.500000 -> initscore=0.000000\n",
      "[LightGBM] [Info] Start training from score 0.000000\n",
      "Custom Credit Score: 1037200\n",
      "[LightGBM] [Warning] Found whitespace in feature_names, replace with underlines\n",
      "[LightGBM] [Info] Number of positive: 6230, number of negative: 70567\n",
      "[LightGBM] [Info] Auto-choosing row-wise multi-threading, the overhead of testing was 0.002006 seconds.\n",
      "You can set `force_row_wise=true` to remove the overhead.\n",
      "And if memory is not enough, you can set `force_col_wise=true`.\n",
      "[LightGBM] [Info] Total Bins 3572\n",
      "[LightGBM] [Info] Number of data points in the train set: 76797, number of used features: 39\n",
      "[LightGBM] [Info] [binary:BoostFromScore]: pavg=0.500000 -> initscore=0.000000\n",
      "[LightGBM] [Info] Start training from score 0.000000\n",
      "Custom Credit Score: 1029800\n",
      "[LightGBM] [Warning] Found whitespace in feature_names, replace with underlines\n",
      "[LightGBM] [Info] Number of positive: 6231, number of negative: 70567\n",
      "[LightGBM] [Info] Auto-choosing row-wise multi-threading, the overhead of testing was 0.002312 seconds.\n",
      "You can set `force_row_wise=true` to remove the overhead.\n",
      "And if memory is not enough, you can set `force_col_wise=true`.\n",
      "[LightGBM] [Info] Total Bins 3575\n",
      "[LightGBM] [Info] Number of data points in the train set: 76798, number of used features: 39\n",
      "[LightGBM] [Info] [binary:BoostFromScore]: pavg=0.500000 -> initscore=0.000000\n",
      "[LightGBM] [Info] Start training from score 0.000000\n",
      "Custom Credit Score: 1038200\n",
      "[LightGBM] [Warning] Found whitespace in feature_names, replace with underlines\n",
      "[LightGBM] [Info] Number of positive: 6231, number of negative: 70567\n",
      "[LightGBM] [Info] Auto-choosing row-wise multi-threading, the overhead of testing was 0.001989 seconds.\n",
      "You can set `force_row_wise=true` to remove the overhead.\n",
      "And if memory is not enough, you can set `force_col_wise=true`.\n",
      "[LightGBM] [Info] Total Bins 3575\n",
      "[LightGBM] [Info] Number of data points in the train set: 76798, number of used features: 39\n",
      "[LightGBM] [Info] [binary:BoostFromScore]: pavg=0.500000 -> initscore=0.000000\n",
      "[LightGBM] [Info] Start training from score 0.000000\n",
      "Custom Credit Score: 1070800\n",
      "[LightGBM] [Warning] Found whitespace in feature_names, replace with underlines\n",
      "[LightGBM] [Info] Number of positive: 6230, number of negative: 70568\n",
      "[LightGBM] [Info] Auto-choosing row-wise multi-threading, the overhead of testing was 0.002244 seconds.\n",
      "You can set `force_row_wise=true` to remove the overhead.\n",
      "And if memory is not enough, you can set `force_col_wise=true`.\n",
      "[LightGBM] [Info] Total Bins 3575\n",
      "[LightGBM] [Info] Number of data points in the train set: 76798, number of used features: 39\n",
      "[LightGBM] [Info] [binary:BoostFromScore]: pavg=0.500000 -> initscore=-0.000000\n",
      "[LightGBM] [Info] Start training from score -0.000000\n",
      "Custom Credit Score: 1054600\n",
      "[LightGBM] [Warning] Found whitespace in feature_names, replace with underlines\n",
      "[LightGBM] [Info] Number of positive: 6230, number of negative: 70567\n",
      "[LightGBM] [Info] Auto-choosing row-wise multi-threading, the overhead of testing was 0.001858 seconds.\n",
      "You can set `force_row_wise=true` to remove the overhead.\n",
      "And if memory is not enough, you can set `force_col_wise=true`.\n",
      "[LightGBM] [Info] Total Bins 3561\n",
      "[LightGBM] [Info] Number of data points in the train set: 76797, number of used features: 39\n",
      "[LightGBM] [Info] [binary:BoostFromScore]: pavg=0.500000 -> initscore=0.000000\n",
      "[LightGBM] [Info] Start training from score 0.000000\n",
      "Custom Credit Score: 1035900\n",
      "[LightGBM] [Warning] Found whitespace in feature_names, replace with underlines\n",
      "[LightGBM] [Info] Number of positive: 6230, number of negative: 70567\n",
      "[LightGBM] [Info] Auto-choosing row-wise multi-threading, the overhead of testing was 0.002489 seconds.\n",
      "You can set `force_row_wise=true` to remove the overhead.\n",
      "And if memory is not enough, you can set `force_col_wise=true`.\n",
      "[LightGBM] [Info] Total Bins 3572\n",
      "[LightGBM] [Info] Number of data points in the train set: 76797, number of used features: 39\n",
      "[LightGBM] [Info] [binary:BoostFromScore]: pavg=0.500000 -> initscore=0.000000\n",
      "[LightGBM] [Info] Start training from score 0.000000\n",
      "Custom Credit Score: 1032400\n",
      "[LightGBM] [Warning] Found whitespace in feature_names, replace with underlines\n",
      "[LightGBM] [Info] Number of positive: 6231, number of negative: 70567\n",
      "[LightGBM] [Info] Auto-choosing row-wise multi-threading, the overhead of testing was 0.001924 seconds.\n",
      "You can set `force_row_wise=true` to remove the overhead.\n",
      "And if memory is not enough, you can set `force_col_wise=true`.\n",
      "[LightGBM] [Info] Total Bins 3575\n",
      "[LightGBM] [Info] Number of data points in the train set: 76798, number of used features: 39\n",
      "[LightGBM] [Info] [binary:BoostFromScore]: pavg=0.500000 -> initscore=0.000000\n",
      "[LightGBM] [Info] Start training from score 0.000000\n",
      "Custom Credit Score: 1035900\n",
      "[LightGBM] [Warning] Found whitespace in feature_names, replace with underlines\n",
      "[LightGBM] [Info] Number of positive: 6231, number of negative: 70567\n",
      "[LightGBM] [Info] Auto-choosing row-wise multi-threading, the overhead of testing was 0.002138 seconds.\n",
      "You can set `force_row_wise=true` to remove the overhead.\n",
      "And if memory is not enough, you can set `force_col_wise=true`.\n",
      "[LightGBM] [Info] Total Bins 3575\n",
      "[LightGBM] [Info] Number of data points in the train set: 76798, number of used features: 39\n",
      "[LightGBM] [Info] [binary:BoostFromScore]: pavg=0.500000 -> initscore=0.000000\n",
      "[LightGBM] [Info] Start training from score 0.000000\n",
      "Custom Credit Score: 1072200\n",
      "[LightGBM] [Warning] Found whitespace in feature_names, replace with underlines\n",
      "[LightGBM] [Info] Number of positive: 6230, number of negative: 70568\n",
      "[LightGBM] [Info] Auto-choosing row-wise multi-threading, the overhead of testing was 0.002004 seconds.\n",
      "You can set `force_row_wise=true` to remove the overhead.\n",
      "And if memory is not enough, you can set `force_col_wise=true`.\n",
      "[LightGBM] [Info] Total Bins 3575\n",
      "[LightGBM] [Info] Number of data points in the train set: 76798, number of used features: 39\n",
      "[LightGBM] [Info] [binary:BoostFromScore]: pavg=0.500000 -> initscore=-0.000000\n",
      "[LightGBM] [Info] Start training from score -0.000000\n",
      "Custom Credit Score: 1048400\n",
      "[LightGBM] [Warning] Found whitespace in feature_names, replace with underlines\n",
      "[LightGBM] [Info] Number of positive: 6230, number of negative: 70567\n",
      "[LightGBM] [Info] Auto-choosing row-wise multi-threading, the overhead of testing was 0.002347 seconds.\n",
      "You can set `force_row_wise=true` to remove the overhead.\n",
      "And if memory is not enough, you can set `force_col_wise=true`.\n",
      "[LightGBM] [Info] Total Bins 3561\n",
      "[LightGBM] [Info] Number of data points in the train set: 76797, number of used features: 39\n",
      "[LightGBM] [Info] [binary:BoostFromScore]: pavg=0.500000 -> initscore=0.000000\n",
      "[LightGBM] [Info] Start training from score 0.000000\n",
      "Custom Credit Score: 1053200\n",
      "[LightGBM] [Warning] Found whitespace in feature_names, replace with underlines\n",
      "[LightGBM] [Info] Number of positive: 6230, number of negative: 70567\n",
      "[LightGBM] [Info] Auto-choosing row-wise multi-threading, the overhead of testing was 0.002449 seconds.\n",
      "You can set `force_row_wise=true` to remove the overhead.\n",
      "And if memory is not enough, you can set `force_col_wise=true`.\n",
      "[LightGBM] [Info] Total Bins 3572\n",
      "[LightGBM] [Info] Number of data points in the train set: 76797, number of used features: 39\n",
      "[LightGBM] [Info] [binary:BoostFromScore]: pavg=0.500000 -> initscore=0.000000\n",
      "[LightGBM] [Info] Start training from score 0.000000\n",
      "Custom Credit Score: 1048800\n",
      "[LightGBM] [Warning] Found whitespace in feature_names, replace with underlines\n",
      "[LightGBM] [Info] Number of positive: 6231, number of negative: 70567\n",
      "[LightGBM] [Info] Auto-choosing row-wise multi-threading, the overhead of testing was 0.001843 seconds.\n",
      "You can set `force_row_wise=true` to remove the overhead.\n",
      "And if memory is not enough, you can set `force_col_wise=true`.\n",
      "[LightGBM] [Info] Total Bins 3575\n",
      "[LightGBM] [Info] Number of data points in the train set: 76798, number of used features: 39\n",
      "[LightGBM] [Info] [binary:BoostFromScore]: pavg=0.500000 -> initscore=0.000000\n",
      "[LightGBM] [Info] Start training from score 0.000000\n",
      "Custom Credit Score: 1045800\n",
      "[LightGBM] [Warning] Found whitespace in feature_names, replace with underlines\n",
      "[LightGBM] [Info] Number of positive: 6231, number of negative: 70567\n",
      "[LightGBM] [Info] Auto-choosing row-wise multi-threading, the overhead of testing was 0.002545 seconds.\n",
      "You can set `force_row_wise=true` to remove the overhead.\n",
      "And if memory is not enough, you can set `force_col_wise=true`.\n",
      "[LightGBM] [Info] Total Bins 3575\n",
      "[LightGBM] [Info] Number of data points in the train set: 76798, number of used features: 39\n",
      "[LightGBM] [Info] [binary:BoostFromScore]: pavg=0.500000 -> initscore=0.000000\n",
      "[LightGBM] [Info] Start training from score 0.000000\n",
      "Custom Credit Score: 1093800\n",
      "[LightGBM] [Warning] Found whitespace in feature_names, replace with underlines\n",
      "[LightGBM] [Info] Number of positive: 6230, number of negative: 70568\n",
      "[LightGBM] [Info] Auto-choosing row-wise multi-threading, the overhead of testing was 0.002513 seconds.\n",
      "You can set `force_row_wise=true` to remove the overhead.\n",
      "And if memory is not enough, you can set `force_col_wise=true`.\n",
      "[LightGBM] [Info] Total Bins 3575\n",
      "[LightGBM] [Info] Number of data points in the train set: 76798, number of used features: 39\n",
      "[LightGBM] [Info] [binary:BoostFromScore]: pavg=0.500000 -> initscore=-0.000000\n",
      "[LightGBM] [Info] Start training from score -0.000000\n",
      "Custom Credit Score: 1073600\n",
      "[LightGBM] [Warning] Found whitespace in feature_names, replace with underlines\n",
      "[LightGBM] [Info] Number of positive: 7788, number of negative: 88209\n",
      "[LightGBM] [Info] Auto-choosing row-wise multi-threading, the overhead of testing was 0.003069 seconds.\n",
      "You can set `force_row_wise=true` to remove the overhead.\n",
      "And if memory is not enough, you can set `force_col_wise=true`.\n",
      "[LightGBM] [Info] Total Bins 3600\n",
      "[LightGBM] [Info] Number of data points in the train set: 95997, number of used features: 39\n",
      "[LightGBM] [Info] [binary:BoostFromScore]: pavg=0.500000 -> initscore=-0.000000\n",
      "[LightGBM] [Info] Start training from score -0.000000\n"
     ]
    },
    {
     "name": "stderr",
     "output_type": "stream",
     "text": [
      "C:\\Users\\PC1\\anaconda3\\Lib\\site-packages\\_distutils_hack\\__init__.py:33: UserWarning: Setuptools is replacing distutils.\n",
      "  warnings.warn(\"Setuptools is replacing distutils.\")\n"
     ]
    },
    {
     "name": "stdout",
     "output_type": "stream",
     "text": [
      "Custom Credit Score: 1358700\n"
     ]
    },
    {
     "data": {
      "text/plain": "<Figure size 640x480 with 2 Axes>",
      "image/png": "[encoded data removed]"
     },
     "metadata": {},
     "output_type": "display_data"
    }
   ],
   "source": [
    "from sklearn.utils import compute_sample_weight\n",
    "from sklearn.metrics import f1_score, roc_auc_score, make_scorer, confusion_matrix, ConfusionMatrixDisplay\n",
    "from sklearn.model_selection import GridSearchCV, train_test_split, StratifiedKFold\n",
    "from lightgbm import LGBMClassifier\n",
    "import mlflow\n",
    "import numpy as np\n",
    "import time\n",
    "import datetime\n",
    "import matplotlib.pyplot as plt\n",
    "import pandas as pd\n",
    "\n",
    "# Définissez vos fonctions de coût ici...\n",
    "\n",
    "# Initialisez vos données ici...\n",
    "# X_train, X_test, y_train, y_test = ...\n",
    "\n",
    "# Générer un nom d'expériment unique\n",
    "current_time = datetime.datetime.now().strftime(\"%Y-%m-%d_%H-%M-%S\")\n",
    "experiment_name = f\"experiment_lightgbm_custom_cost_{current_time}\"\n",
    "\n",
    "# Créer l'expériment dans MLflow\n",
    "mlflow.create_experiment(experiment_name)\n",
    "mlflow.set_experiment(experiment_name)\n",
    "\n",
    "# Paramètres pour GridSearchCV\n",
    "param_grid = {\n",
    "    'n_estimators': [100, 500],\n",
    "    'learning_rate': [0.01, 0.05],\n",
    "    # Ajoutez d'autres paramètres ici...\n",
    "}\n",
    "\n",
    "# Créer un générateur de validation croisée\n",
    "cv = StratifiedKFold(n_splits=5, shuffle=True, random_state=42)\n",
    "\n",
    "# Initialiser le modèle\n",
    "clf = LGBMClassifier(random_state=42, class_weight='balanced')\n",
    "\n",
    "# Initialiser GridSearchCV\n",
    "grid_search = GridSearchCV(\n",
    "    estimator=clf,\n",
    "    param_grid=param_grid,\n",
    "    cv=cv,\n",
    "    scoring=make_scorer(custom_scorer, needs_proba=True)\n",
    ")\n",
    "\n",
    "try:\n",
    "    # Entraînement et suivi avec MLflow\n",
    "    with mlflow.start_run():\n",
    "\n",
    "        #sample_weight = compute_sample_weight(class_weight='balanced', y=y_train)\n",
    "        \n",
    "        start_time = time.time()\n",
    "        #grid_search.fit(X_train, y_train, sample_weight=sample_weight)\n",
    "        grid_search.fit(X_train, y_train)\n",
    "\n",
    "        # Enregistrement des meilleurs paramètres et modèle\n",
    "        best_params = grid_search.best_params_\n",
    "        mlflow.log_params(best_params)\n",
    "\n",
    "        best_estimator = grid_search.best_estimator_\n",
    "        mlflow.sklearn.log_model(best_estimator, \"best_model\")\n",
    "\n",
    "        # Calcul de la métrique personnalisée sur le jeu de test\n",
    "        test_pred_proba = best_estimator.predict_proba(X_test)[:, 1]\n",
    "        test_cost = custom_scorer(y_test, test_pred_proba)\n",
    "        mlflow.log_metric('test_custom_cost', test_cost)\n",
    "\n",
    "        test_auc = auc_scorer(y_test, test_pred_proba)\n",
    "        mlflow.log_metric('test_auc', test_auc)\n",
    "\n",
    "        # Calcul et enregistrement du F1 score\n",
    "        test_pred = best_estimator.predict(X_test)\n",
    "        test_f1_score = f1_score(y_test, test_pred)\n",
    "        mlflow.log_metric('test_f1_score', test_f1_score)\n",
    "\n",
    "        # Création et enregistrement de la matrice de confusion\n",
    "        conf_matrix = confusion_matrix(y_test, test_pred)\n",
    "        disp = ConfusionMatrixDisplay(confusion_matrix=conf_matrix)\n",
    "        cmap = plt.cm.Blues\n",
    "        disp.plot(cmap=cmap)\n",
    "        plt.savefig(\"confusion_matrix.png\")\n",
    "        mlflow.log_artifact(\"confusion_matrix.png\")\n",
    "\n",
    "        # Enregistrement de la durée de l'entraînement\n",
    "        duration = time.time() - start_time\n",
    "        mlflow.log_metric('training_duration', duration)\n",
    "\n",
    "        # Sauvegarde optionnelle des résultats de GridSearchCV\n",
    "        pd.DataFrame(grid_search.cv_results_).to_csv('grid_search_results.csv')\n",
    "        mlflow.log_artifact('grid_search_results.csv')\n",
    "\n",
    "except Exception as e:\n",
    "    print(f\"Une erreur est survenue lors de l'entraînement : {e}\")\n",
    "\n",
    "finally:\n",
    "    mlflow.end_run()\n"
   ],
   "metadata": {
    "collapsed": false,
    "ExecuteTime": {
     "end_time": "2023-12-20T16:46:47.380794900Z",
     "start_time": "2023-12-20T16:46:29.046075500Z"
    }
   }
  },
  {
   "cell_type": "markdown",
   "source": [
    "### F1 score"
   ],
   "metadata": {
    "collapsed": false
   }
  },
  {
   "cell_type": "code",
   "execution_count": 125,
   "outputs": [
    {
     "name": "stderr",
     "output_type": "stream",
     "text": [
      "WARNING:root:Malformed experiment 'mlruns'. Detailed error Yaml file 'C:\\Users\\PC1\\DataspellProjects\\Home_Credit_Default_Risk\\notebook\\mlruns\\mlruns\\meta.yaml' does not exist.\n",
      "Traceback (most recent call last):\n",
      "  File \"C:\\Users\\PC1\\anaconda3\\Lib\\site-packages\\mlflow\\store\\tracking\\file_store.py\", line 302, in search_experiments\n",
      "    exp = self._get_experiment(exp_id, view_type)\n",
      "          ^^^^^^^^^^^^^^^^^^^^^^^^^^^^^^^^^^^^^^^\n",
      "  File \"C:\\Users\\PC1\\anaconda3\\Lib\\site-packages\\mlflow\\store\\tracking\\file_store.py\", line 395, in _get_experiment\n",
      "    meta = FileStore._read_yaml(experiment_dir, FileStore.META_DATA_FILE_NAME)\n",
      "           ^^^^^^^^^^^^^^^^^^^^^^^^^^^^^^^^^^^^^^^^^^^^^^^^^^^^^^^^^^^^^^^^^^^\n",
      "  File \"C:\\Users\\PC1\\anaconda3\\Lib\\site-packages\\mlflow\\store\\tracking\\file_store.py\", line 1303, in _read_yaml\n",
      "    return _read_helper(root, file_name, attempts_remaining=retries)\n",
      "           ^^^^^^^^^^^^^^^^^^^^^^^^^^^^^^^^^^^^^^^^^^^^^^^^^^^^^^^^^\n",
      "  File \"C:\\Users\\PC1\\anaconda3\\Lib\\site-packages\\mlflow\\store\\tracking\\file_store.py\", line 1296, in _read_helper\n",
      "    result = read_yaml(root, file_name)\n",
      "             ^^^^^^^^^^^^^^^^^^^^^^^^^^\n",
      "  File \"C:\\Users\\PC1\\anaconda3\\Lib\\site-packages\\mlflow\\utils\\file_utils.py\", line 303, in read_yaml\n",
      "    raise MissingConfigException(f\"Yaml file '{file_path}' does not exist.\")\n",
      "mlflow.exceptions.MissingConfigException: Yaml file 'C:\\Users\\PC1\\DataspellProjects\\Home_Credit_Default_Risk\\notebook\\mlruns\\mlruns\\meta.yaml' does not exist.\n",
      "WARNING:root:Malformed experiment 'mlruns'. Detailed error Yaml file 'C:\\Users\\PC1\\DataspellProjects\\Home_Credit_Default_Risk\\notebook\\mlruns\\mlruns\\meta.yaml' does not exist.\n",
      "Traceback (most recent call last):\n",
      "  File \"C:\\Users\\PC1\\anaconda3\\Lib\\site-packages\\mlflow\\store\\tracking\\file_store.py\", line 302, in search_experiments\n",
      "    exp = self._get_experiment(exp_id, view_type)\n",
      "          ^^^^^^^^^^^^^^^^^^^^^^^^^^^^^^^^^^^^^^^\n",
      "  File \"C:\\Users\\PC1\\anaconda3\\Lib\\site-packages\\mlflow\\store\\tracking\\file_store.py\", line 395, in _get_experiment\n",
      "    meta = FileStore._read_yaml(experiment_dir, FileStore.META_DATA_FILE_NAME)\n",
      "           ^^^^^^^^^^^^^^^^^^^^^^^^^^^^^^^^^^^^^^^^^^^^^^^^^^^^^^^^^^^^^^^^^^^\n",
      "  File \"C:\\Users\\PC1\\anaconda3\\Lib\\site-packages\\mlflow\\store\\tracking\\file_store.py\", line 1303, in _read_yaml\n",
      "    return _read_helper(root, file_name, attempts_remaining=retries)\n",
      "           ^^^^^^^^^^^^^^^^^^^^^^^^^^^^^^^^^^^^^^^^^^^^^^^^^^^^^^^^^\n",
      "  File \"C:\\Users\\PC1\\anaconda3\\Lib\\site-packages\\mlflow\\store\\tracking\\file_store.py\", line 1296, in _read_helper\n",
      "    result = read_yaml(root, file_name)\n",
      "             ^^^^^^^^^^^^^^^^^^^^^^^^^^\n",
      "  File \"C:\\Users\\PC1\\anaconda3\\Lib\\site-packages\\mlflow\\utils\\file_utils.py\", line 303, in read_yaml\n",
      "    raise MissingConfigException(f\"Yaml file '{file_path}' does not exist.\")\n",
      "mlflow.exceptions.MissingConfigException: Yaml file 'C:\\Users\\PC1\\DataspellProjects\\Home_Credit_Default_Risk\\notebook\\mlruns\\mlruns\\meta.yaml' does not exist.\n"
     ]
    },
    {
     "name": "stdout",
     "output_type": "stream",
     "text": [
      "[LightGBM] [Warning] Found whitespace in feature_names, replace with underlines\n",
      "[LightGBM] [Info] Number of positive: 6230, number of negative: 70567\n",
      "[LightGBM] [Info] Auto-choosing row-wise multi-threading, the overhead of testing was 0.001642 seconds.\n",
      "You can set `force_row_wise=true` to remove the overhead.\n",
      "And if memory is not enough, you can set `force_col_wise=true`.\n",
      "[LightGBM] [Info] Total Bins 3561\n",
      "[LightGBM] [Info] Number of data points in the train set: 76797, number of used features: 39\n",
      "[LightGBM] [Info] [binary:BoostFromScore]: pavg=0.500000 -> initscore=0.000000\n",
      "[LightGBM] [Info] Start training from score 0.000000\n"
     ]
    },
    {
     "name": "stderr",
     "output_type": "stream",
     "text": [
      "C:\\Users\\PC1\\anaconda3\\Lib\\site-packages\\sklearn\\model_selection\\_validation.py:824: UserWarning: Scoring failed. The score on this train-test partition for these parameters will be set to nan. Details: \n",
      "Traceback (most recent call last):\n",
      "  File \"C:\\Users\\PC1\\anaconda3\\Lib\\site-packages\\sklearn\\model_selection\\_validation.py\", line 813, in _score\n",
      "    scores = scorer(estimator, X_test, y_test)\n",
      "             ^^^^^^^^^^^^^^^^^^^^^^^^^^^^^^^^^\n",
      "  File \"C:\\Users\\PC1\\anaconda3\\Lib\\site-packages\\sklearn\\metrics\\_scorer.py\", line 266, in __call__\n",
      "    return self._score(partial(_cached_call, None), estimator, X, y_true, **_kwargs)\n",
      "           ^^^^^^^^^^^^^^^^^^^^^^^^^^^^^^^^^^^^^^^^^^^^^^^^^^^^^^^^^^^^^^^^^^^^^^^^^\n",
      "  File \"C:\\Users\\PC1\\anaconda3\\Lib\\site-packages\\sklearn\\metrics\\_scorer.py\", line 401, in _score\n",
      "    return self._sign * self._score_func(y, y_pred, **scoring_kwargs)\n",
      "                        ^^^^^^^^^^^^^^^^^^^^^^^^^^^^^^^^^^^^^^^^^^^^^\n",
      "  File \"C:\\Users\\PC1\\AppData\\Local\\Temp\\ipykernel_35148\\1473373116.py\", line 9, in f1_score_scorer\n",
      "    return f1_score(y_true, y_pred_proba)\n",
      "           ^^^^^^^^^^^^^^^^^^^^^^^^^^^^^^\n",
      "  File \"C:\\Users\\PC1\\anaconda3\\Lib\\site-packages\\sklearn\\utils\\_param_validation.py\", line 211, in wrapper\n",
      "    return func(*args, **kwargs)\n",
      "           ^^^^^^^^^^^^^^^^^^^^^\n",
      "  File \"C:\\Users\\PC1\\anaconda3\\Lib\\site-packages\\sklearn\\metrics\\_classification.py\", line 1238, in f1_score\n",
      "    return fbeta_score(\n",
      "           ^^^^^^^^^^^^\n",
      "  File \"C:\\Users\\PC1\\anaconda3\\Lib\\site-packages\\sklearn\\utils\\_param_validation.py\", line 184, in wrapper\n",
      "    return func(*args, **kwargs)\n",
      "           ^^^^^^^^^^^^^^^^^^^^^\n",
      "  File \"C:\\Users\\PC1\\anaconda3\\Lib\\site-packages\\sklearn\\metrics\\_classification.py\", line 1411, in fbeta_score\n",
      "    _, _, f, _ = precision_recall_fscore_support(\n",
      "                 ^^^^^^^^^^^^^^^^^^^^^^^^^^^^^^^^\n",
      "  File \"C:\\Users\\PC1\\anaconda3\\Lib\\site-packages\\sklearn\\utils\\_param_validation.py\", line 184, in wrapper\n",
      "    return func(*args, **kwargs)\n",
      "           ^^^^^^^^^^^^^^^^^^^^^\n",
      "  File \"C:\\Users\\PC1\\anaconda3\\Lib\\site-packages\\sklearn\\metrics\\_classification.py\", line 1721, in precision_recall_fscore_support\n",
      "    labels = _check_set_wise_labels(y_true, y_pred, average, labels, pos_label)\n",
      "             ^^^^^^^^^^^^^^^^^^^^^^^^^^^^^^^^^^^^^^^^^^^^^^^^^^^^^^^^^^^^^^^^^^\n",
      "  File \"C:\\Users\\PC1\\anaconda3\\Lib\\site-packages\\sklearn\\metrics\\_classification.py\", line 1499, in _check_set_wise_labels\n",
      "    y_type, y_true, y_pred = _check_targets(y_true, y_pred)\n",
      "                             ^^^^^^^^^^^^^^^^^^^^^^^^^^^^^^\n",
      "  File \"C:\\Users\\PC1\\anaconda3\\Lib\\site-packages\\sklearn\\metrics\\_classification.py\", line 93, in _check_targets\n",
      "    raise ValueError(\n",
      "ValueError: Classification metrics can't handle a mix of binary and continuous targets\n",
      "\n",
      "  warnings.warn(\n"
     ]
    },
    {
     "name": "stdout",
     "output_type": "stream",
     "text": [
      "[LightGBM] [Warning] Found whitespace in feature_names, replace with underlines\n",
      "[LightGBM] [Info] Number of positive: 6230, number of negative: 70567\n",
      "[LightGBM] [Info] Auto-choosing row-wise multi-threading, the overhead of testing was 0.002942 seconds.\n",
      "You can set `force_row_wise=true` to remove the overhead.\n",
      "And if memory is not enough, you can set `force_col_wise=true`.\n",
      "[LightGBM] [Info] Total Bins 3572\n",
      "[LightGBM] [Info] Number of data points in the train set: 76797, number of used features: 39\n",
      "[LightGBM] [Info] [binary:BoostFromScore]: pavg=0.500000 -> initscore=0.000000\n",
      "[LightGBM] [Info] Start training from score 0.000000\n"
     ]
    },
    {
     "name": "stderr",
     "output_type": "stream",
     "text": [
      "C:\\Users\\PC1\\anaconda3\\Lib\\site-packages\\sklearn\\model_selection\\_validation.py:824: UserWarning: Scoring failed. The score on this train-test partition for these parameters will be set to nan. Details: \n",
      "Traceback (most recent call last):\n",
      "  File \"C:\\Users\\PC1\\anaconda3\\Lib\\site-packages\\sklearn\\model_selection\\_validation.py\", line 813, in _score\n",
      "    scores = scorer(estimator, X_test, y_test)\n",
      "             ^^^^^^^^^^^^^^^^^^^^^^^^^^^^^^^^^\n",
      "  File \"C:\\Users\\PC1\\anaconda3\\Lib\\site-packages\\sklearn\\metrics\\_scorer.py\", line 266, in __call__\n",
      "    return self._score(partial(_cached_call, None), estimator, X, y_true, **_kwargs)\n",
      "           ^^^^^^^^^^^^^^^^^^^^^^^^^^^^^^^^^^^^^^^^^^^^^^^^^^^^^^^^^^^^^^^^^^^^^^^^^\n",
      "  File \"C:\\Users\\PC1\\anaconda3\\Lib\\site-packages\\sklearn\\metrics\\_scorer.py\", line 401, in _score\n",
      "    return self._sign * self._score_func(y, y_pred, **scoring_kwargs)\n",
      "                        ^^^^^^^^^^^^^^^^^^^^^^^^^^^^^^^^^^^^^^^^^^^^^\n",
      "  File \"C:\\Users\\PC1\\AppData\\Local\\Temp\\ipykernel_35148\\1473373116.py\", line 9, in f1_score_scorer\n",
      "    return f1_score(y_true, y_pred_proba)\n",
      "           ^^^^^^^^^^^^^^^^^^^^^^^^^^^^^^\n",
      "  File \"C:\\Users\\PC1\\anaconda3\\Lib\\site-packages\\sklearn\\utils\\_param_validation.py\", line 211, in wrapper\n",
      "    return func(*args, **kwargs)\n",
      "           ^^^^^^^^^^^^^^^^^^^^^\n",
      "  File \"C:\\Users\\PC1\\anaconda3\\Lib\\site-packages\\sklearn\\metrics\\_classification.py\", line 1238, in f1_score\n",
      "    return fbeta_score(\n",
      "           ^^^^^^^^^^^^\n",
      "  File \"C:\\Users\\PC1\\anaconda3\\Lib\\site-packages\\sklearn\\utils\\_param_validation.py\", line 184, in wrapper\n",
      "    return func(*args, **kwargs)\n",
      "           ^^^^^^^^^^^^^^^^^^^^^\n",
      "  File \"C:\\Users\\PC1\\anaconda3\\Lib\\site-packages\\sklearn\\metrics\\_classification.py\", line 1411, in fbeta_score\n",
      "    _, _, f, _ = precision_recall_fscore_support(\n",
      "                 ^^^^^^^^^^^^^^^^^^^^^^^^^^^^^^^^\n",
      "  File \"C:\\Users\\PC1\\anaconda3\\Lib\\site-packages\\sklearn\\utils\\_param_validation.py\", line 184, in wrapper\n",
      "    return func(*args, **kwargs)\n",
      "           ^^^^^^^^^^^^^^^^^^^^^\n",
      "  File \"C:\\Users\\PC1\\anaconda3\\Lib\\site-packages\\sklearn\\metrics\\_classification.py\", line 1721, in precision_recall_fscore_support\n",
      "    labels = _check_set_wise_labels(y_true, y_pred, average, labels, pos_label)\n",
      "             ^^^^^^^^^^^^^^^^^^^^^^^^^^^^^^^^^^^^^^^^^^^^^^^^^^^^^^^^^^^^^^^^^^\n",
      "  File \"C:\\Users\\PC1\\anaconda3\\Lib\\site-packages\\sklearn\\metrics\\_classification.py\", line 1499, in _check_set_wise_labels\n",
      "    y_type, y_true, y_pred = _check_targets(y_true, y_pred)\n",
      "                             ^^^^^^^^^^^^^^^^^^^^^^^^^^^^^^\n",
      "  File \"C:\\Users\\PC1\\anaconda3\\Lib\\site-packages\\sklearn\\metrics\\_classification.py\", line 93, in _check_targets\n",
      "    raise ValueError(\n",
      "ValueError: Classification metrics can't handle a mix of binary and continuous targets\n",
      "\n",
      "  warnings.warn(\n"
     ]
    },
    {
     "name": "stdout",
     "output_type": "stream",
     "text": [
      "[LightGBM] [Warning] Found whitespace in feature_names, replace with underlines\n",
      "[LightGBM] [Info] Number of positive: 6231, number of negative: 70567\n",
      "[LightGBM] [Info] Auto-choosing row-wise multi-threading, the overhead of testing was 0.002573 seconds.\n",
      "You can set `force_row_wise=true` to remove the overhead.\n",
      "And if memory is not enough, you can set `force_col_wise=true`.\n",
      "[LightGBM] [Info] Total Bins 3575\n",
      "[LightGBM] [Info] Number of data points in the train set: 76798, number of used features: 39\n",
      "[LightGBM] [Info] [binary:BoostFromScore]: pavg=0.500000 -> initscore=0.000000\n",
      "[LightGBM] [Info] Start training from score 0.000000\n"
     ]
    },
    {
     "name": "stderr",
     "output_type": "stream",
     "text": [
      "C:\\Users\\PC1\\anaconda3\\Lib\\site-packages\\sklearn\\model_selection\\_validation.py:824: UserWarning: Scoring failed. The score on this train-test partition for these parameters will be set to nan. Details: \n",
      "Traceback (most recent call last):\n",
      "  File \"C:\\Users\\PC1\\anaconda3\\Lib\\site-packages\\sklearn\\model_selection\\_validation.py\", line 813, in _score\n",
      "    scores = scorer(estimator, X_test, y_test)\n",
      "             ^^^^^^^^^^^^^^^^^^^^^^^^^^^^^^^^^\n",
      "  File \"C:\\Users\\PC1\\anaconda3\\Lib\\site-packages\\sklearn\\metrics\\_scorer.py\", line 266, in __call__\n",
      "    return self._score(partial(_cached_call, None), estimator, X, y_true, **_kwargs)\n",
      "           ^^^^^^^^^^^^^^^^^^^^^^^^^^^^^^^^^^^^^^^^^^^^^^^^^^^^^^^^^^^^^^^^^^^^^^^^^\n",
      "  File \"C:\\Users\\PC1\\anaconda3\\Lib\\site-packages\\sklearn\\metrics\\_scorer.py\", line 401, in _score\n",
      "    return self._sign * self._score_func(y, y_pred, **scoring_kwargs)\n",
      "                        ^^^^^^^^^^^^^^^^^^^^^^^^^^^^^^^^^^^^^^^^^^^^^\n",
      "  File \"C:\\Users\\PC1\\AppData\\Local\\Temp\\ipykernel_35148\\1473373116.py\", line 9, in f1_score_scorer\n",
      "    return f1_score(y_true, y_pred_proba)\n",
      "           ^^^^^^^^^^^^^^^^^^^^^^^^^^^^^^\n",
      "  File \"C:\\Users\\PC1\\anaconda3\\Lib\\site-packages\\sklearn\\utils\\_param_validation.py\", line 211, in wrapper\n",
      "    return func(*args, **kwargs)\n",
      "           ^^^^^^^^^^^^^^^^^^^^^\n",
      "  File \"C:\\Users\\PC1\\anaconda3\\Lib\\site-packages\\sklearn\\metrics\\_classification.py\", line 1238, in f1_score\n",
      "    return fbeta_score(\n",
      "           ^^^^^^^^^^^^\n",
      "  File \"C:\\Users\\PC1\\anaconda3\\Lib\\site-packages\\sklearn\\utils\\_param_validation.py\", line 184, in wrapper\n",
      "    return func(*args, **kwargs)\n",
      "           ^^^^^^^^^^^^^^^^^^^^^\n",
      "  File \"C:\\Users\\PC1\\anaconda3\\Lib\\site-packages\\sklearn\\metrics\\_classification.py\", line 1411, in fbeta_score\n",
      "    _, _, f, _ = precision_recall_fscore_support(\n",
      "                 ^^^^^^^^^^^^^^^^^^^^^^^^^^^^^^^^\n",
      "  File \"C:\\Users\\PC1\\anaconda3\\Lib\\site-packages\\sklearn\\utils\\_param_validation.py\", line 184, in wrapper\n",
      "    return func(*args, **kwargs)\n",
      "           ^^^^^^^^^^^^^^^^^^^^^\n",
      "  File \"C:\\Users\\PC1\\anaconda3\\Lib\\site-packages\\sklearn\\metrics\\_classification.py\", line 1721, in precision_recall_fscore_support\n",
      "    labels = _check_set_wise_labels(y_true, y_pred, average, labels, pos_label)\n",
      "             ^^^^^^^^^^^^^^^^^^^^^^^^^^^^^^^^^^^^^^^^^^^^^^^^^^^^^^^^^^^^^^^^^^\n",
      "  File \"C:\\Users\\PC1\\anaconda3\\Lib\\site-packages\\sklearn\\metrics\\_classification.py\", line 1499, in _check_set_wise_labels\n",
      "    y_type, y_true, y_pred = _check_targets(y_true, y_pred)\n",
      "                             ^^^^^^^^^^^^^^^^^^^^^^^^^^^^^^\n",
      "  File \"C:\\Users\\PC1\\anaconda3\\Lib\\site-packages\\sklearn\\metrics\\_classification.py\", line 93, in _check_targets\n",
      "    raise ValueError(\n",
      "ValueError: Classification metrics can't handle a mix of binary and continuous targets\n",
      "\n",
      "  warnings.warn(\n"
     ]
    },
    {
     "name": "stdout",
     "output_type": "stream",
     "text": [
      "[LightGBM] [Warning] Found whitespace in feature_names, replace with underlines\n",
      "[LightGBM] [Info] Number of positive: 6231, number of negative: 70567\n",
      "[LightGBM] [Info] Auto-choosing row-wise multi-threading, the overhead of testing was 0.002597 seconds.\n",
      "You can set `force_row_wise=true` to remove the overhead.\n",
      "And if memory is not enough, you can set `force_col_wise=true`.\n",
      "[LightGBM] [Info] Total Bins 3575\n",
      "[LightGBM] [Info] Number of data points in the train set: 76798, number of used features: 39\n",
      "[LightGBM] [Info] [binary:BoostFromScore]: pavg=0.500000 -> initscore=0.000000\n",
      "[LightGBM] [Info] Start training from score 0.000000\n"
     ]
    },
    {
     "name": "stderr",
     "output_type": "stream",
     "text": [
      "C:\\Users\\PC1\\anaconda3\\Lib\\site-packages\\sklearn\\model_selection\\_validation.py:824: UserWarning: Scoring failed. The score on this train-test partition for these parameters will be set to nan. Details: \n",
      "Traceback (most recent call last):\n",
      "  File \"C:\\Users\\PC1\\anaconda3\\Lib\\site-packages\\sklearn\\model_selection\\_validation.py\", line 813, in _score\n",
      "    scores = scorer(estimator, X_test, y_test)\n",
      "             ^^^^^^^^^^^^^^^^^^^^^^^^^^^^^^^^^\n",
      "  File \"C:\\Users\\PC1\\anaconda3\\Lib\\site-packages\\sklearn\\metrics\\_scorer.py\", line 266, in __call__\n",
      "    return self._score(partial(_cached_call, None), estimator, X, y_true, **_kwargs)\n",
      "           ^^^^^^^^^^^^^^^^^^^^^^^^^^^^^^^^^^^^^^^^^^^^^^^^^^^^^^^^^^^^^^^^^^^^^^^^^\n",
      "  File \"C:\\Users\\PC1\\anaconda3\\Lib\\site-packages\\sklearn\\metrics\\_scorer.py\", line 401, in _score\n",
      "    return self._sign * self._score_func(y, y_pred, **scoring_kwargs)\n",
      "                        ^^^^^^^^^^^^^^^^^^^^^^^^^^^^^^^^^^^^^^^^^^^^^\n",
      "  File \"C:\\Users\\PC1\\AppData\\Local\\Temp\\ipykernel_35148\\1473373116.py\", line 9, in f1_score_scorer\n",
      "    return f1_score(y_true, y_pred_proba)\n",
      "           ^^^^^^^^^^^^^^^^^^^^^^^^^^^^^^\n",
      "  File \"C:\\Users\\PC1\\anaconda3\\Lib\\site-packages\\sklearn\\utils\\_param_validation.py\", line 211, in wrapper\n",
      "    return func(*args, **kwargs)\n",
      "           ^^^^^^^^^^^^^^^^^^^^^\n",
      "  File \"C:\\Users\\PC1\\anaconda3\\Lib\\site-packages\\sklearn\\metrics\\_classification.py\", line 1238, in f1_score\n",
      "    return fbeta_score(\n",
      "           ^^^^^^^^^^^^\n",
      "  File \"C:\\Users\\PC1\\anaconda3\\Lib\\site-packages\\sklearn\\utils\\_param_validation.py\", line 184, in wrapper\n",
      "    return func(*args, **kwargs)\n",
      "           ^^^^^^^^^^^^^^^^^^^^^\n",
      "  File \"C:\\Users\\PC1\\anaconda3\\Lib\\site-packages\\sklearn\\metrics\\_classification.py\", line 1411, in fbeta_score\n",
      "    _, _, f, _ = precision_recall_fscore_support(\n",
      "                 ^^^^^^^^^^^^^^^^^^^^^^^^^^^^^^^^\n",
      "  File \"C:\\Users\\PC1\\anaconda3\\Lib\\site-packages\\sklearn\\utils\\_param_validation.py\", line 184, in wrapper\n",
      "    return func(*args, **kwargs)\n",
      "           ^^^^^^^^^^^^^^^^^^^^^\n",
      "  File \"C:\\Users\\PC1\\anaconda3\\Lib\\site-packages\\sklearn\\metrics\\_classification.py\", line 1721, in precision_recall_fscore_support\n",
      "    labels = _check_set_wise_labels(y_true, y_pred, average, labels, pos_label)\n",
      "             ^^^^^^^^^^^^^^^^^^^^^^^^^^^^^^^^^^^^^^^^^^^^^^^^^^^^^^^^^^^^^^^^^^\n",
      "  File \"C:\\Users\\PC1\\anaconda3\\Lib\\site-packages\\sklearn\\metrics\\_classification.py\", line 1499, in _check_set_wise_labels\n",
      "    y_type, y_true, y_pred = _check_targets(y_true, y_pred)\n",
      "                             ^^^^^^^^^^^^^^^^^^^^^^^^^^^^^^\n",
      "  File \"C:\\Users\\PC1\\anaconda3\\Lib\\site-packages\\sklearn\\metrics\\_classification.py\", line 93, in _check_targets\n",
      "    raise ValueError(\n",
      "ValueError: Classification metrics can't handle a mix of binary and continuous targets\n",
      "\n",
      "  warnings.warn(\n"
     ]
    },
    {
     "name": "stdout",
     "output_type": "stream",
     "text": [
      "[LightGBM] [Warning] Found whitespace in feature_names, replace with underlines\n",
      "[LightGBM] [Info] Number of positive: 6230, number of negative: 70568\n",
      "[LightGBM] [Info] Auto-choosing row-wise multi-threading, the overhead of testing was 0.002757 seconds.\n",
      "You can set `force_row_wise=true` to remove the overhead.\n",
      "And if memory is not enough, you can set `force_col_wise=true`.\n",
      "[LightGBM] [Info] Total Bins 3575\n",
      "[LightGBM] [Info] Number of data points in the train set: 76798, number of used features: 39\n",
      "[LightGBM] [Info] [binary:BoostFromScore]: pavg=0.500000 -> initscore=-0.000000\n",
      "[LightGBM] [Info] Start training from score -0.000000\n"
     ]
    },
    {
     "name": "stderr",
     "output_type": "stream",
     "text": [
      "C:\\Users\\PC1\\anaconda3\\Lib\\site-packages\\sklearn\\model_selection\\_validation.py:824: UserWarning: Scoring failed. The score on this train-test partition for these parameters will be set to nan. Details: \n",
      "Traceback (most recent call last):\n",
      "  File \"C:\\Users\\PC1\\anaconda3\\Lib\\site-packages\\sklearn\\model_selection\\_validation.py\", line 813, in _score\n",
      "    scores = scorer(estimator, X_test, y_test)\n",
      "             ^^^^^^^^^^^^^^^^^^^^^^^^^^^^^^^^^\n",
      "  File \"C:\\Users\\PC1\\anaconda3\\Lib\\site-packages\\sklearn\\metrics\\_scorer.py\", line 266, in __call__\n",
      "    return self._score(partial(_cached_call, None), estimator, X, y_true, **_kwargs)\n",
      "           ^^^^^^^^^^^^^^^^^^^^^^^^^^^^^^^^^^^^^^^^^^^^^^^^^^^^^^^^^^^^^^^^^^^^^^^^^\n",
      "  File \"C:\\Users\\PC1\\anaconda3\\Lib\\site-packages\\sklearn\\metrics\\_scorer.py\", line 401, in _score\n",
      "    return self._sign * self._score_func(y, y_pred, **scoring_kwargs)\n",
      "                        ^^^^^^^^^^^^^^^^^^^^^^^^^^^^^^^^^^^^^^^^^^^^^\n",
      "  File \"C:\\Users\\PC1\\AppData\\Local\\Temp\\ipykernel_35148\\1473373116.py\", line 9, in f1_score_scorer\n",
      "    return f1_score(y_true, y_pred_proba)\n",
      "           ^^^^^^^^^^^^^^^^^^^^^^^^^^^^^^\n",
      "  File \"C:\\Users\\PC1\\anaconda3\\Lib\\site-packages\\sklearn\\utils\\_param_validation.py\", line 211, in wrapper\n",
      "    return func(*args, **kwargs)\n",
      "           ^^^^^^^^^^^^^^^^^^^^^\n",
      "  File \"C:\\Users\\PC1\\anaconda3\\Lib\\site-packages\\sklearn\\metrics\\_classification.py\", line 1238, in f1_score\n",
      "    return fbeta_score(\n",
      "           ^^^^^^^^^^^^\n",
      "  File \"C:\\Users\\PC1\\anaconda3\\Lib\\site-packages\\sklearn\\utils\\_param_validation.py\", line 184, in wrapper\n",
      "    return func(*args, **kwargs)\n",
      "           ^^^^^^^^^^^^^^^^^^^^^\n",
      "  File \"C:\\Users\\PC1\\anaconda3\\Lib\\site-packages\\sklearn\\metrics\\_classification.py\", line 1411, in fbeta_score\n",
      "    _, _, f, _ = precision_recall_fscore_support(\n",
      "                 ^^^^^^^^^^^^^^^^^^^^^^^^^^^^^^^^\n",
      "  File \"C:\\Users\\PC1\\anaconda3\\Lib\\site-packages\\sklearn\\utils\\_param_validation.py\", line 184, in wrapper\n",
      "    return func(*args, **kwargs)\n",
      "           ^^^^^^^^^^^^^^^^^^^^^\n",
      "  File \"C:\\Users\\PC1\\anaconda3\\Lib\\site-packages\\sklearn\\metrics\\_classification.py\", line 1721, in precision_recall_fscore_support\n",
      "    labels = _check_set_wise_labels(y_true, y_pred, average, labels, pos_label)\n",
      "             ^^^^^^^^^^^^^^^^^^^^^^^^^^^^^^^^^^^^^^^^^^^^^^^^^^^^^^^^^^^^^^^^^^\n",
      "  File \"C:\\Users\\PC1\\anaconda3\\Lib\\site-packages\\sklearn\\metrics\\_classification.py\", line 1499, in _check_set_wise_labels\n",
      "    y_type, y_true, y_pred = _check_targets(y_true, y_pred)\n",
      "                             ^^^^^^^^^^^^^^^^^^^^^^^^^^^^^^\n",
      "  File \"C:\\Users\\PC1\\anaconda3\\Lib\\site-packages\\sklearn\\metrics\\_classification.py\", line 93, in _check_targets\n",
      "    raise ValueError(\n",
      "ValueError: Classification metrics can't handle a mix of binary and continuous targets\n",
      "\n",
      "  warnings.warn(\n"
     ]
    },
    {
     "name": "stdout",
     "output_type": "stream",
     "text": [
      "[LightGBM] [Warning] Found whitespace in feature_names, replace with underlines\n",
      "[LightGBM] [Info] Number of positive: 6230, number of negative: 70567\n",
      "[LightGBM] [Info] Auto-choosing row-wise multi-threading, the overhead of testing was 0.002624 seconds.\n",
      "You can set `force_row_wise=true` to remove the overhead.\n",
      "And if memory is not enough, you can set `force_col_wise=true`.\n",
      "[LightGBM] [Info] Total Bins 3561\n",
      "[LightGBM] [Info] Number of data points in the train set: 76797, number of used features: 39\n",
      "[LightGBM] [Info] [binary:BoostFromScore]: pavg=0.500000 -> initscore=0.000000\n",
      "[LightGBM] [Info] Start training from score 0.000000\n"
     ]
    },
    {
     "name": "stderr",
     "output_type": "stream",
     "text": [
      "C:\\Users\\PC1\\anaconda3\\Lib\\site-packages\\sklearn\\model_selection\\_validation.py:824: UserWarning: Scoring failed. The score on this train-test partition for these parameters will be set to nan. Details: \n",
      "Traceback (most recent call last):\n",
      "  File \"C:\\Users\\PC1\\anaconda3\\Lib\\site-packages\\sklearn\\model_selection\\_validation.py\", line 813, in _score\n",
      "    scores = scorer(estimator, X_test, y_test)\n",
      "             ^^^^^^^^^^^^^^^^^^^^^^^^^^^^^^^^^\n",
      "  File \"C:\\Users\\PC1\\anaconda3\\Lib\\site-packages\\sklearn\\metrics\\_scorer.py\", line 266, in __call__\n",
      "    return self._score(partial(_cached_call, None), estimator, X, y_true, **_kwargs)\n",
      "           ^^^^^^^^^^^^^^^^^^^^^^^^^^^^^^^^^^^^^^^^^^^^^^^^^^^^^^^^^^^^^^^^^^^^^^^^^\n",
      "  File \"C:\\Users\\PC1\\anaconda3\\Lib\\site-packages\\sklearn\\metrics\\_scorer.py\", line 401, in _score\n",
      "    return self._sign * self._score_func(y, y_pred, **scoring_kwargs)\n",
      "                        ^^^^^^^^^^^^^^^^^^^^^^^^^^^^^^^^^^^^^^^^^^^^^\n",
      "  File \"C:\\Users\\PC1\\AppData\\Local\\Temp\\ipykernel_35148\\1473373116.py\", line 9, in f1_score_scorer\n",
      "    return f1_score(y_true, y_pred_proba)\n",
      "           ^^^^^^^^^^^^^^^^^^^^^^^^^^^^^^\n",
      "  File \"C:\\Users\\PC1\\anaconda3\\Lib\\site-packages\\sklearn\\utils\\_param_validation.py\", line 211, in wrapper\n",
      "    return func(*args, **kwargs)\n",
      "           ^^^^^^^^^^^^^^^^^^^^^\n",
      "  File \"C:\\Users\\PC1\\anaconda3\\Lib\\site-packages\\sklearn\\metrics\\_classification.py\", line 1238, in f1_score\n",
      "    return fbeta_score(\n",
      "           ^^^^^^^^^^^^\n",
      "  File \"C:\\Users\\PC1\\anaconda3\\Lib\\site-packages\\sklearn\\utils\\_param_validation.py\", line 184, in wrapper\n",
      "    return func(*args, **kwargs)\n",
      "           ^^^^^^^^^^^^^^^^^^^^^\n",
      "  File \"C:\\Users\\PC1\\anaconda3\\Lib\\site-packages\\sklearn\\metrics\\_classification.py\", line 1411, in fbeta_score\n",
      "    _, _, f, _ = precision_recall_fscore_support(\n",
      "                 ^^^^^^^^^^^^^^^^^^^^^^^^^^^^^^^^\n",
      "  File \"C:\\Users\\PC1\\anaconda3\\Lib\\site-packages\\sklearn\\utils\\_param_validation.py\", line 184, in wrapper\n",
      "    return func(*args, **kwargs)\n",
      "           ^^^^^^^^^^^^^^^^^^^^^\n",
      "  File \"C:\\Users\\PC1\\anaconda3\\Lib\\site-packages\\sklearn\\metrics\\_classification.py\", line 1721, in precision_recall_fscore_support\n",
      "    labels = _check_set_wise_labels(y_true, y_pred, average, labels, pos_label)\n",
      "             ^^^^^^^^^^^^^^^^^^^^^^^^^^^^^^^^^^^^^^^^^^^^^^^^^^^^^^^^^^^^^^^^^^\n",
      "  File \"C:\\Users\\PC1\\anaconda3\\Lib\\site-packages\\sklearn\\metrics\\_classification.py\", line 1499, in _check_set_wise_labels\n",
      "    y_type, y_true, y_pred = _check_targets(y_true, y_pred)\n",
      "                             ^^^^^^^^^^^^^^^^^^^^^^^^^^^^^^\n",
      "  File \"C:\\Users\\PC1\\anaconda3\\Lib\\site-packages\\sklearn\\metrics\\_classification.py\", line 93, in _check_targets\n",
      "    raise ValueError(\n",
      "ValueError: Classification metrics can't handle a mix of binary and continuous targets\n",
      "\n",
      "  warnings.warn(\n"
     ]
    },
    {
     "name": "stdout",
     "output_type": "stream",
     "text": [
      "[LightGBM] [Warning] Found whitespace in feature_names, replace with underlines\n",
      "[LightGBM] [Info] Number of positive: 6230, number of negative: 70567\n",
      "[LightGBM] [Info] Auto-choosing row-wise multi-threading, the overhead of testing was 0.002499 seconds.\n",
      "You can set `force_row_wise=true` to remove the overhead.\n",
      "And if memory is not enough, you can set `force_col_wise=true`.\n",
      "[LightGBM] [Info] Total Bins 3572\n",
      "[LightGBM] [Info] Number of data points in the train set: 76797, number of used features: 39\n",
      "[LightGBM] [Info] [binary:BoostFromScore]: pavg=0.500000 -> initscore=0.000000\n",
      "[LightGBM] [Info] Start training from score 0.000000\n"
     ]
    },
    {
     "name": "stderr",
     "output_type": "stream",
     "text": [
      "C:\\Users\\PC1\\anaconda3\\Lib\\site-packages\\sklearn\\model_selection\\_validation.py:824: UserWarning: Scoring failed. The score on this train-test partition for these parameters will be set to nan. Details: \n",
      "Traceback (most recent call last):\n",
      "  File \"C:\\Users\\PC1\\anaconda3\\Lib\\site-packages\\sklearn\\model_selection\\_validation.py\", line 813, in _score\n",
      "    scores = scorer(estimator, X_test, y_test)\n",
      "             ^^^^^^^^^^^^^^^^^^^^^^^^^^^^^^^^^\n",
      "  File \"C:\\Users\\PC1\\anaconda3\\Lib\\site-packages\\sklearn\\metrics\\_scorer.py\", line 266, in __call__\n",
      "    return self._score(partial(_cached_call, None), estimator, X, y_true, **_kwargs)\n",
      "           ^^^^^^^^^^^^^^^^^^^^^^^^^^^^^^^^^^^^^^^^^^^^^^^^^^^^^^^^^^^^^^^^^^^^^^^^^\n",
      "  File \"C:\\Users\\PC1\\anaconda3\\Lib\\site-packages\\sklearn\\metrics\\_scorer.py\", line 401, in _score\n",
      "    return self._sign * self._score_func(y, y_pred, **scoring_kwargs)\n",
      "                        ^^^^^^^^^^^^^^^^^^^^^^^^^^^^^^^^^^^^^^^^^^^^^\n",
      "  File \"C:\\Users\\PC1\\AppData\\Local\\Temp\\ipykernel_35148\\1473373116.py\", line 9, in f1_score_scorer\n",
      "    return f1_score(y_true, y_pred_proba)\n",
      "           ^^^^^^^^^^^^^^^^^^^^^^^^^^^^^^\n",
      "  File \"C:\\Users\\PC1\\anaconda3\\Lib\\site-packages\\sklearn\\utils\\_param_validation.py\", line 211, in wrapper\n",
      "    return func(*args, **kwargs)\n",
      "           ^^^^^^^^^^^^^^^^^^^^^\n",
      "  File \"C:\\Users\\PC1\\anaconda3\\Lib\\site-packages\\sklearn\\metrics\\_classification.py\", line 1238, in f1_score\n",
      "    return fbeta_score(\n",
      "           ^^^^^^^^^^^^\n",
      "  File \"C:\\Users\\PC1\\anaconda3\\Lib\\site-packages\\sklearn\\utils\\_param_validation.py\", line 184, in wrapper\n",
      "    return func(*args, **kwargs)\n",
      "           ^^^^^^^^^^^^^^^^^^^^^\n",
      "  File \"C:\\Users\\PC1\\anaconda3\\Lib\\site-packages\\sklearn\\metrics\\_classification.py\", line 1411, in fbeta_score\n",
      "    _, _, f, _ = precision_recall_fscore_support(\n",
      "                 ^^^^^^^^^^^^^^^^^^^^^^^^^^^^^^^^\n",
      "  File \"C:\\Users\\PC1\\anaconda3\\Lib\\site-packages\\sklearn\\utils\\_param_validation.py\", line 184, in wrapper\n",
      "    return func(*args, **kwargs)\n",
      "           ^^^^^^^^^^^^^^^^^^^^^\n",
      "  File \"C:\\Users\\PC1\\anaconda3\\Lib\\site-packages\\sklearn\\metrics\\_classification.py\", line 1721, in precision_recall_fscore_support\n",
      "    labels = _check_set_wise_labels(y_true, y_pred, average, labels, pos_label)\n",
      "             ^^^^^^^^^^^^^^^^^^^^^^^^^^^^^^^^^^^^^^^^^^^^^^^^^^^^^^^^^^^^^^^^^^\n",
      "  File \"C:\\Users\\PC1\\anaconda3\\Lib\\site-packages\\sklearn\\metrics\\_classification.py\", line 1499, in _check_set_wise_labels\n",
      "    y_type, y_true, y_pred = _check_targets(y_true, y_pred)\n",
      "                             ^^^^^^^^^^^^^^^^^^^^^^^^^^^^^^\n",
      "  File \"C:\\Users\\PC1\\anaconda3\\Lib\\site-packages\\sklearn\\metrics\\_classification.py\", line 93, in _check_targets\n",
      "    raise ValueError(\n",
      "ValueError: Classification metrics can't handle a mix of binary and continuous targets\n",
      "\n",
      "  warnings.warn(\n"
     ]
    },
    {
     "name": "stdout",
     "output_type": "stream",
     "text": [
      "[LightGBM] [Warning] Found whitespace in feature_names, replace with underlines\n",
      "[LightGBM] [Info] Number of positive: 6231, number of negative: 70567\n",
      "[LightGBM] [Info] Auto-choosing row-wise multi-threading, the overhead of testing was 0.002861 seconds.\n",
      "You can set `force_row_wise=true` to remove the overhead.\n",
      "And if memory is not enough, you can set `force_col_wise=true`.\n",
      "[LightGBM] [Info] Total Bins 3575\n",
      "[LightGBM] [Info] Number of data points in the train set: 76798, number of used features: 39\n",
      "[LightGBM] [Info] [binary:BoostFromScore]: pavg=0.500000 -> initscore=0.000000\n",
      "[LightGBM] [Info] Start training from score 0.000000\n"
     ]
    },
    {
     "name": "stderr",
     "output_type": "stream",
     "text": [
      "C:\\Users\\PC1\\anaconda3\\Lib\\site-packages\\sklearn\\model_selection\\_validation.py:824: UserWarning: Scoring failed. The score on this train-test partition for these parameters will be set to nan. Details: \n",
      "Traceback (most recent call last):\n",
      "  File \"C:\\Users\\PC1\\anaconda3\\Lib\\site-packages\\sklearn\\model_selection\\_validation.py\", line 813, in _score\n",
      "    scores = scorer(estimator, X_test, y_test)\n",
      "             ^^^^^^^^^^^^^^^^^^^^^^^^^^^^^^^^^\n",
      "  File \"C:\\Users\\PC1\\anaconda3\\Lib\\site-packages\\sklearn\\metrics\\_scorer.py\", line 266, in __call__\n",
      "    return self._score(partial(_cached_call, None), estimator, X, y_true, **_kwargs)\n",
      "           ^^^^^^^^^^^^^^^^^^^^^^^^^^^^^^^^^^^^^^^^^^^^^^^^^^^^^^^^^^^^^^^^^^^^^^^^^\n",
      "  File \"C:\\Users\\PC1\\anaconda3\\Lib\\site-packages\\sklearn\\metrics\\_scorer.py\", line 401, in _score\n",
      "    return self._sign * self._score_func(y, y_pred, **scoring_kwargs)\n",
      "                        ^^^^^^^^^^^^^^^^^^^^^^^^^^^^^^^^^^^^^^^^^^^^^\n",
      "  File \"C:\\Users\\PC1\\AppData\\Local\\Temp\\ipykernel_35148\\1473373116.py\", line 9, in f1_score_scorer\n",
      "    return f1_score(y_true, y_pred_proba)\n",
      "           ^^^^^^^^^^^^^^^^^^^^^^^^^^^^^^\n",
      "  File \"C:\\Users\\PC1\\anaconda3\\Lib\\site-packages\\sklearn\\utils\\_param_validation.py\", line 211, in wrapper\n",
      "    return func(*args, **kwargs)\n",
      "           ^^^^^^^^^^^^^^^^^^^^^\n",
      "  File \"C:\\Users\\PC1\\anaconda3\\Lib\\site-packages\\sklearn\\metrics\\_classification.py\", line 1238, in f1_score\n",
      "    return fbeta_score(\n",
      "           ^^^^^^^^^^^^\n",
      "  File \"C:\\Users\\PC1\\anaconda3\\Lib\\site-packages\\sklearn\\utils\\_param_validation.py\", line 184, in wrapper\n",
      "    return func(*args, **kwargs)\n",
      "           ^^^^^^^^^^^^^^^^^^^^^\n",
      "  File \"C:\\Users\\PC1\\anaconda3\\Lib\\site-packages\\sklearn\\metrics\\_classification.py\", line 1411, in fbeta_score\n",
      "    _, _, f, _ = precision_recall_fscore_support(\n",
      "                 ^^^^^^^^^^^^^^^^^^^^^^^^^^^^^^^^\n",
      "  File \"C:\\Users\\PC1\\anaconda3\\Lib\\site-packages\\sklearn\\utils\\_param_validation.py\", line 184, in wrapper\n",
      "    return func(*args, **kwargs)\n",
      "           ^^^^^^^^^^^^^^^^^^^^^\n",
      "  File \"C:\\Users\\PC1\\anaconda3\\Lib\\site-packages\\sklearn\\metrics\\_classification.py\", line 1721, in precision_recall_fscore_support\n",
      "    labels = _check_set_wise_labels(y_true, y_pred, average, labels, pos_label)\n",
      "             ^^^^^^^^^^^^^^^^^^^^^^^^^^^^^^^^^^^^^^^^^^^^^^^^^^^^^^^^^^^^^^^^^^\n",
      "  File \"C:\\Users\\PC1\\anaconda3\\Lib\\site-packages\\sklearn\\metrics\\_classification.py\", line 1499, in _check_set_wise_labels\n",
      "    y_type, y_true, y_pred = _check_targets(y_true, y_pred)\n",
      "                             ^^^^^^^^^^^^^^^^^^^^^^^^^^^^^^\n",
      "  File \"C:\\Users\\PC1\\anaconda3\\Lib\\site-packages\\sklearn\\metrics\\_classification.py\", line 93, in _check_targets\n",
      "    raise ValueError(\n",
      "ValueError: Classification metrics can't handle a mix of binary and continuous targets\n",
      "\n",
      "  warnings.warn(\n"
     ]
    },
    {
     "name": "stdout",
     "output_type": "stream",
     "text": [
      "[LightGBM] [Warning] Found whitespace in feature_names, replace with underlines\n",
      "[LightGBM] [Info] Number of positive: 6231, number of negative: 70567\n",
      "[LightGBM] [Info] Auto-choosing row-wise multi-threading, the overhead of testing was 0.002967 seconds.\n",
      "You can set `force_row_wise=true` to remove the overhead.\n",
      "And if memory is not enough, you can set `force_col_wise=true`.\n",
      "[LightGBM] [Info] Total Bins 3575\n",
      "[LightGBM] [Info] Number of data points in the train set: 76798, number of used features: 39\n",
      "[LightGBM] [Info] [binary:BoostFromScore]: pavg=0.500000 -> initscore=0.000000\n",
      "[LightGBM] [Info] Start training from score 0.000000\n"
     ]
    },
    {
     "name": "stderr",
     "output_type": "stream",
     "text": [
      "C:\\Users\\PC1\\anaconda3\\Lib\\site-packages\\sklearn\\model_selection\\_validation.py:824: UserWarning: Scoring failed. The score on this train-test partition for these parameters will be set to nan. Details: \n",
      "Traceback (most recent call last):\n",
      "  File \"C:\\Users\\PC1\\anaconda3\\Lib\\site-packages\\sklearn\\model_selection\\_validation.py\", line 813, in _score\n",
      "    scores = scorer(estimator, X_test, y_test)\n",
      "             ^^^^^^^^^^^^^^^^^^^^^^^^^^^^^^^^^\n",
      "  File \"C:\\Users\\PC1\\anaconda3\\Lib\\site-packages\\sklearn\\metrics\\_scorer.py\", line 266, in __call__\n",
      "    return self._score(partial(_cached_call, None), estimator, X, y_true, **_kwargs)\n",
      "           ^^^^^^^^^^^^^^^^^^^^^^^^^^^^^^^^^^^^^^^^^^^^^^^^^^^^^^^^^^^^^^^^^^^^^^^^^\n",
      "  File \"C:\\Users\\PC1\\anaconda3\\Lib\\site-packages\\sklearn\\metrics\\_scorer.py\", line 401, in _score\n",
      "    return self._sign * self._score_func(y, y_pred, **scoring_kwargs)\n",
      "                        ^^^^^^^^^^^^^^^^^^^^^^^^^^^^^^^^^^^^^^^^^^^^^\n",
      "  File \"C:\\Users\\PC1\\AppData\\Local\\Temp\\ipykernel_35148\\1473373116.py\", line 9, in f1_score_scorer\n",
      "    return f1_score(y_true, y_pred_proba)\n",
      "           ^^^^^^^^^^^^^^^^^^^^^^^^^^^^^^\n",
      "  File \"C:\\Users\\PC1\\anaconda3\\Lib\\site-packages\\sklearn\\utils\\_param_validation.py\", line 211, in wrapper\n",
      "    return func(*args, **kwargs)\n",
      "           ^^^^^^^^^^^^^^^^^^^^^\n",
      "  File \"C:\\Users\\PC1\\anaconda3\\Lib\\site-packages\\sklearn\\metrics\\_classification.py\", line 1238, in f1_score\n",
      "    return fbeta_score(\n",
      "           ^^^^^^^^^^^^\n",
      "  File \"C:\\Users\\PC1\\anaconda3\\Lib\\site-packages\\sklearn\\utils\\_param_validation.py\", line 184, in wrapper\n",
      "    return func(*args, **kwargs)\n",
      "           ^^^^^^^^^^^^^^^^^^^^^\n",
      "  File \"C:\\Users\\PC1\\anaconda3\\Lib\\site-packages\\sklearn\\metrics\\_classification.py\", line 1411, in fbeta_score\n",
      "    _, _, f, _ = precision_recall_fscore_support(\n",
      "                 ^^^^^^^^^^^^^^^^^^^^^^^^^^^^^^^^\n",
      "  File \"C:\\Users\\PC1\\anaconda3\\Lib\\site-packages\\sklearn\\utils\\_param_validation.py\", line 184, in wrapper\n",
      "    return func(*args, **kwargs)\n",
      "           ^^^^^^^^^^^^^^^^^^^^^\n",
      "  File \"C:\\Users\\PC1\\anaconda3\\Lib\\site-packages\\sklearn\\metrics\\_classification.py\", line 1721, in precision_recall_fscore_support\n",
      "    labels = _check_set_wise_labels(y_true, y_pred, average, labels, pos_label)\n",
      "             ^^^^^^^^^^^^^^^^^^^^^^^^^^^^^^^^^^^^^^^^^^^^^^^^^^^^^^^^^^^^^^^^^^\n",
      "  File \"C:\\Users\\PC1\\anaconda3\\Lib\\site-packages\\sklearn\\metrics\\_classification.py\", line 1499, in _check_set_wise_labels\n",
      "    y_type, y_true, y_pred = _check_targets(y_true, y_pred)\n",
      "                             ^^^^^^^^^^^^^^^^^^^^^^^^^^^^^^\n",
      "  File \"C:\\Users\\PC1\\anaconda3\\Lib\\site-packages\\sklearn\\metrics\\_classification.py\", line 93, in _check_targets\n",
      "    raise ValueError(\n",
      "ValueError: Classification metrics can't handle a mix of binary and continuous targets\n",
      "\n",
      "  warnings.warn(\n"
     ]
    },
    {
     "name": "stdout",
     "output_type": "stream",
     "text": [
      "[LightGBM] [Warning] Found whitespace in feature_names, replace with underlines\n",
      "[LightGBM] [Info] Number of positive: 6230, number of negative: 70568\n",
      "[LightGBM] [Info] Auto-choosing row-wise multi-threading, the overhead of testing was 0.002492 seconds.\n",
      "You can set `force_row_wise=true` to remove the overhead.\n",
      "And if memory is not enough, you can set `force_col_wise=true`.\n",
      "[LightGBM] [Info] Total Bins 3575\n",
      "[LightGBM] [Info] Number of data points in the train set: 76798, number of used features: 39\n",
      "[LightGBM] [Info] [binary:BoostFromScore]: pavg=0.500000 -> initscore=-0.000000\n",
      "[LightGBM] [Info] Start training from score -0.000000\n"
     ]
    },
    {
     "name": "stderr",
     "output_type": "stream",
     "text": [
      "C:\\Users\\PC1\\anaconda3\\Lib\\site-packages\\sklearn\\model_selection\\_validation.py:824: UserWarning: Scoring failed. The score on this train-test partition for these parameters will be set to nan. Details: \n",
      "Traceback (most recent call last):\n",
      "  File \"C:\\Users\\PC1\\anaconda3\\Lib\\site-packages\\sklearn\\model_selection\\_validation.py\", line 813, in _score\n",
      "    scores = scorer(estimator, X_test, y_test)\n",
      "             ^^^^^^^^^^^^^^^^^^^^^^^^^^^^^^^^^\n",
      "  File \"C:\\Users\\PC1\\anaconda3\\Lib\\site-packages\\sklearn\\metrics\\_scorer.py\", line 266, in __call__\n",
      "    return self._score(partial(_cached_call, None), estimator, X, y_true, **_kwargs)\n",
      "           ^^^^^^^^^^^^^^^^^^^^^^^^^^^^^^^^^^^^^^^^^^^^^^^^^^^^^^^^^^^^^^^^^^^^^^^^^\n",
      "  File \"C:\\Users\\PC1\\anaconda3\\Lib\\site-packages\\sklearn\\metrics\\_scorer.py\", line 401, in _score\n",
      "    return self._sign * self._score_func(y, y_pred, **scoring_kwargs)\n",
      "                        ^^^^^^^^^^^^^^^^^^^^^^^^^^^^^^^^^^^^^^^^^^^^^\n",
      "  File \"C:\\Users\\PC1\\AppData\\Local\\Temp\\ipykernel_35148\\1473373116.py\", line 9, in f1_score_scorer\n",
      "    return f1_score(y_true, y_pred_proba)\n",
      "           ^^^^^^^^^^^^^^^^^^^^^^^^^^^^^^\n",
      "  File \"C:\\Users\\PC1\\anaconda3\\Lib\\site-packages\\sklearn\\utils\\_param_validation.py\", line 211, in wrapper\n",
      "    return func(*args, **kwargs)\n",
      "           ^^^^^^^^^^^^^^^^^^^^^\n",
      "  File \"C:\\Users\\PC1\\anaconda3\\Lib\\site-packages\\sklearn\\metrics\\_classification.py\", line 1238, in f1_score\n",
      "    return fbeta_score(\n",
      "           ^^^^^^^^^^^^\n",
      "  File \"C:\\Users\\PC1\\anaconda3\\Lib\\site-packages\\sklearn\\utils\\_param_validation.py\", line 184, in wrapper\n",
      "    return func(*args, **kwargs)\n",
      "           ^^^^^^^^^^^^^^^^^^^^^\n",
      "  File \"C:\\Users\\PC1\\anaconda3\\Lib\\site-packages\\sklearn\\metrics\\_classification.py\", line 1411, in fbeta_score\n",
      "    _, _, f, _ = precision_recall_fscore_support(\n",
      "                 ^^^^^^^^^^^^^^^^^^^^^^^^^^^^^^^^\n",
      "  File \"C:\\Users\\PC1\\anaconda3\\Lib\\site-packages\\sklearn\\utils\\_param_validation.py\", line 184, in wrapper\n",
      "    return func(*args, **kwargs)\n",
      "           ^^^^^^^^^^^^^^^^^^^^^\n",
      "  File \"C:\\Users\\PC1\\anaconda3\\Lib\\site-packages\\sklearn\\metrics\\_classification.py\", line 1721, in precision_recall_fscore_support\n",
      "    labels = _check_set_wise_labels(y_true, y_pred, average, labels, pos_label)\n",
      "             ^^^^^^^^^^^^^^^^^^^^^^^^^^^^^^^^^^^^^^^^^^^^^^^^^^^^^^^^^^^^^^^^^^\n",
      "  File \"C:\\Users\\PC1\\anaconda3\\Lib\\site-packages\\sklearn\\metrics\\_classification.py\", line 1499, in _check_set_wise_labels\n",
      "    y_type, y_true, y_pred = _check_targets(y_true, y_pred)\n",
      "                             ^^^^^^^^^^^^^^^^^^^^^^^^^^^^^^\n",
      "  File \"C:\\Users\\PC1\\anaconda3\\Lib\\site-packages\\sklearn\\metrics\\_classification.py\", line 93, in _check_targets\n",
      "    raise ValueError(\n",
      "ValueError: Classification metrics can't handle a mix of binary and continuous targets\n",
      "\n",
      "  warnings.warn(\n"
     ]
    },
    {
     "name": "stdout",
     "output_type": "stream",
     "text": [
      "[LightGBM] [Warning] Found whitespace in feature_names, replace with underlines\n",
      "[LightGBM] [Info] Number of positive: 6230, number of negative: 70567\n",
      "[LightGBM] [Info] Auto-choosing row-wise multi-threading, the overhead of testing was 0.002747 seconds.\n",
      "You can set `force_row_wise=true` to remove the overhead.\n",
      "And if memory is not enough, you can set `force_col_wise=true`.\n",
      "[LightGBM] [Info] Total Bins 3561\n",
      "[LightGBM] [Info] Number of data points in the train set: 76797, number of used features: 39\n",
      "[LightGBM] [Info] [binary:BoostFromScore]: pavg=0.500000 -> initscore=0.000000\n",
      "[LightGBM] [Info] Start training from score 0.000000\n"
     ]
    },
    {
     "name": "stderr",
     "output_type": "stream",
     "text": [
      "C:\\Users\\PC1\\anaconda3\\Lib\\site-packages\\sklearn\\model_selection\\_validation.py:824: UserWarning: Scoring failed. The score on this train-test partition for these parameters will be set to nan. Details: \n",
      "Traceback (most recent call last):\n",
      "  File \"C:\\Users\\PC1\\anaconda3\\Lib\\site-packages\\sklearn\\model_selection\\_validation.py\", line 813, in _score\n",
      "    scores = scorer(estimator, X_test, y_test)\n",
      "             ^^^^^^^^^^^^^^^^^^^^^^^^^^^^^^^^^\n",
      "  File \"C:\\Users\\PC1\\anaconda3\\Lib\\site-packages\\sklearn\\metrics\\_scorer.py\", line 266, in __call__\n",
      "    return self._score(partial(_cached_call, None), estimator, X, y_true, **_kwargs)\n",
      "           ^^^^^^^^^^^^^^^^^^^^^^^^^^^^^^^^^^^^^^^^^^^^^^^^^^^^^^^^^^^^^^^^^^^^^^^^^\n",
      "  File \"C:\\Users\\PC1\\anaconda3\\Lib\\site-packages\\sklearn\\metrics\\_scorer.py\", line 401, in _score\n",
      "    return self._sign * self._score_func(y, y_pred, **scoring_kwargs)\n",
      "                        ^^^^^^^^^^^^^^^^^^^^^^^^^^^^^^^^^^^^^^^^^^^^^\n",
      "  File \"C:\\Users\\PC1\\AppData\\Local\\Temp\\ipykernel_35148\\1473373116.py\", line 9, in f1_score_scorer\n",
      "    return f1_score(y_true, y_pred_proba)\n",
      "           ^^^^^^^^^^^^^^^^^^^^^^^^^^^^^^\n",
      "  File \"C:\\Users\\PC1\\anaconda3\\Lib\\site-packages\\sklearn\\utils\\_param_validation.py\", line 211, in wrapper\n",
      "    return func(*args, **kwargs)\n",
      "           ^^^^^^^^^^^^^^^^^^^^^\n",
      "  File \"C:\\Users\\PC1\\anaconda3\\Lib\\site-packages\\sklearn\\metrics\\_classification.py\", line 1238, in f1_score\n",
      "    return fbeta_score(\n",
      "           ^^^^^^^^^^^^\n",
      "  File \"C:\\Users\\PC1\\anaconda3\\Lib\\site-packages\\sklearn\\utils\\_param_validation.py\", line 184, in wrapper\n",
      "    return func(*args, **kwargs)\n",
      "           ^^^^^^^^^^^^^^^^^^^^^\n",
      "  File \"C:\\Users\\PC1\\anaconda3\\Lib\\site-packages\\sklearn\\metrics\\_classification.py\", line 1411, in fbeta_score\n",
      "    _, _, f, _ = precision_recall_fscore_support(\n",
      "                 ^^^^^^^^^^^^^^^^^^^^^^^^^^^^^^^^\n",
      "  File \"C:\\Users\\PC1\\anaconda3\\Lib\\site-packages\\sklearn\\utils\\_param_validation.py\", line 184, in wrapper\n",
      "    return func(*args, **kwargs)\n",
      "           ^^^^^^^^^^^^^^^^^^^^^\n",
      "  File \"C:\\Users\\PC1\\anaconda3\\Lib\\site-packages\\sklearn\\metrics\\_classification.py\", line 1721, in precision_recall_fscore_support\n",
      "    labels = _check_set_wise_labels(y_true, y_pred, average, labels, pos_label)\n",
      "             ^^^^^^^^^^^^^^^^^^^^^^^^^^^^^^^^^^^^^^^^^^^^^^^^^^^^^^^^^^^^^^^^^^\n",
      "  File \"C:\\Users\\PC1\\anaconda3\\Lib\\site-packages\\sklearn\\metrics\\_classification.py\", line 1499, in _check_set_wise_labels\n",
      "    y_type, y_true, y_pred = _check_targets(y_true, y_pred)\n",
      "                             ^^^^^^^^^^^^^^^^^^^^^^^^^^^^^^\n",
      "  File \"C:\\Users\\PC1\\anaconda3\\Lib\\site-packages\\sklearn\\metrics\\_classification.py\", line 93, in _check_targets\n",
      "    raise ValueError(\n",
      "ValueError: Classification metrics can't handle a mix of binary and continuous targets\n",
      "\n",
      "  warnings.warn(\n"
     ]
    },
    {
     "name": "stdout",
     "output_type": "stream",
     "text": [
      "[LightGBM] [Warning] Found whitespace in feature_names, replace with underlines\n",
      "[LightGBM] [Info] Number of positive: 6230, number of negative: 70567\n",
      "[LightGBM] [Info] Auto-choosing row-wise multi-threading, the overhead of testing was 0.002326 seconds.\n",
      "You can set `force_row_wise=true` to remove the overhead.\n",
      "And if memory is not enough, you can set `force_col_wise=true`.\n",
      "[LightGBM] [Info] Total Bins 3572\n",
      "[LightGBM] [Info] Number of data points in the train set: 76797, number of used features: 39\n",
      "[LightGBM] [Info] [binary:BoostFromScore]: pavg=0.500000 -> initscore=0.000000\n",
      "[LightGBM] [Info] Start training from score 0.000000\n"
     ]
    },
    {
     "name": "stderr",
     "output_type": "stream",
     "text": [
      "C:\\Users\\PC1\\anaconda3\\Lib\\site-packages\\sklearn\\model_selection\\_validation.py:824: UserWarning: Scoring failed. The score on this train-test partition for these parameters will be set to nan. Details: \n",
      "Traceback (most recent call last):\n",
      "  File \"C:\\Users\\PC1\\anaconda3\\Lib\\site-packages\\sklearn\\model_selection\\_validation.py\", line 813, in _score\n",
      "    scores = scorer(estimator, X_test, y_test)\n",
      "             ^^^^^^^^^^^^^^^^^^^^^^^^^^^^^^^^^\n",
      "  File \"C:\\Users\\PC1\\anaconda3\\Lib\\site-packages\\sklearn\\metrics\\_scorer.py\", line 266, in __call__\n",
      "    return self._score(partial(_cached_call, None), estimator, X, y_true, **_kwargs)\n",
      "           ^^^^^^^^^^^^^^^^^^^^^^^^^^^^^^^^^^^^^^^^^^^^^^^^^^^^^^^^^^^^^^^^^^^^^^^^^\n",
      "  File \"C:\\Users\\PC1\\anaconda3\\Lib\\site-packages\\sklearn\\metrics\\_scorer.py\", line 401, in _score\n",
      "    return self._sign * self._score_func(y, y_pred, **scoring_kwargs)\n",
      "                        ^^^^^^^^^^^^^^^^^^^^^^^^^^^^^^^^^^^^^^^^^^^^^\n",
      "  File \"C:\\Users\\PC1\\AppData\\Local\\Temp\\ipykernel_35148\\1473373116.py\", line 9, in f1_score_scorer\n",
      "    return f1_score(y_true, y_pred_proba)\n",
      "           ^^^^^^^^^^^^^^^^^^^^^^^^^^^^^^\n",
      "  File \"C:\\Users\\PC1\\anaconda3\\Lib\\site-packages\\sklearn\\utils\\_param_validation.py\", line 211, in wrapper\n",
      "    return func(*args, **kwargs)\n",
      "           ^^^^^^^^^^^^^^^^^^^^^\n",
      "  File \"C:\\Users\\PC1\\anaconda3\\Lib\\site-packages\\sklearn\\metrics\\_classification.py\", line 1238, in f1_score\n",
      "    return fbeta_score(\n",
      "           ^^^^^^^^^^^^\n",
      "  File \"C:\\Users\\PC1\\anaconda3\\Lib\\site-packages\\sklearn\\utils\\_param_validation.py\", line 184, in wrapper\n",
      "    return func(*args, **kwargs)\n",
      "           ^^^^^^^^^^^^^^^^^^^^^\n",
      "  File \"C:\\Users\\PC1\\anaconda3\\Lib\\site-packages\\sklearn\\metrics\\_classification.py\", line 1411, in fbeta_score\n",
      "    _, _, f, _ = precision_recall_fscore_support(\n",
      "                 ^^^^^^^^^^^^^^^^^^^^^^^^^^^^^^^^\n",
      "  File \"C:\\Users\\PC1\\anaconda3\\Lib\\site-packages\\sklearn\\utils\\_param_validation.py\", line 184, in wrapper\n",
      "    return func(*args, **kwargs)\n",
      "           ^^^^^^^^^^^^^^^^^^^^^\n",
      "  File \"C:\\Users\\PC1\\anaconda3\\Lib\\site-packages\\sklearn\\metrics\\_classification.py\", line 1721, in precision_recall_fscore_support\n",
      "    labels = _check_set_wise_labels(y_true, y_pred, average, labels, pos_label)\n",
      "             ^^^^^^^^^^^^^^^^^^^^^^^^^^^^^^^^^^^^^^^^^^^^^^^^^^^^^^^^^^^^^^^^^^\n",
      "  File \"C:\\Users\\PC1\\anaconda3\\Lib\\site-packages\\sklearn\\metrics\\_classification.py\", line 1499, in _check_set_wise_labels\n",
      "    y_type, y_true, y_pred = _check_targets(y_true, y_pred)\n",
      "                             ^^^^^^^^^^^^^^^^^^^^^^^^^^^^^^\n",
      "  File \"C:\\Users\\PC1\\anaconda3\\Lib\\site-packages\\sklearn\\metrics\\_classification.py\", line 93, in _check_targets\n",
      "    raise ValueError(\n",
      "ValueError: Classification metrics can't handle a mix of binary and continuous targets\n",
      "\n",
      "  warnings.warn(\n"
     ]
    },
    {
     "name": "stdout",
     "output_type": "stream",
     "text": [
      "[LightGBM] [Warning] Found whitespace in feature_names, replace with underlines\n",
      "[LightGBM] [Info] Number of positive: 6231, number of negative: 70567\n",
      "[LightGBM] [Info] Auto-choosing row-wise multi-threading, the overhead of testing was 0.002668 seconds.\n",
      "You can set `force_row_wise=true` to remove the overhead.\n",
      "And if memory is not enough, you can set `force_col_wise=true`.\n",
      "[LightGBM] [Info] Total Bins 3575\n",
      "[LightGBM] [Info] Number of data points in the train set: 76798, number of used features: 39\n",
      "[LightGBM] [Info] [binary:BoostFromScore]: pavg=0.500000 -> initscore=0.000000\n",
      "[LightGBM] [Info] Start training from score 0.000000\n"
     ]
    },
    {
     "name": "stderr",
     "output_type": "stream",
     "text": [
      "C:\\Users\\PC1\\anaconda3\\Lib\\site-packages\\sklearn\\model_selection\\_validation.py:824: UserWarning: Scoring failed. The score on this train-test partition for these parameters will be set to nan. Details: \n",
      "Traceback (most recent call last):\n",
      "  File \"C:\\Users\\PC1\\anaconda3\\Lib\\site-packages\\sklearn\\model_selection\\_validation.py\", line 813, in _score\n",
      "    scores = scorer(estimator, X_test, y_test)\n",
      "             ^^^^^^^^^^^^^^^^^^^^^^^^^^^^^^^^^\n",
      "  File \"C:\\Users\\PC1\\anaconda3\\Lib\\site-packages\\sklearn\\metrics\\_scorer.py\", line 266, in __call__\n",
      "    return self._score(partial(_cached_call, None), estimator, X, y_true, **_kwargs)\n",
      "           ^^^^^^^^^^^^^^^^^^^^^^^^^^^^^^^^^^^^^^^^^^^^^^^^^^^^^^^^^^^^^^^^^^^^^^^^^\n",
      "  File \"C:\\Users\\PC1\\anaconda3\\Lib\\site-packages\\sklearn\\metrics\\_scorer.py\", line 401, in _score\n",
      "    return self._sign * self._score_func(y, y_pred, **scoring_kwargs)\n",
      "                        ^^^^^^^^^^^^^^^^^^^^^^^^^^^^^^^^^^^^^^^^^^^^^\n",
      "  File \"C:\\Users\\PC1\\AppData\\Local\\Temp\\ipykernel_35148\\1473373116.py\", line 9, in f1_score_scorer\n",
      "    return f1_score(y_true, y_pred_proba)\n",
      "           ^^^^^^^^^^^^^^^^^^^^^^^^^^^^^^\n",
      "  File \"C:\\Users\\PC1\\anaconda3\\Lib\\site-packages\\sklearn\\utils\\_param_validation.py\", line 211, in wrapper\n",
      "    return func(*args, **kwargs)\n",
      "           ^^^^^^^^^^^^^^^^^^^^^\n",
      "  File \"C:\\Users\\PC1\\anaconda3\\Lib\\site-packages\\sklearn\\metrics\\_classification.py\", line 1238, in f1_score\n",
      "    return fbeta_score(\n",
      "           ^^^^^^^^^^^^\n",
      "  File \"C:\\Users\\PC1\\anaconda3\\Lib\\site-packages\\sklearn\\utils\\_param_validation.py\", line 184, in wrapper\n",
      "    return func(*args, **kwargs)\n",
      "           ^^^^^^^^^^^^^^^^^^^^^\n",
      "  File \"C:\\Users\\PC1\\anaconda3\\Lib\\site-packages\\sklearn\\metrics\\_classification.py\", line 1411, in fbeta_score\n",
      "    _, _, f, _ = precision_recall_fscore_support(\n",
      "                 ^^^^^^^^^^^^^^^^^^^^^^^^^^^^^^^^\n",
      "  File \"C:\\Users\\PC1\\anaconda3\\Lib\\site-packages\\sklearn\\utils\\_param_validation.py\", line 184, in wrapper\n",
      "    return func(*args, **kwargs)\n",
      "           ^^^^^^^^^^^^^^^^^^^^^\n",
      "  File \"C:\\Users\\PC1\\anaconda3\\Lib\\site-packages\\sklearn\\metrics\\_classification.py\", line 1721, in precision_recall_fscore_support\n",
      "    labels = _check_set_wise_labels(y_true, y_pred, average, labels, pos_label)\n",
      "             ^^^^^^^^^^^^^^^^^^^^^^^^^^^^^^^^^^^^^^^^^^^^^^^^^^^^^^^^^^^^^^^^^^\n",
      "  File \"C:\\Users\\PC1\\anaconda3\\Lib\\site-packages\\sklearn\\metrics\\_classification.py\", line 1499, in _check_set_wise_labels\n",
      "    y_type, y_true, y_pred = _check_targets(y_true, y_pred)\n",
      "                             ^^^^^^^^^^^^^^^^^^^^^^^^^^^^^^\n",
      "  File \"C:\\Users\\PC1\\anaconda3\\Lib\\site-packages\\sklearn\\metrics\\_classification.py\", line 93, in _check_targets\n",
      "    raise ValueError(\n",
      "ValueError: Classification metrics can't handle a mix of binary and continuous targets\n",
      "\n",
      "  warnings.warn(\n"
     ]
    },
    {
     "name": "stdout",
     "output_type": "stream",
     "text": [
      "[LightGBM] [Warning] Found whitespace in feature_names, replace with underlines\n",
      "[LightGBM] [Info] Number of positive: 6231, number of negative: 70567\n",
      "[LightGBM] [Info] Auto-choosing row-wise multi-threading, the overhead of testing was 0.002304 seconds.\n",
      "You can set `force_row_wise=true` to remove the overhead.\n",
      "And if memory is not enough, you can set `force_col_wise=true`.\n",
      "[LightGBM] [Info] Total Bins 3575\n",
      "[LightGBM] [Info] Number of data points in the train set: 76798, number of used features: 39\n",
      "[LightGBM] [Info] [binary:BoostFromScore]: pavg=0.500000 -> initscore=0.000000\n",
      "[LightGBM] [Info] Start training from score 0.000000\n"
     ]
    },
    {
     "name": "stderr",
     "output_type": "stream",
     "text": [
      "C:\\Users\\PC1\\anaconda3\\Lib\\site-packages\\sklearn\\model_selection\\_validation.py:824: UserWarning: Scoring failed. The score on this train-test partition for these parameters will be set to nan. Details: \n",
      "Traceback (most recent call last):\n",
      "  File \"C:\\Users\\PC1\\anaconda3\\Lib\\site-packages\\sklearn\\model_selection\\_validation.py\", line 813, in _score\n",
      "    scores = scorer(estimator, X_test, y_test)\n",
      "             ^^^^^^^^^^^^^^^^^^^^^^^^^^^^^^^^^\n",
      "  File \"C:\\Users\\PC1\\anaconda3\\Lib\\site-packages\\sklearn\\metrics\\_scorer.py\", line 266, in __call__\n",
      "    return self._score(partial(_cached_call, None), estimator, X, y_true, **_kwargs)\n",
      "           ^^^^^^^^^^^^^^^^^^^^^^^^^^^^^^^^^^^^^^^^^^^^^^^^^^^^^^^^^^^^^^^^^^^^^^^^^\n",
      "  File \"C:\\Users\\PC1\\anaconda3\\Lib\\site-packages\\sklearn\\metrics\\_scorer.py\", line 401, in _score\n",
      "    return self._sign * self._score_func(y, y_pred, **scoring_kwargs)\n",
      "                        ^^^^^^^^^^^^^^^^^^^^^^^^^^^^^^^^^^^^^^^^^^^^^\n",
      "  File \"C:\\Users\\PC1\\AppData\\Local\\Temp\\ipykernel_35148\\1473373116.py\", line 9, in f1_score_scorer\n",
      "    return f1_score(y_true, y_pred_proba)\n",
      "           ^^^^^^^^^^^^^^^^^^^^^^^^^^^^^^\n",
      "  File \"C:\\Users\\PC1\\anaconda3\\Lib\\site-packages\\sklearn\\utils\\_param_validation.py\", line 211, in wrapper\n",
      "    return func(*args, **kwargs)\n",
      "           ^^^^^^^^^^^^^^^^^^^^^\n",
      "  File \"C:\\Users\\PC1\\anaconda3\\Lib\\site-packages\\sklearn\\metrics\\_classification.py\", line 1238, in f1_score\n",
      "    return fbeta_score(\n",
      "           ^^^^^^^^^^^^\n",
      "  File \"C:\\Users\\PC1\\anaconda3\\Lib\\site-packages\\sklearn\\utils\\_param_validation.py\", line 184, in wrapper\n",
      "    return func(*args, **kwargs)\n",
      "           ^^^^^^^^^^^^^^^^^^^^^\n",
      "  File \"C:\\Users\\PC1\\anaconda3\\Lib\\site-packages\\sklearn\\metrics\\_classification.py\", line 1411, in fbeta_score\n",
      "    _, _, f, _ = precision_recall_fscore_support(\n",
      "                 ^^^^^^^^^^^^^^^^^^^^^^^^^^^^^^^^\n",
      "  File \"C:\\Users\\PC1\\anaconda3\\Lib\\site-packages\\sklearn\\utils\\_param_validation.py\", line 184, in wrapper\n",
      "    return func(*args, **kwargs)\n",
      "           ^^^^^^^^^^^^^^^^^^^^^\n",
      "  File \"C:\\Users\\PC1\\anaconda3\\Lib\\site-packages\\sklearn\\metrics\\_classification.py\", line 1721, in precision_recall_fscore_support\n",
      "    labels = _check_set_wise_labels(y_true, y_pred, average, labels, pos_label)\n",
      "             ^^^^^^^^^^^^^^^^^^^^^^^^^^^^^^^^^^^^^^^^^^^^^^^^^^^^^^^^^^^^^^^^^^\n",
      "  File \"C:\\Users\\PC1\\anaconda3\\Lib\\site-packages\\sklearn\\metrics\\_classification.py\", line 1499, in _check_set_wise_labels\n",
      "    y_type, y_true, y_pred = _check_targets(y_true, y_pred)\n",
      "                             ^^^^^^^^^^^^^^^^^^^^^^^^^^^^^^\n",
      "  File \"C:\\Users\\PC1\\anaconda3\\Lib\\site-packages\\sklearn\\metrics\\_classification.py\", line 93, in _check_targets\n",
      "    raise ValueError(\n",
      "ValueError: Classification metrics can't handle a mix of binary and continuous targets\n",
      "\n",
      "  warnings.warn(\n"
     ]
    },
    {
     "name": "stdout",
     "output_type": "stream",
     "text": [
      "[LightGBM] [Warning] Found whitespace in feature_names, replace with underlines\n",
      "[LightGBM] [Info] Number of positive: 6230, number of negative: 70568\n",
      "[LightGBM] [Info] Auto-choosing row-wise multi-threading, the overhead of testing was 0.003138 seconds.\n",
      "You can set `force_row_wise=true` to remove the overhead.\n",
      "And if memory is not enough, you can set `force_col_wise=true`.\n",
      "[LightGBM] [Info] Total Bins 3575\n",
      "[LightGBM] [Info] Number of data points in the train set: 76798, number of used features: 39\n",
      "[LightGBM] [Info] [binary:BoostFromScore]: pavg=0.500000 -> initscore=-0.000000\n",
      "[LightGBM] [Info] Start training from score -0.000000\n"
     ]
    },
    {
     "name": "stderr",
     "output_type": "stream",
     "text": [
      "C:\\Users\\PC1\\anaconda3\\Lib\\site-packages\\sklearn\\model_selection\\_validation.py:824: UserWarning: Scoring failed. The score on this train-test partition for these parameters will be set to nan. Details: \n",
      "Traceback (most recent call last):\n",
      "  File \"C:\\Users\\PC1\\anaconda3\\Lib\\site-packages\\sklearn\\model_selection\\_validation.py\", line 813, in _score\n",
      "    scores = scorer(estimator, X_test, y_test)\n",
      "             ^^^^^^^^^^^^^^^^^^^^^^^^^^^^^^^^^\n",
      "  File \"C:\\Users\\PC1\\anaconda3\\Lib\\site-packages\\sklearn\\metrics\\_scorer.py\", line 266, in __call__\n",
      "    return self._score(partial(_cached_call, None), estimator, X, y_true, **_kwargs)\n",
      "           ^^^^^^^^^^^^^^^^^^^^^^^^^^^^^^^^^^^^^^^^^^^^^^^^^^^^^^^^^^^^^^^^^^^^^^^^^\n",
      "  File \"C:\\Users\\PC1\\anaconda3\\Lib\\site-packages\\sklearn\\metrics\\_scorer.py\", line 401, in _score\n",
      "    return self._sign * self._score_func(y, y_pred, **scoring_kwargs)\n",
      "                        ^^^^^^^^^^^^^^^^^^^^^^^^^^^^^^^^^^^^^^^^^^^^^\n",
      "  File \"C:\\Users\\PC1\\AppData\\Local\\Temp\\ipykernel_35148\\1473373116.py\", line 9, in f1_score_scorer\n",
      "    return f1_score(y_true, y_pred_proba)\n",
      "           ^^^^^^^^^^^^^^^^^^^^^^^^^^^^^^\n",
      "  File \"C:\\Users\\PC1\\anaconda3\\Lib\\site-packages\\sklearn\\utils\\_param_validation.py\", line 211, in wrapper\n",
      "    return func(*args, **kwargs)\n",
      "           ^^^^^^^^^^^^^^^^^^^^^\n",
      "  File \"C:\\Users\\PC1\\anaconda3\\Lib\\site-packages\\sklearn\\metrics\\_classification.py\", line 1238, in f1_score\n",
      "    return fbeta_score(\n",
      "           ^^^^^^^^^^^^\n",
      "  File \"C:\\Users\\PC1\\anaconda3\\Lib\\site-packages\\sklearn\\utils\\_param_validation.py\", line 184, in wrapper\n",
      "    return func(*args, **kwargs)\n",
      "           ^^^^^^^^^^^^^^^^^^^^^\n",
      "  File \"C:\\Users\\PC1\\anaconda3\\Lib\\site-packages\\sklearn\\metrics\\_classification.py\", line 1411, in fbeta_score\n",
      "    _, _, f, _ = precision_recall_fscore_support(\n",
      "                 ^^^^^^^^^^^^^^^^^^^^^^^^^^^^^^^^\n",
      "  File \"C:\\Users\\PC1\\anaconda3\\Lib\\site-packages\\sklearn\\utils\\_param_validation.py\", line 184, in wrapper\n",
      "    return func(*args, **kwargs)\n",
      "           ^^^^^^^^^^^^^^^^^^^^^\n",
      "  File \"C:\\Users\\PC1\\anaconda3\\Lib\\site-packages\\sklearn\\metrics\\_classification.py\", line 1721, in precision_recall_fscore_support\n",
      "    labels = _check_set_wise_labels(y_true, y_pred, average, labels, pos_label)\n",
      "             ^^^^^^^^^^^^^^^^^^^^^^^^^^^^^^^^^^^^^^^^^^^^^^^^^^^^^^^^^^^^^^^^^^\n",
      "  File \"C:\\Users\\PC1\\anaconda3\\Lib\\site-packages\\sklearn\\metrics\\_classification.py\", line 1499, in _check_set_wise_labels\n",
      "    y_type, y_true, y_pred = _check_targets(y_true, y_pred)\n",
      "                             ^^^^^^^^^^^^^^^^^^^^^^^^^^^^^^\n",
      "  File \"C:\\Users\\PC1\\anaconda3\\Lib\\site-packages\\sklearn\\metrics\\_classification.py\", line 93, in _check_targets\n",
      "    raise ValueError(\n",
      "ValueError: Classification metrics can't handle a mix of binary and continuous targets\n",
      "\n",
      "  warnings.warn(\n"
     ]
    },
    {
     "name": "stdout",
     "output_type": "stream",
     "text": [
      "[LightGBM] [Warning] Found whitespace in feature_names, replace with underlines\n",
      "[LightGBM] [Info] Number of positive: 6230, number of negative: 70567\n",
      "[LightGBM] [Info] Auto-choosing row-wise multi-threading, the overhead of testing was 0.002594 seconds.\n",
      "You can set `force_row_wise=true` to remove the overhead.\n",
      "And if memory is not enough, you can set `force_col_wise=true`.\n",
      "[LightGBM] [Info] Total Bins 3561\n",
      "[LightGBM] [Info] Number of data points in the train set: 76797, number of used features: 39\n",
      "[LightGBM] [Info] [binary:BoostFromScore]: pavg=0.500000 -> initscore=0.000000\n",
      "[LightGBM] [Info] Start training from score 0.000000\n"
     ]
    },
    {
     "name": "stderr",
     "output_type": "stream",
     "text": [
      "C:\\Users\\PC1\\anaconda3\\Lib\\site-packages\\sklearn\\model_selection\\_validation.py:824: UserWarning: Scoring failed. The score on this train-test partition for these parameters will be set to nan. Details: \n",
      "Traceback (most recent call last):\n",
      "  File \"C:\\Users\\PC1\\anaconda3\\Lib\\site-packages\\sklearn\\model_selection\\_validation.py\", line 813, in _score\n",
      "    scores = scorer(estimator, X_test, y_test)\n",
      "             ^^^^^^^^^^^^^^^^^^^^^^^^^^^^^^^^^\n",
      "  File \"C:\\Users\\PC1\\anaconda3\\Lib\\site-packages\\sklearn\\metrics\\_scorer.py\", line 266, in __call__\n",
      "    return self._score(partial(_cached_call, None), estimator, X, y_true, **_kwargs)\n",
      "           ^^^^^^^^^^^^^^^^^^^^^^^^^^^^^^^^^^^^^^^^^^^^^^^^^^^^^^^^^^^^^^^^^^^^^^^^^\n",
      "  File \"C:\\Users\\PC1\\anaconda3\\Lib\\site-packages\\sklearn\\metrics\\_scorer.py\", line 401, in _score\n",
      "    return self._sign * self._score_func(y, y_pred, **scoring_kwargs)\n",
      "                        ^^^^^^^^^^^^^^^^^^^^^^^^^^^^^^^^^^^^^^^^^^^^^\n",
      "  File \"C:\\Users\\PC1\\AppData\\Local\\Temp\\ipykernel_35148\\1473373116.py\", line 9, in f1_score_scorer\n",
      "    return f1_score(y_true, y_pred_proba)\n",
      "           ^^^^^^^^^^^^^^^^^^^^^^^^^^^^^^\n",
      "  File \"C:\\Users\\PC1\\anaconda3\\Lib\\site-packages\\sklearn\\utils\\_param_validation.py\", line 211, in wrapper\n",
      "    return func(*args, **kwargs)\n",
      "           ^^^^^^^^^^^^^^^^^^^^^\n",
      "  File \"C:\\Users\\PC1\\anaconda3\\Lib\\site-packages\\sklearn\\metrics\\_classification.py\", line 1238, in f1_score\n",
      "    return fbeta_score(\n",
      "           ^^^^^^^^^^^^\n",
      "  File \"C:\\Users\\PC1\\anaconda3\\Lib\\site-packages\\sklearn\\utils\\_param_validation.py\", line 184, in wrapper\n",
      "    return func(*args, **kwargs)\n",
      "           ^^^^^^^^^^^^^^^^^^^^^\n",
      "  File \"C:\\Users\\PC1\\anaconda3\\Lib\\site-packages\\sklearn\\metrics\\_classification.py\", line 1411, in fbeta_score\n",
      "    _, _, f, _ = precision_recall_fscore_support(\n",
      "                 ^^^^^^^^^^^^^^^^^^^^^^^^^^^^^^^^\n",
      "  File \"C:\\Users\\PC1\\anaconda3\\Lib\\site-packages\\sklearn\\utils\\_param_validation.py\", line 184, in wrapper\n",
      "    return func(*args, **kwargs)\n",
      "           ^^^^^^^^^^^^^^^^^^^^^\n",
      "  File \"C:\\Users\\PC1\\anaconda3\\Lib\\site-packages\\sklearn\\metrics\\_classification.py\", line 1721, in precision_recall_fscore_support\n",
      "    labels = _check_set_wise_labels(y_true, y_pred, average, labels, pos_label)\n",
      "             ^^^^^^^^^^^^^^^^^^^^^^^^^^^^^^^^^^^^^^^^^^^^^^^^^^^^^^^^^^^^^^^^^^\n",
      "  File \"C:\\Users\\PC1\\anaconda3\\Lib\\site-packages\\sklearn\\metrics\\_classification.py\", line 1499, in _check_set_wise_labels\n",
      "    y_type, y_true, y_pred = _check_targets(y_true, y_pred)\n",
      "                             ^^^^^^^^^^^^^^^^^^^^^^^^^^^^^^\n",
      "  File \"C:\\Users\\PC1\\anaconda3\\Lib\\site-packages\\sklearn\\metrics\\_classification.py\", line 93, in _check_targets\n",
      "    raise ValueError(\n",
      "ValueError: Classification metrics can't handle a mix of binary and continuous targets\n",
      "\n",
      "  warnings.warn(\n"
     ]
    },
    {
     "name": "stdout",
     "output_type": "stream",
     "text": [
      "[LightGBM] [Warning] Found whitespace in feature_names, replace with underlines\n",
      "[LightGBM] [Info] Number of positive: 6230, number of negative: 70567\n",
      "[LightGBM] [Info] Auto-choosing row-wise multi-threading, the overhead of testing was 0.003048 seconds.\n",
      "You can set `force_row_wise=true` to remove the overhead.\n",
      "And if memory is not enough, you can set `force_col_wise=true`.\n",
      "[LightGBM] [Info] Total Bins 3572\n",
      "[LightGBM] [Info] Number of data points in the train set: 76797, number of used features: 39\n",
      "[LightGBM] [Info] [binary:BoostFromScore]: pavg=0.500000 -> initscore=0.000000\n",
      "[LightGBM] [Info] Start training from score 0.000000\n"
     ]
    },
    {
     "name": "stderr",
     "output_type": "stream",
     "text": [
      "C:\\Users\\PC1\\anaconda3\\Lib\\site-packages\\sklearn\\model_selection\\_validation.py:824: UserWarning: Scoring failed. The score on this train-test partition for these parameters will be set to nan. Details: \n",
      "Traceback (most recent call last):\n",
      "  File \"C:\\Users\\PC1\\anaconda3\\Lib\\site-packages\\sklearn\\model_selection\\_validation.py\", line 813, in _score\n",
      "    scores = scorer(estimator, X_test, y_test)\n",
      "             ^^^^^^^^^^^^^^^^^^^^^^^^^^^^^^^^^\n",
      "  File \"C:\\Users\\PC1\\anaconda3\\Lib\\site-packages\\sklearn\\metrics\\_scorer.py\", line 266, in __call__\n",
      "    return self._score(partial(_cached_call, None), estimator, X, y_true, **_kwargs)\n",
      "           ^^^^^^^^^^^^^^^^^^^^^^^^^^^^^^^^^^^^^^^^^^^^^^^^^^^^^^^^^^^^^^^^^^^^^^^^^\n",
      "  File \"C:\\Users\\PC1\\anaconda3\\Lib\\site-packages\\sklearn\\metrics\\_scorer.py\", line 401, in _score\n",
      "    return self._sign * self._score_func(y, y_pred, **scoring_kwargs)\n",
      "                        ^^^^^^^^^^^^^^^^^^^^^^^^^^^^^^^^^^^^^^^^^^^^^\n",
      "  File \"C:\\Users\\PC1\\AppData\\Local\\Temp\\ipykernel_35148\\1473373116.py\", line 9, in f1_score_scorer\n",
      "    return f1_score(y_true, y_pred_proba)\n",
      "           ^^^^^^^^^^^^^^^^^^^^^^^^^^^^^^\n",
      "  File \"C:\\Users\\PC1\\anaconda3\\Lib\\site-packages\\sklearn\\utils\\_param_validation.py\", line 211, in wrapper\n",
      "    return func(*args, **kwargs)\n",
      "           ^^^^^^^^^^^^^^^^^^^^^\n",
      "  File \"C:\\Users\\PC1\\anaconda3\\Lib\\site-packages\\sklearn\\metrics\\_classification.py\", line 1238, in f1_score\n",
      "    return fbeta_score(\n",
      "           ^^^^^^^^^^^^\n",
      "  File \"C:\\Users\\PC1\\anaconda3\\Lib\\site-packages\\sklearn\\utils\\_param_validation.py\", line 184, in wrapper\n",
      "    return func(*args, **kwargs)\n",
      "           ^^^^^^^^^^^^^^^^^^^^^\n",
      "  File \"C:\\Users\\PC1\\anaconda3\\Lib\\site-packages\\sklearn\\metrics\\_classification.py\", line 1411, in fbeta_score\n",
      "    _, _, f, _ = precision_recall_fscore_support(\n",
      "                 ^^^^^^^^^^^^^^^^^^^^^^^^^^^^^^^^\n",
      "  File \"C:\\Users\\PC1\\anaconda3\\Lib\\site-packages\\sklearn\\utils\\_param_validation.py\", line 184, in wrapper\n",
      "    return func(*args, **kwargs)\n",
      "           ^^^^^^^^^^^^^^^^^^^^^\n",
      "  File \"C:\\Users\\PC1\\anaconda3\\Lib\\site-packages\\sklearn\\metrics\\_classification.py\", line 1721, in precision_recall_fscore_support\n",
      "    labels = _check_set_wise_labels(y_true, y_pred, average, labels, pos_label)\n",
      "             ^^^^^^^^^^^^^^^^^^^^^^^^^^^^^^^^^^^^^^^^^^^^^^^^^^^^^^^^^^^^^^^^^^\n",
      "  File \"C:\\Users\\PC1\\anaconda3\\Lib\\site-packages\\sklearn\\metrics\\_classification.py\", line 1499, in _check_set_wise_labels\n",
      "    y_type, y_true, y_pred = _check_targets(y_true, y_pred)\n",
      "                             ^^^^^^^^^^^^^^^^^^^^^^^^^^^^^^\n",
      "  File \"C:\\Users\\PC1\\anaconda3\\Lib\\site-packages\\sklearn\\metrics\\_classification.py\", line 93, in _check_targets\n",
      "    raise ValueError(\n",
      "ValueError: Classification metrics can't handle a mix of binary and continuous targets\n",
      "\n",
      "  warnings.warn(\n"
     ]
    },
    {
     "name": "stdout",
     "output_type": "stream",
     "text": [
      "[LightGBM] [Warning] Found whitespace in feature_names, replace with underlines\n",
      "[LightGBM] [Info] Number of positive: 6231, number of negative: 70567\n",
      "[LightGBM] [Info] Auto-choosing row-wise multi-threading, the overhead of testing was 0.002629 seconds.\n",
      "You can set `force_row_wise=true` to remove the overhead.\n",
      "And if memory is not enough, you can set `force_col_wise=true`.\n",
      "[LightGBM] [Info] Total Bins 3575\n",
      "[LightGBM] [Info] Number of data points in the train set: 76798, number of used features: 39\n",
      "[LightGBM] [Info] [binary:BoostFromScore]: pavg=0.500000 -> initscore=0.000000\n",
      "[LightGBM] [Info] Start training from score 0.000000\n"
     ]
    },
    {
     "name": "stderr",
     "output_type": "stream",
     "text": [
      "C:\\Users\\PC1\\anaconda3\\Lib\\site-packages\\sklearn\\model_selection\\_validation.py:824: UserWarning: Scoring failed. The score on this train-test partition for these parameters will be set to nan. Details: \n",
      "Traceback (most recent call last):\n",
      "  File \"C:\\Users\\PC1\\anaconda3\\Lib\\site-packages\\sklearn\\model_selection\\_validation.py\", line 813, in _score\n",
      "    scores = scorer(estimator, X_test, y_test)\n",
      "             ^^^^^^^^^^^^^^^^^^^^^^^^^^^^^^^^^\n",
      "  File \"C:\\Users\\PC1\\anaconda3\\Lib\\site-packages\\sklearn\\metrics\\_scorer.py\", line 266, in __call__\n",
      "    return self._score(partial(_cached_call, None), estimator, X, y_true, **_kwargs)\n",
      "           ^^^^^^^^^^^^^^^^^^^^^^^^^^^^^^^^^^^^^^^^^^^^^^^^^^^^^^^^^^^^^^^^^^^^^^^^^\n",
      "  File \"C:\\Users\\PC1\\anaconda3\\Lib\\site-packages\\sklearn\\metrics\\_scorer.py\", line 401, in _score\n",
      "    return self._sign * self._score_func(y, y_pred, **scoring_kwargs)\n",
      "                        ^^^^^^^^^^^^^^^^^^^^^^^^^^^^^^^^^^^^^^^^^^^^^\n",
      "  File \"C:\\Users\\PC1\\AppData\\Local\\Temp\\ipykernel_35148\\1473373116.py\", line 9, in f1_score_scorer\n",
      "    return f1_score(y_true, y_pred_proba)\n",
      "           ^^^^^^^^^^^^^^^^^^^^^^^^^^^^^^\n",
      "  File \"C:\\Users\\PC1\\anaconda3\\Lib\\site-packages\\sklearn\\utils\\_param_validation.py\", line 211, in wrapper\n",
      "    return func(*args, **kwargs)\n",
      "           ^^^^^^^^^^^^^^^^^^^^^\n",
      "  File \"C:\\Users\\PC1\\anaconda3\\Lib\\site-packages\\sklearn\\metrics\\_classification.py\", line 1238, in f1_score\n",
      "    return fbeta_score(\n",
      "           ^^^^^^^^^^^^\n",
      "  File \"C:\\Users\\PC1\\anaconda3\\Lib\\site-packages\\sklearn\\utils\\_param_validation.py\", line 184, in wrapper\n",
      "    return func(*args, **kwargs)\n",
      "           ^^^^^^^^^^^^^^^^^^^^^\n",
      "  File \"C:\\Users\\PC1\\anaconda3\\Lib\\site-packages\\sklearn\\metrics\\_classification.py\", line 1411, in fbeta_score\n",
      "    _, _, f, _ = precision_recall_fscore_support(\n",
      "                 ^^^^^^^^^^^^^^^^^^^^^^^^^^^^^^^^\n",
      "  File \"C:\\Users\\PC1\\anaconda3\\Lib\\site-packages\\sklearn\\utils\\_param_validation.py\", line 184, in wrapper\n",
      "    return func(*args, **kwargs)\n",
      "           ^^^^^^^^^^^^^^^^^^^^^\n",
      "  File \"C:\\Users\\PC1\\anaconda3\\Lib\\site-packages\\sklearn\\metrics\\_classification.py\", line 1721, in precision_recall_fscore_support\n",
      "    labels = _check_set_wise_labels(y_true, y_pred, average, labels, pos_label)\n",
      "             ^^^^^^^^^^^^^^^^^^^^^^^^^^^^^^^^^^^^^^^^^^^^^^^^^^^^^^^^^^^^^^^^^^\n",
      "  File \"C:\\Users\\PC1\\anaconda3\\Lib\\site-packages\\sklearn\\metrics\\_classification.py\", line 1499, in _check_set_wise_labels\n",
      "    y_type, y_true, y_pred = _check_targets(y_true, y_pred)\n",
      "                             ^^^^^^^^^^^^^^^^^^^^^^^^^^^^^^\n",
      "  File \"C:\\Users\\PC1\\anaconda3\\Lib\\site-packages\\sklearn\\metrics\\_classification.py\", line 93, in _check_targets\n",
      "    raise ValueError(\n",
      "ValueError: Classification metrics can't handle a mix of binary and continuous targets\n",
      "\n",
      "  warnings.warn(\n"
     ]
    },
    {
     "name": "stdout",
     "output_type": "stream",
     "text": [
      "[LightGBM] [Warning] Found whitespace in feature_names, replace with underlines\n",
      "[LightGBM] [Info] Number of positive: 6231, number of negative: 70567\n",
      "[LightGBM] [Info] Auto-choosing row-wise multi-threading, the overhead of testing was 0.002611 seconds.\n",
      "You can set `force_row_wise=true` to remove the overhead.\n",
      "And if memory is not enough, you can set `force_col_wise=true`.\n",
      "[LightGBM] [Info] Total Bins 3575\n",
      "[LightGBM] [Info] Number of data points in the train set: 76798, number of used features: 39\n",
      "[LightGBM] [Info] [binary:BoostFromScore]: pavg=0.500000 -> initscore=0.000000\n",
      "[LightGBM] [Info] Start training from score 0.000000\n"
     ]
    },
    {
     "name": "stderr",
     "output_type": "stream",
     "text": [
      "C:\\Users\\PC1\\anaconda3\\Lib\\site-packages\\sklearn\\model_selection\\_validation.py:824: UserWarning: Scoring failed. The score on this train-test partition for these parameters will be set to nan. Details: \n",
      "Traceback (most recent call last):\n",
      "  File \"C:\\Users\\PC1\\anaconda3\\Lib\\site-packages\\sklearn\\model_selection\\_validation.py\", line 813, in _score\n",
      "    scores = scorer(estimator, X_test, y_test)\n",
      "             ^^^^^^^^^^^^^^^^^^^^^^^^^^^^^^^^^\n",
      "  File \"C:\\Users\\PC1\\anaconda3\\Lib\\site-packages\\sklearn\\metrics\\_scorer.py\", line 266, in __call__\n",
      "    return self._score(partial(_cached_call, None), estimator, X, y_true, **_kwargs)\n",
      "           ^^^^^^^^^^^^^^^^^^^^^^^^^^^^^^^^^^^^^^^^^^^^^^^^^^^^^^^^^^^^^^^^^^^^^^^^^\n",
      "  File \"C:\\Users\\PC1\\anaconda3\\Lib\\site-packages\\sklearn\\metrics\\_scorer.py\", line 401, in _score\n",
      "    return self._sign * self._score_func(y, y_pred, **scoring_kwargs)\n",
      "                        ^^^^^^^^^^^^^^^^^^^^^^^^^^^^^^^^^^^^^^^^^^^^^\n",
      "  File \"C:\\Users\\PC1\\AppData\\Local\\Temp\\ipykernel_35148\\1473373116.py\", line 9, in f1_score_scorer\n",
      "    return f1_score(y_true, y_pred_proba)\n",
      "           ^^^^^^^^^^^^^^^^^^^^^^^^^^^^^^\n",
      "  File \"C:\\Users\\PC1\\anaconda3\\Lib\\site-packages\\sklearn\\utils\\_param_validation.py\", line 211, in wrapper\n",
      "    return func(*args, **kwargs)\n",
      "           ^^^^^^^^^^^^^^^^^^^^^\n",
      "  File \"C:\\Users\\PC1\\anaconda3\\Lib\\site-packages\\sklearn\\metrics\\_classification.py\", line 1238, in f1_score\n",
      "    return fbeta_score(\n",
      "           ^^^^^^^^^^^^\n",
      "  File \"C:\\Users\\PC1\\anaconda3\\Lib\\site-packages\\sklearn\\utils\\_param_validation.py\", line 184, in wrapper\n",
      "    return func(*args, **kwargs)\n",
      "           ^^^^^^^^^^^^^^^^^^^^^\n",
      "  File \"C:\\Users\\PC1\\anaconda3\\Lib\\site-packages\\sklearn\\metrics\\_classification.py\", line 1411, in fbeta_score\n",
      "    _, _, f, _ = precision_recall_fscore_support(\n",
      "                 ^^^^^^^^^^^^^^^^^^^^^^^^^^^^^^^^\n",
      "  File \"C:\\Users\\PC1\\anaconda3\\Lib\\site-packages\\sklearn\\utils\\_param_validation.py\", line 184, in wrapper\n",
      "    return func(*args, **kwargs)\n",
      "           ^^^^^^^^^^^^^^^^^^^^^\n",
      "  File \"C:\\Users\\PC1\\anaconda3\\Lib\\site-packages\\sklearn\\metrics\\_classification.py\", line 1721, in precision_recall_fscore_support\n",
      "    labels = _check_set_wise_labels(y_true, y_pred, average, labels, pos_label)\n",
      "             ^^^^^^^^^^^^^^^^^^^^^^^^^^^^^^^^^^^^^^^^^^^^^^^^^^^^^^^^^^^^^^^^^^\n",
      "  File \"C:\\Users\\PC1\\anaconda3\\Lib\\site-packages\\sklearn\\metrics\\_classification.py\", line 1499, in _check_set_wise_labels\n",
      "    y_type, y_true, y_pred = _check_targets(y_true, y_pred)\n",
      "                             ^^^^^^^^^^^^^^^^^^^^^^^^^^^^^^\n",
      "  File \"C:\\Users\\PC1\\anaconda3\\Lib\\site-packages\\sklearn\\metrics\\_classification.py\", line 93, in _check_targets\n",
      "    raise ValueError(\n",
      "ValueError: Classification metrics can't handle a mix of binary and continuous targets\n",
      "\n",
      "  warnings.warn(\n"
     ]
    },
    {
     "name": "stdout",
     "output_type": "stream",
     "text": [
      "[LightGBM] [Warning] Found whitespace in feature_names, replace with underlines\n",
      "[LightGBM] [Info] Number of positive: 6230, number of negative: 70568\n",
      "[LightGBM] [Info] Auto-choosing row-wise multi-threading, the overhead of testing was 0.002359 seconds.\n",
      "You can set `force_row_wise=true` to remove the overhead.\n",
      "And if memory is not enough, you can set `force_col_wise=true`.\n",
      "[LightGBM] [Info] Total Bins 3575\n",
      "[LightGBM] [Info] Number of data points in the train set: 76798, number of used features: 39\n",
      "[LightGBM] [Info] [binary:BoostFromScore]: pavg=0.500000 -> initscore=-0.000000\n",
      "[LightGBM] [Info] Start training from score -0.000000\n"
     ]
    },
    {
     "name": "stderr",
     "output_type": "stream",
     "text": [
      "C:\\Users\\PC1\\anaconda3\\Lib\\site-packages\\sklearn\\model_selection\\_validation.py:824: UserWarning: Scoring failed. The score on this train-test partition for these parameters will be set to nan. Details: \n",
      "Traceback (most recent call last):\n",
      "  File \"C:\\Users\\PC1\\anaconda3\\Lib\\site-packages\\sklearn\\model_selection\\_validation.py\", line 813, in _score\n",
      "    scores = scorer(estimator, X_test, y_test)\n",
      "             ^^^^^^^^^^^^^^^^^^^^^^^^^^^^^^^^^\n",
      "  File \"C:\\Users\\PC1\\anaconda3\\Lib\\site-packages\\sklearn\\metrics\\_scorer.py\", line 266, in __call__\n",
      "    return self._score(partial(_cached_call, None), estimator, X, y_true, **_kwargs)\n",
      "           ^^^^^^^^^^^^^^^^^^^^^^^^^^^^^^^^^^^^^^^^^^^^^^^^^^^^^^^^^^^^^^^^^^^^^^^^^\n",
      "  File \"C:\\Users\\PC1\\anaconda3\\Lib\\site-packages\\sklearn\\metrics\\_scorer.py\", line 401, in _score\n",
      "    return self._sign * self._score_func(y, y_pred, **scoring_kwargs)\n",
      "                        ^^^^^^^^^^^^^^^^^^^^^^^^^^^^^^^^^^^^^^^^^^^^^\n",
      "  File \"C:\\Users\\PC1\\AppData\\Local\\Temp\\ipykernel_35148\\1473373116.py\", line 9, in f1_score_scorer\n",
      "    return f1_score(y_true, y_pred_proba)\n",
      "           ^^^^^^^^^^^^^^^^^^^^^^^^^^^^^^\n",
      "  File \"C:\\Users\\PC1\\anaconda3\\Lib\\site-packages\\sklearn\\utils\\_param_validation.py\", line 211, in wrapper\n",
      "    return func(*args, **kwargs)\n",
      "           ^^^^^^^^^^^^^^^^^^^^^\n",
      "  File \"C:\\Users\\PC1\\anaconda3\\Lib\\site-packages\\sklearn\\metrics\\_classification.py\", line 1238, in f1_score\n",
      "    return fbeta_score(\n",
      "           ^^^^^^^^^^^^\n",
      "  File \"C:\\Users\\PC1\\anaconda3\\Lib\\site-packages\\sklearn\\utils\\_param_validation.py\", line 184, in wrapper\n",
      "    return func(*args, **kwargs)\n",
      "           ^^^^^^^^^^^^^^^^^^^^^\n",
      "  File \"C:\\Users\\PC1\\anaconda3\\Lib\\site-packages\\sklearn\\metrics\\_classification.py\", line 1411, in fbeta_score\n",
      "    _, _, f, _ = precision_recall_fscore_support(\n",
      "                 ^^^^^^^^^^^^^^^^^^^^^^^^^^^^^^^^\n",
      "  File \"C:\\Users\\PC1\\anaconda3\\Lib\\site-packages\\sklearn\\utils\\_param_validation.py\", line 184, in wrapper\n",
      "    return func(*args, **kwargs)\n",
      "           ^^^^^^^^^^^^^^^^^^^^^\n",
      "  File \"C:\\Users\\PC1\\anaconda3\\Lib\\site-packages\\sklearn\\metrics\\_classification.py\", line 1721, in precision_recall_fscore_support\n",
      "    labels = _check_set_wise_labels(y_true, y_pred, average, labels, pos_label)\n",
      "             ^^^^^^^^^^^^^^^^^^^^^^^^^^^^^^^^^^^^^^^^^^^^^^^^^^^^^^^^^^^^^^^^^^\n",
      "  File \"C:\\Users\\PC1\\anaconda3\\Lib\\site-packages\\sklearn\\metrics\\_classification.py\", line 1499, in _check_set_wise_labels\n",
      "    y_type, y_true, y_pred = _check_targets(y_true, y_pred)\n",
      "                             ^^^^^^^^^^^^^^^^^^^^^^^^^^^^^^\n",
      "  File \"C:\\Users\\PC1\\anaconda3\\Lib\\site-packages\\sklearn\\metrics\\_classification.py\", line 93, in _check_targets\n",
      "    raise ValueError(\n",
      "ValueError: Classification metrics can't handle a mix of binary and continuous targets\n",
      "\n",
      "  warnings.warn(\n",
      "C:\\Users\\PC1\\anaconda3\\Lib\\site-packages\\sklearn\\model_selection\\_search.py:976: UserWarning: One or more of the test scores are non-finite: [nan nan nan nan]\n",
      "  warnings.warn(\n"
     ]
    },
    {
     "name": "stdout",
     "output_type": "stream",
     "text": [
      "[LightGBM] [Warning] Found whitespace in feature_names, replace with underlines\n",
      "[LightGBM] [Info] Number of positive: 7788, number of negative: 88209\n",
      "[LightGBM] [Info] Auto-choosing row-wise multi-threading, the overhead of testing was 0.002495 seconds.\n",
      "You can set `force_row_wise=true` to remove the overhead.\n",
      "And if memory is not enough, you can set `force_col_wise=true`.\n",
      "[LightGBM] [Info] Total Bins 3600\n",
      "[LightGBM] [Info] Number of data points in the train set: 95997, number of used features: 39\n",
      "[LightGBM] [Info] [binary:BoostFromScore]: pavg=0.500000 -> initscore=-0.000000\n",
      "[LightGBM] [Info] Start training from score -0.000000\n",
      "Custom Credit Score: 1358700\n"
     ]
    },
    {
     "data": {
      "text/plain": "<Figure size 640x480 with 2 Axes>",
      "image/png": "[encoded data removed]"
     },
     "metadata": {},
     "output_type": "display_data"
    }
   ],
   "source": [
    "from sklearn.metrics import f1_score, roc_auc_score, make_scorer, confusion_matrix, ConfusionMatrixDisplay\n",
    "from sklearn.model_selection import GridSearchCV, StratifiedKFold\n",
    "from lightgbm import LGBMClassifier\n",
    "import mlflow\n",
    "import time\n",
    "import datetime\n",
    "import matplotlib.pyplot as plt\n",
    "import pandas as pd\n",
    "\n",
    "current_time = datetime.datetime.now().strftime(\"%Y-%m-%d_%H-%M-%S\")\n",
    "experiment_name = f\"experiment_lightgbm_f1_score_scorer_{current_time}\"\n",
    "\n",
    "mlflow.create_experiment(experiment_name)\n",
    "mlflow.set_experiment(experiment_name)\n",
    "\n",
    "param_grid = {\n",
    "    'n_estimators': [100, 500],\n",
    "    'learning_rate': [0.01, 0.05]\n",
    "}\n",
    "\n",
    "# Créer un générateur de validation croisée\n",
    "cv = StratifiedKFold(n_splits=5, shuffle=True, random_state=42)\n",
    "\n",
    "clf = LGBMClassifier(random_state=42, class_weight='balanced')\n",
    "\n",
    "grid_search = GridSearchCV(\n",
    "    estimator=clf,\n",
    "    param_grid=param_grid,\n",
    "    cv=cv,\n",
    "    scoring=make_scorer(f1_score_scorer, needs_proba=True)\n",
    ")\n",
    "\n",
    "try:\n",
    "    # Entraînement et suivi avec MLflow\n",
    "    with mlflow.start_run():\n",
    "\n",
    "        start_time = time.time()\n",
    "        #grid_search.fit(X_train, y_train, sample_weight=sample_weight)\n",
    "        grid_search.fit(X_train, y_train)\n",
    "\n",
    "        # Enregistrement des meilleurs paramètres et modèle\n",
    "        best_params = grid_search.best_params_\n",
    "        mlflow.log_params(best_params)\n",
    "\n",
    "        best_estimator = grid_search.best_estimator_\n",
    "        mlflow.sklearn.log_model(best_estimator, \"best_model\")\n",
    "\n",
    "        # Calcul de la métrique personnalisée sur le jeu de test\n",
    "        test_pred_proba = best_estimator.predict_proba(X_test)[:, 1]\n",
    "        test_cost = custom_scorer(y_test, test_pred_proba)\n",
    "        mlflow.log_metric('test_custom_cost', test_cost)\n",
    "\n",
    "        test_auc = auc_scorer(y_test, test_pred_proba)\n",
    "        mlflow.log_metric('test_auc', test_auc)\n",
    "\n",
    "        # Calcul et enregistrement du F1 score\n",
    "        test_pred = best_estimator.predict(X_test)\n",
    "        test_f1_score = f1_score(y_test, test_pred)\n",
    "        mlflow.log_metric('test_f1_score', test_f1_score)\n",
    "\n",
    "        # Création et enregistrement de la matrice de confusion\n",
    "        conf_matrix = confusion_matrix(y_test, test_pred)\n",
    "        disp = ConfusionMatrixDisplay(confusion_matrix=conf_matrix)\n",
    "        cmap = plt.cm.Blues\n",
    "        disp.plot(cmap=cmap)\n",
    "        plt.savefig(\"confusion_matrix.png\")\n",
    "        mlflow.log_artifact(\"confusion_matrix.png\")\n",
    "\n",
    "        duration = time.time() - start_time\n",
    "        mlflow.log_metric('training_duration', duration)\n",
    "\n",
    "        pd.DataFrame(grid_search.cv_results_).to_csv('grid_search_results.csv')\n",
    "        mlflow.log_artifact('grid_search_results.csv')\n",
    "\n",
    "except Exception as e:\n",
    "    print(f\"Une erreur est survenue lors de l'entraînement : {e}\")\n",
    "\n",
    "finally:\n",
    "    mlflow.end_run()"
   ],
   "metadata": {
    "collapsed": false,
    "ExecuteTime": {
     "end_time": "2023-12-20T16:47:12.846132200Z",
     "start_time": "2023-12-20T16:46:54.592419600Z"
    }
   }
  },
  {
   "cell_type": "markdown",
   "source": [
    "\n",
    "### AUC score"
   ],
   "metadata": {
    "collapsed": false
   }
  },
  {
   "cell_type": "code",
   "execution_count": 58,
   "outputs": [
    {
     "name": "stderr",
     "output_type": "stream",
     "text": [
      "WARNING:root:Malformed experiment 'mlruns'. Detailed error Yaml file 'C:\\Users\\PC1\\DataspellProjects\\Home_Credit_Default_Risk\\notebook\\mlruns\\mlruns\\meta.yaml' does not exist.\n",
      "Traceback (most recent call last):\n",
      "  File \"C:\\Users\\PC1\\anaconda3\\envs\\myenv\\lib\\site-packages\\mlflow\\store\\tracking\\file_store.py\", line 304, in search_experiments\n",
      "    exp = self._get_experiment(exp_id, view_type)\n",
      "  File \"C:\\Users\\PC1\\anaconda3\\envs\\myenv\\lib\\site-packages\\mlflow\\store\\tracking\\file_store.py\", line 397, in _get_experiment\n",
      "    meta = FileStore._read_yaml(experiment_dir, FileStore.META_DATA_FILE_NAME)\n",
      "  File \"C:\\Users\\PC1\\anaconda3\\envs\\myenv\\lib\\site-packages\\mlflow\\store\\tracking\\file_store.py\", line 1306, in _read_yaml\n",
      "    return _read_helper(root, file_name, attempts_remaining=retries)\n",
      "  File \"C:\\Users\\PC1\\anaconda3\\envs\\myenv\\lib\\site-packages\\mlflow\\store\\tracking\\file_store.py\", line 1299, in _read_helper\n",
      "    result = read_yaml(root, file_name)\n",
      "  File \"C:\\Users\\PC1\\anaconda3\\envs\\myenv\\lib\\site-packages\\mlflow\\utils\\file_utils.py\", line 282, in read_yaml\n",
      "    raise MissingConfigException(f\"Yaml file '{file_path}' does not exist.\")\n",
      "mlflow.exceptions.MissingConfigException: Yaml file 'C:\\Users\\PC1\\DataspellProjects\\Home_Credit_Default_Risk\\notebook\\mlruns\\mlruns\\meta.yaml' does not exist.\n",
      "WARNING:root:Malformed experiment 'mlruns'. Detailed error Yaml file 'C:\\Users\\PC1\\DataspellProjects\\Home_Credit_Default_Risk\\notebook\\mlruns\\mlruns\\meta.yaml' does not exist.\n",
      "Traceback (most recent call last):\n",
      "  File \"C:\\Users\\PC1\\anaconda3\\envs\\myenv\\lib\\site-packages\\mlflow\\store\\tracking\\file_store.py\", line 304, in search_experiments\n",
      "    exp = self._get_experiment(exp_id, view_type)\n",
      "  File \"C:\\Users\\PC1\\anaconda3\\envs\\myenv\\lib\\site-packages\\mlflow\\store\\tracking\\file_store.py\", line 397, in _get_experiment\n",
      "    meta = FileStore._read_yaml(experiment_dir, FileStore.META_DATA_FILE_NAME)\n",
      "  File \"C:\\Users\\PC1\\anaconda3\\envs\\myenv\\lib\\site-packages\\mlflow\\store\\tracking\\file_store.py\", line 1306, in _read_yaml\n",
      "    return _read_helper(root, file_name, attempts_remaining=retries)\n",
      "  File \"C:\\Users\\PC1\\anaconda3\\envs\\myenv\\lib\\site-packages\\mlflow\\store\\tracking\\file_store.py\", line 1299, in _read_helper\n",
      "    result = read_yaml(root, file_name)\n",
      "  File \"C:\\Users\\PC1\\anaconda3\\envs\\myenv\\lib\\site-packages\\mlflow\\utils\\file_utils.py\", line 282, in read_yaml\n",
      "    raise MissingConfigException(f\"Yaml file '{file_path}' does not exist.\")\n",
      "mlflow.exceptions.MissingConfigException: Yaml file 'C:\\Users\\PC1\\DataspellProjects\\Home_Credit_Default_Risk\\notebook\\mlruns\\mlruns\\meta.yaml' does not exist.\n"
     ]
    },
    {
     "name": "stdout",
     "output_type": "stream",
     "text": [
      "[LightGBM] [Info] Number of positive: 6230, number of negative: 70567\n",
      "[LightGBM] [Info] Auto-choosing row-wise multi-threading, the overhead of testing was 0.002306 seconds.\n",
      "You can set `force_row_wise=true` to remove the overhead.\n",
      "And if memory is not enough, you can set `force_col_wise=true`.\n",
      "[LightGBM] [Info] Total Bins 3503\n",
      "[LightGBM] [Info] Number of data points in the train set: 76797, number of used features: 39\n",
      "[LightGBM] [Info] [binary:BoostFromScore]: pavg=0.500000 -> initscore=0.000000\n",
      "[LightGBM] [Info] Start training from score 0.000000\n",
      "[LightGBM] [Info] Number of positive: 6230, number of negative: 70567\n",
      "[LightGBM] [Info] Auto-choosing row-wise multi-threading, the overhead of testing was 0.002753 seconds.\n",
      "You can set `force_row_wise=true` to remove the overhead.\n",
      "And if memory is not enough, you can set `force_col_wise=true`.\n",
      "[LightGBM] [Info] Total Bins 3504\n",
      "[LightGBM] [Info] Number of data points in the train set: 76797, number of used features: 39\n",
      "[LightGBM] [Info] [binary:BoostFromScore]: pavg=0.500000 -> initscore=0.000000\n",
      "[LightGBM] [Info] Start training from score 0.000000\n",
      "[LightGBM] [Info] Number of positive: 6231, number of negative: 70567\n",
      "[LightGBM] [Info] Auto-choosing row-wise multi-threading, the overhead of testing was 0.002270 seconds.\n",
      "You can set `force_row_wise=true` to remove the overhead.\n",
      "And if memory is not enough, you can set `force_col_wise=true`.\n",
      "[LightGBM] [Info] Total Bins 3506\n",
      "[LightGBM] [Info] Number of data points in the train set: 76798, number of used features: 39\n",
      "[LightGBM] [Info] [binary:BoostFromScore]: pavg=0.500000 -> initscore=0.000000\n",
      "[LightGBM] [Info] Start training from score 0.000000\n",
      "[LightGBM] [Info] Number of positive: 6231, number of negative: 70567\n",
      "[LightGBM] [Info] Auto-choosing row-wise multi-threading, the overhead of testing was 0.002684 seconds.\n",
      "You can set `force_row_wise=true` to remove the overhead.\n",
      "And if memory is not enough, you can set `force_col_wise=true`.\n",
      "[LightGBM] [Info] Total Bins 3505\n",
      "[LightGBM] [Info] Number of data points in the train set: 76798, number of used features: 39\n",
      "[LightGBM] [Info] [binary:BoostFromScore]: pavg=0.500000 -> initscore=0.000000\n",
      "[LightGBM] [Info] Start training from score 0.000000\n",
      "[LightGBM] [Info] Number of positive: 6230, number of negative: 70568\n",
      "[LightGBM] [Info] Auto-choosing row-wise multi-threading, the overhead of testing was 0.002223 seconds.\n",
      "You can set `force_row_wise=true` to remove the overhead.\n",
      "And if memory is not enough, you can set `force_col_wise=true`.\n",
      "[LightGBM] [Info] Total Bins 3508\n",
      "[LightGBM] [Info] Number of data points in the train set: 76798, number of used features: 39\n",
      "[LightGBM] [Info] [binary:BoostFromScore]: pavg=0.500000 -> initscore=-0.000000\n",
      "[LightGBM] [Info] Start training from score -0.000000\n",
      "[LightGBM] [Info] Number of positive: 6230, number of negative: 70567\n",
      "[LightGBM] [Info] Auto-choosing row-wise multi-threading, the overhead of testing was 0.002911 seconds.\n",
      "You can set `force_row_wise=true` to remove the overhead.\n",
      "And if memory is not enough, you can set `force_col_wise=true`.\n",
      "[LightGBM] [Info] Total Bins 3503\n",
      "[LightGBM] [Info] Number of data points in the train set: 76797, number of used features: 39\n",
      "[LightGBM] [Info] [binary:BoostFromScore]: pavg=0.500000 -> initscore=0.000000\n",
      "[LightGBM] [Info] Start training from score 0.000000\n",
      "[LightGBM] [Info] Number of positive: 6230, number of negative: 70567\n",
      "[LightGBM] [Info] Auto-choosing row-wise multi-threading, the overhead of testing was 0.002136 seconds.\n",
      "You can set `force_row_wise=true` to remove the overhead.\n",
      "And if memory is not enough, you can set `force_col_wise=true`.\n",
      "[LightGBM] [Info] Total Bins 3504\n",
      "[LightGBM] [Info] Number of data points in the train set: 76797, number of used features: 39\n",
      "[LightGBM] [Info] [binary:BoostFromScore]: pavg=0.500000 -> initscore=0.000000\n",
      "[LightGBM] [Info] Start training from score 0.000000\n",
      "[LightGBM] [Info] Number of positive: 6231, number of negative: 70567\n",
      "[LightGBM] [Info] Auto-choosing row-wise multi-threading, the overhead of testing was 0.002689 seconds.\n",
      "You can set `force_row_wise=true` to remove the overhead.\n",
      "And if memory is not enough, you can set `force_col_wise=true`.\n",
      "[LightGBM] [Info] Total Bins 3506\n",
      "[LightGBM] [Info] Number of data points in the train set: 76798, number of used features: 39\n",
      "[LightGBM] [Info] [binary:BoostFromScore]: pavg=0.500000 -> initscore=0.000000\n",
      "[LightGBM] [Info] Start training from score 0.000000\n",
      "[LightGBM] [Info] Number of positive: 6231, number of negative: 70567\n",
      "[LightGBM] [Info] Auto-choosing row-wise multi-threading, the overhead of testing was 0.002949 seconds.\n",
      "You can set `force_row_wise=true` to remove the overhead.\n",
      "And if memory is not enough, you can set `force_col_wise=true`.\n",
      "[LightGBM] [Info] Total Bins 3505\n",
      "[LightGBM] [Info] Number of data points in the train set: 76798, number of used features: 39\n",
      "[LightGBM] [Info] [binary:BoostFromScore]: pavg=0.500000 -> initscore=0.000000\n",
      "[LightGBM] [Info] Start training from score 0.000000\n",
      "[LightGBM] [Info] Number of positive: 6230, number of negative: 70568\n",
      "[LightGBM] [Info] Auto-choosing row-wise multi-threading, the overhead of testing was 0.002851 seconds.\n",
      "You can set `force_row_wise=true` to remove the overhead.\n",
      "And if memory is not enough, you can set `force_col_wise=true`.\n",
      "[LightGBM] [Info] Total Bins 3508\n",
      "[LightGBM] [Info] Number of data points in the train set: 76798, number of used features: 39\n",
      "[LightGBM] [Info] [binary:BoostFromScore]: pavg=0.500000 -> initscore=-0.000000\n",
      "[LightGBM] [Info] Start training from score -0.000000\n",
      "[LightGBM] [Info] Number of positive: 6230, number of negative: 70567\n",
      "[LightGBM] [Info] Auto-choosing row-wise multi-threading, the overhead of testing was 0.002560 seconds.\n",
      "You can set `force_row_wise=true` to remove the overhead.\n",
      "And if memory is not enough, you can set `force_col_wise=true`.\n",
      "[LightGBM] [Info] Total Bins 3503\n",
      "[LightGBM] [Info] Number of data points in the train set: 76797, number of used features: 39\n",
      "[LightGBM] [Info] [binary:BoostFromScore]: pavg=0.500000 -> initscore=0.000000\n",
      "[LightGBM] [Info] Start training from score 0.000000\n",
      "[LightGBM] [Info] Number of positive: 6230, number of negative: 70567\n",
      "[LightGBM] [Info] Auto-choosing row-wise multi-threading, the overhead of testing was 0.002715 seconds.\n",
      "You can set `force_row_wise=true` to remove the overhead.\n",
      "And if memory is not enough, you can set `force_col_wise=true`.\n",
      "[LightGBM] [Info] Total Bins 3504\n",
      "[LightGBM] [Info] Number of data points in the train set: 76797, number of used features: 39\n",
      "[LightGBM] [Info] [binary:BoostFromScore]: pavg=0.500000 -> initscore=0.000000\n",
      "[LightGBM] [Info] Start training from score 0.000000\n",
      "[LightGBM] [Info] Number of positive: 6231, number of negative: 70567\n",
      "[LightGBM] [Info] Auto-choosing row-wise multi-threading, the overhead of testing was 0.002082 seconds.\n",
      "You can set `force_row_wise=true` to remove the overhead.\n",
      "And if memory is not enough, you can set `force_col_wise=true`.\n",
      "[LightGBM] [Info] Total Bins 3506\n",
      "[LightGBM] [Info] Number of data points in the train set: 76798, number of used features: 39\n",
      "[LightGBM] [Info] [binary:BoostFromScore]: pavg=0.500000 -> initscore=0.000000\n",
      "[LightGBM] [Info] Start training from score 0.000000\n",
      "[LightGBM] [Info] Number of positive: 6231, number of negative: 70567\n",
      "[LightGBM] [Info] Auto-choosing row-wise multi-threading, the overhead of testing was 0.002695 seconds.\n",
      "You can set `force_row_wise=true` to remove the overhead.\n",
      "And if memory is not enough, you can set `force_col_wise=true`.\n",
      "[LightGBM] [Info] Total Bins 3505\n",
      "[LightGBM] [Info] Number of data points in the train set: 76798, number of used features: 39\n",
      "[LightGBM] [Info] [binary:BoostFromScore]: pavg=0.500000 -> initscore=0.000000\n",
      "[LightGBM] [Info] Start training from score 0.000000\n",
      "[LightGBM] [Info] Number of positive: 6230, number of negative: 70568\n",
      "[LightGBM] [Info] Auto-choosing row-wise multi-threading, the overhead of testing was 0.002750 seconds.\n",
      "You can set `force_row_wise=true` to remove the overhead.\n",
      "And if memory is not enough, you can set `force_col_wise=true`.\n",
      "[LightGBM] [Info] Total Bins 3508\n",
      "[LightGBM] [Info] Number of data points in the train set: 76798, number of used features: 39\n",
      "[LightGBM] [Info] [binary:BoostFromScore]: pavg=0.500000 -> initscore=-0.000000\n",
      "[LightGBM] [Info] Start training from score -0.000000\n",
      "[LightGBM] [Info] Number of positive: 6230, number of negative: 70567\n",
      "[LightGBM] [Info] Auto-choosing row-wise multi-threading, the overhead of testing was 0.002478 seconds.\n",
      "You can set `force_row_wise=true` to remove the overhead.\n",
      "And if memory is not enough, you can set `force_col_wise=true`.\n",
      "[LightGBM] [Info] Total Bins 3503\n",
      "[LightGBM] [Info] Number of data points in the train set: 76797, number of used features: 39\n",
      "[LightGBM] [Info] [binary:BoostFromScore]: pavg=0.500000 -> initscore=0.000000\n",
      "[LightGBM] [Info] Start training from score 0.000000\n",
      "[LightGBM] [Info] Number of positive: 6230, number of negative: 70567\n",
      "[LightGBM] [Info] Auto-choosing row-wise multi-threading, the overhead of testing was 0.002205 seconds.\n",
      "You can set `force_row_wise=true` to remove the overhead.\n",
      "And if memory is not enough, you can set `force_col_wise=true`.\n",
      "[LightGBM] [Info] Total Bins 3504\n",
      "[LightGBM] [Info] Number of data points in the train set: 76797, number of used features: 39\n",
      "[LightGBM] [Info] [binary:BoostFromScore]: pavg=0.500000 -> initscore=0.000000\n",
      "[LightGBM] [Info] Start training from score 0.000000\n",
      "[LightGBM] [Info] Number of positive: 6231, number of negative: 70567\n",
      "[LightGBM] [Info] Auto-choosing row-wise multi-threading, the overhead of testing was 0.002745 seconds.\n",
      "You can set `force_row_wise=true` to remove the overhead.\n",
      "And if memory is not enough, you can set `force_col_wise=true`.\n",
      "[LightGBM] [Info] Total Bins 3506\n",
      "[LightGBM] [Info] Number of data points in the train set: 76798, number of used features: 39\n",
      "[LightGBM] [Info] [binary:BoostFromScore]: pavg=0.500000 -> initscore=0.000000\n",
      "[LightGBM] [Info] Start training from score 0.000000\n",
      "[LightGBM] [Info] Number of positive: 6231, number of negative: 70567\n",
      "[LightGBM] [Info] Auto-choosing row-wise multi-threading, the overhead of testing was 0.002530 seconds.\n",
      "You can set `force_row_wise=true` to remove the overhead.\n",
      "And if memory is not enough, you can set `force_col_wise=true`.\n",
      "[LightGBM] [Info] Total Bins 3505\n",
      "[LightGBM] [Info] Number of data points in the train set: 76798, number of used features: 39\n",
      "[LightGBM] [Info] [binary:BoostFromScore]: pavg=0.500000 -> initscore=0.000000\n",
      "[LightGBM] [Info] Start training from score 0.000000\n",
      "[LightGBM] [Info] Number of positive: 6230, number of negative: 70568\n",
      "[LightGBM] [Info] Auto-choosing row-wise multi-threading, the overhead of testing was 0.002435 seconds.\n",
      "You can set `force_row_wise=true` to remove the overhead.\n",
      "And if memory is not enough, you can set `force_col_wise=true`.\n",
      "[LightGBM] [Info] Total Bins 3508\n",
      "[LightGBM] [Info] Number of data points in the train set: 76798, number of used features: 39\n",
      "[LightGBM] [Info] [binary:BoostFromScore]: pavg=0.500000 -> initscore=-0.000000\n",
      "[LightGBM] [Info] Start training from score -0.000000\n",
      "[LightGBM] [Info] Number of positive: 7788, number of negative: 88209\n",
      "[LightGBM] [Info] Auto-choosing row-wise multi-threading, the overhead of testing was 0.003186 seconds.\n",
      "You can set `force_row_wise=true` to remove the overhead.\n",
      "And if memory is not enough, you can set `force_col_wise=true`.\n",
      "[LightGBM] [Info] Total Bins 3513\n",
      "[LightGBM] [Info] Number of data points in the train set: 95997, number of used features: 39\n",
      "[LightGBM] [Info] [binary:BoostFromScore]: pavg=0.500000 -> initscore=-0.000000\n",
      "[LightGBM] [Info] Start training from score -0.000000\n"
     ]
    },
    {
     "name": "stderr",
     "output_type": "stream",
     "text": [
      "C:\\Users\\PC1\\anaconda3\\envs\\myenv\\lib\\site-packages\\_distutils_hack\\__init__.py:33: UserWarning: Setuptools is replacing distutils.\n",
      "  warnings.warn(\"Setuptools is replacing distutils.\")\n"
     ]
    },
    {
     "name": "stdout",
     "output_type": "stream",
     "text": [
      "Custom Credit Score: 1300100\n"
     ]
    },
    {
     "data": {
      "text/plain": "<Figure size 640x480 with 2 Axes>",
      "image/png": "[encoded data removed]"
     },
     "metadata": {},
     "output_type": "display_data"
    }
   ],
   "source": [
    "from sklearn.metrics import f1_score, roc_auc_score, make_scorer, confusion_matrix, ConfusionMatrixDisplay\n",
    "from sklearn.model_selection import GridSearchCV, StratifiedKFold\n",
    "from lightgbm import LGBMClassifier\n",
    "import mlflow\n",
    "import time\n",
    "import datetime\n",
    "import matplotlib.pyplot as plt\n",
    "import pandas as pd\n",
    "\n",
    "current_time = datetime.datetime.now().strftime(\"%Y-%m-%d_%H-%M-%S\")\n",
    "experiment_name = f\"experiment_lightgbm_auc_scorer_{current_time}\"\n",
    "\n",
    "mlflow.create_experiment(experiment_name)\n",
    "mlflow.set_experiment(experiment_name)\n",
    "\n",
    "param_grid = {\n",
    "    'n_estimators': [100, 500],\n",
    "    'learning_rate': [0.01, 0.05]\n",
    "}\n",
    "\n",
    "# Créer un générateur de validation croisée\n",
    "cv = StratifiedKFold(n_splits=5, shuffle=True, random_state=42)\n",
    "\n",
    "clf = LGBMClassifier(random_state=42, class_weight='balanced')\n",
    "\n",
    "grid_search = GridSearchCV(\n",
    "    estimator=clf,\n",
    "    param_grid=param_grid,\n",
    "    cv=cv,\n",
    "    scoring=make_scorer(auc_scorer, needs_proba=True)\n",
    ")\n",
    "\n",
    "try:\n",
    "    # Entraînement et suivi avec MLflow\n",
    "    with mlflow.start_run():\n",
    "\n",
    "        start_time = time.time()\n",
    "        #grid_search.fit(X_train, y_train, sample_weight=sample_weight)\n",
    "        grid_search.fit(X_train, y_train)\n",
    "\n",
    "        # Enregistrement des meilleurs paramètres et modèle\n",
    "        best_params = grid_search.best_params_\n",
    "        mlflow.log_params(best_params)\n",
    "\n",
    "        best_estimator = grid_search.best_estimator_\n",
    "        mlflow.sklearn.log_model(best_estimator, \"best_model\")\n",
    "\n",
    "        # Calcul de la métrique personnalisée sur le jeu de test\n",
    "        test_pred_proba = best_estimator.predict_proba(X_test)[:, 1]\n",
    "        test_cost = custom_scorer(y_test, test_pred_proba)\n",
    "        mlflow.log_metric('test_custom_cost', test_cost)\n",
    "\n",
    "        test_auc = auc_scorer(y_test, test_pred_proba)\n",
    "        mlflow.log_metric('test_auc', test_auc)\n",
    "\n",
    "        # Calcul et enregistrement du F1 score\n",
    "        test_pred = best_estimator.predict(X_test)\n",
    "        test_f1_score = f1_score(y_test, test_pred)\n",
    "        mlflow.log_metric('test_f1_score', test_f1_score)\n",
    "\n",
    "        # Création et enregistrement de la matrice de confusion\n",
    "        conf_matrix = confusion_matrix(y_test, test_pred)\n",
    "        disp = ConfusionMatrixDisplay(confusion_matrix=conf_matrix)\n",
    "        cmap = plt.cm.Blues\n",
    "        disp.plot(cmap=cmap)\n",
    "        plt.savefig(\"confusion_matrix.png\")\n",
    "        mlflow.log_artifact(\"confusion_matrix.png\")\n",
    "\n",
    "        duration = time.time() - start_time\n",
    "        mlflow.log_metric('training_duration', duration)\n",
    "\n",
    "        pd.DataFrame(grid_search.cv_results_).to_csv('grid_search_results.csv')\n",
    "        mlflow.log_artifact('grid_search_results.csv')\n",
    "\n",
    "except Exception as e:\n",
    "    print(f\"Une erreur est survenue lors de l'entraînement : {e}\")\n",
    "\n",
    "finally:\n",
    "    mlflow.end_run()"
   ],
   "metadata": {
    "collapsed": false,
    "ExecuteTime": {
     "end_time": "2023-12-20T19:40:12.523745900Z",
     "start_time": "2023-12-20T19:39:53.664936900Z"
    }
   }
  },
  {
   "cell_type": "code",
   "execution_count": 59,
   "outputs": [
    {
     "data": {
      "text/plain": "<lightgbm.basic.Booster at 0x1af0214d490>"
     },
     "execution_count": 59,
     "metadata": {},
     "output_type": "execute_result"
    }
   ],
   "source": [
    "best_estimator.booster_.save_model('model.txt')"
   ],
   "metadata": {
    "collapsed": false,
    "ExecuteTime": {
     "end_time": "2023-12-20T19:40:18.115125100Z",
     "start_time": "2023-12-20T19:40:18.095241300Z"
    }
   }
  },
  {
   "cell_type": "code",
   "execution_count": 128,
   "outputs": [],
   "source": [
    "   # Récupérer les importances des caractéristiques\n",
    "feature_importances = best_estimator.feature_importances_\n",
    "\n",
    "# Création d'un DataFrame pour les importances des caractéristiques\n",
    "feature_importance_df = pd.DataFrame({\n",
    "    'feature': feats,\n",
    "    'importance': feature_importances\n",
    "})"
   ],
   "metadata": {
    "collapsed": false,
    "ExecuteTime": {
     "end_time": "2023-12-20T16:47:30.979497Z",
     "start_time": "2023-12-20T16:47:30.972232800Z"
    }
   }
  },
  {
   "cell_type": "code",
   "execution_count": 129,
   "outputs": [
    {
     "data": {
      "text/plain": "<Figure size 800x1000 with 1 Axes>",
      "image/png": "[encoded data removed]"
     },
     "metadata": {},
     "output_type": "display_data"
    }
   ],
   "source": [
    "display_importances(feature_importance_df)"
   ],
   "metadata": {
    "collapsed": false,
    "ExecuteTime": {
     "end_time": "2023-12-20T16:47:31.373716900Z",
     "start_time": "2023-12-20T16:47:30.975334700Z"
    }
   }
  },
  {
   "cell_type": "code",
   "execution_count": 130,
   "outputs": [
    {
     "data": {
      "text/plain": "                                              feature  importance\n0                                        EXT_SOURCE_3        1764\n1                                        EXT_SOURCE_2        1462\n2                                        EXT_SOURCE_1        1751\n3                                          DAYS_BIRTH        1004\n4                                       DAYS_EMPLOYED         902\n5                                  DAYS_EMPLOYED_PERC         603\n6                         REGION_RATING_CLIENT_W_CITY         157\n7                                REGION_RATING_CLIENT          70\n8                            NAME_INCOME_TYPE_Working         125\n9                NAME_EDUCATION_TYPE_Higher education         160\n10                                        CODE_GENDER         320\n11                             DAYS_LAST_PHONE_CHANGE         595\n12                                    DAYS_ID_PUBLISH         640\n13                             REG_CITY_NOT_WORK_CITY          20\n14  NAME_EDUCATION_TYPE_Secondary / secondary special         193\n15                           OCCUPATION_TYPE_Laborers          85\n16                                      FLOORSMAX_AVG         120\n17                                     FLOORSMAX_MEDI          26\n18                         NAME_INCOME_TYPE_Pensioner           0\n19                                    FLAG_DOCUMENT_3         273\n20                             EMERGENCYSTATE_MODE_No           2\n21                              ORGANIZATION_TYPE_XNA           0\n22                                     FLAG_EMP_PHONE           0\n23                                     FLOORSMAX_MODE          47\n24                      HOUSETYPE_MODE_block of flats           1\n25                                        OWN_CAR_AGE         793\n26                                  DAYS_REGISTRATION         440\n27                                    AMT_GOODS_PRICE        1673\n28                             REG_CITY_NOT_LIVE_CITY          51\n29                         REGION_POPULATION_RELATIVE         378\n30                                      FLOORSMIN_AVG         114\n31                                     FLOORSMIN_MEDI          19\n32                                      ELEVATORS_AVG          99\n33                                     ELEVATORS_MEDI          63\n34                                     FLOORSMIN_MODE          75\n35                            LIVE_CITY_NOT_WORK_CITY           6\n36                                     ELEVATORS_MODE          60\n37                                     TOTALAREA_MODE         657\n38                           DEF_60_CNT_SOCIAL_CIRCLE         252",
      "text/html": "<div>\n<style scoped>\n    .dataframe tbody tr th:only-of-type {\n        vertical-align: middle;\n    }\n\n    .dataframe tbody tr th {\n        vertical-align: top;\n    }\n\n    .dataframe thead th {\n        text-align: right;\n    }\n</style>\n<table border=\"1\" class=\"dataframe\">\n  <thead>\n    <tr style=\"text-align: right;\">\n      <th></th>\n      <th>feature</th>\n      <th>importance</th>\n    </tr>\n  </thead>\n  <tbody>\n    <tr>\n      <th>0</th>\n      <td>EXT_SOURCE_3</td>\n      <td>1764</td>\n    </tr>\n    <tr>\n      <th>1</th>\n      <td>EXT_SOURCE_2</td>\n      <td>1462</td>\n    </tr>\n    <tr>\n      <th>2</th>\n      <td>EXT_SOURCE_1</td>\n      <td>1751</td>\n    </tr>\n    <tr>\n      <th>3</th>\n      <td>DAYS_BIRTH</td>\n      <td>1004</td>\n    </tr>\n    <tr>\n      <th>4</th>\n      <td>DAYS_EMPLOYED</td>\n      <td>902</td>\n    </tr>\n    <tr>\n      <th>5</th>\n      <td>DAYS_EMPLOYED_PERC</td>\n      <td>603</td>\n    </tr>\n    <tr>\n      <th>6</th>\n      <td>REGION_RATING_CLIENT_W_CITY</td>\n      <td>157</td>\n    </tr>\n    <tr>\n      <th>7</th>\n      <td>REGION_RATING_CLIENT</td>\n      <td>70</td>\n    </tr>\n    <tr>\n      <th>8</th>\n      <td>NAME_INCOME_TYPE_Working</td>\n      <td>125</td>\n    </tr>\n    <tr>\n      <th>9</th>\n      <td>NAME_EDUCATION_TYPE_Higher education</td>\n      <td>160</td>\n    </tr>\n    <tr>\n      <th>10</th>\n      <td>CODE_GENDER</td>\n      <td>320</td>\n    </tr>\n    <tr>\n      <th>11</th>\n      <td>DAYS_LAST_PHONE_CHANGE</td>\n      <td>595</td>\n    </tr>\n    <tr>\n      <th>12</th>\n      <td>DAYS_ID_PUBLISH</td>\n      <td>640</td>\n    </tr>\n    <tr>\n      <th>13</th>\n      <td>REG_CITY_NOT_WORK_CITY</td>\n      <td>20</td>\n    </tr>\n    <tr>\n      <th>14</th>\n      <td>NAME_EDUCATION_TYPE_Secondary / secondary special</td>\n      <td>193</td>\n    </tr>\n    <tr>\n      <th>15</th>\n      <td>OCCUPATION_TYPE_Laborers</td>\n      <td>85</td>\n    </tr>\n    <tr>\n      <th>16</th>\n      <td>FLOORSMAX_AVG</td>\n      <td>120</td>\n    </tr>\n    <tr>\n      <th>17</th>\n      <td>FLOORSMAX_MEDI</td>\n      <td>26</td>\n    </tr>\n    <tr>\n      <th>18</th>\n      <td>NAME_INCOME_TYPE_Pensioner</td>\n      <td>0</td>\n    </tr>\n    <tr>\n      <th>19</th>\n      <td>FLAG_DOCUMENT_3</td>\n      <td>273</td>\n    </tr>\n    <tr>\n      <th>20</th>\n      <td>EMERGENCYSTATE_MODE_No</td>\n      <td>2</td>\n    </tr>\n    <tr>\n      <th>21</th>\n      <td>ORGANIZATION_TYPE_XNA</td>\n      <td>0</td>\n    </tr>\n    <tr>\n      <th>22</th>\n      <td>FLAG_EMP_PHONE</td>\n      <td>0</td>\n    </tr>\n    <tr>\n      <th>23</th>\n      <td>FLOORSMAX_MODE</td>\n      <td>47</td>\n    </tr>\n    <tr>\n      <th>24</th>\n      <td>HOUSETYPE_MODE_block of flats</td>\n      <td>1</td>\n    </tr>\n    <tr>\n      <th>25</th>\n      <td>OWN_CAR_AGE</td>\n      <td>793</td>\n    </tr>\n    <tr>\n      <th>26</th>\n      <td>DAYS_REGISTRATION</td>\n      <td>440</td>\n    </tr>\n    <tr>\n      <th>27</th>\n      <td>AMT_GOODS_PRICE</td>\n      <td>1673</td>\n    </tr>\n    <tr>\n      <th>28</th>\n      <td>REG_CITY_NOT_LIVE_CITY</td>\n      <td>51</td>\n    </tr>\n    <tr>\n      <th>29</th>\n      <td>REGION_POPULATION_RELATIVE</td>\n      <td>378</td>\n    </tr>\n    <tr>\n      <th>30</th>\n      <td>FLOORSMIN_AVG</td>\n      <td>114</td>\n    </tr>\n    <tr>\n      <th>31</th>\n      <td>FLOORSMIN_MEDI</td>\n      <td>19</td>\n    </tr>\n    <tr>\n      <th>32</th>\n      <td>ELEVATORS_AVG</td>\n      <td>99</td>\n    </tr>\n    <tr>\n      <th>33</th>\n      <td>ELEVATORS_MEDI</td>\n      <td>63</td>\n    </tr>\n    <tr>\n      <th>34</th>\n      <td>FLOORSMIN_MODE</td>\n      <td>75</td>\n    </tr>\n    <tr>\n      <th>35</th>\n      <td>LIVE_CITY_NOT_WORK_CITY</td>\n      <td>6</td>\n    </tr>\n    <tr>\n      <th>36</th>\n      <td>ELEVATORS_MODE</td>\n      <td>60</td>\n    </tr>\n    <tr>\n      <th>37</th>\n      <td>TOTALAREA_MODE</td>\n      <td>657</td>\n    </tr>\n    <tr>\n      <th>38</th>\n      <td>DEF_60_CNT_SOCIAL_CIRCLE</td>\n      <td>252</td>\n    </tr>\n  </tbody>\n</table>\n</div>"
     },
     "execution_count": 130,
     "metadata": {},
     "output_type": "execute_result"
    }
   ],
   "source": [
    "feature_importance_df"
   ],
   "metadata": {
    "collapsed": false,
    "ExecuteTime": {
     "end_time": "2023-12-20T16:47:31.381015100Z",
     "start_time": "2023-12-20T16:47:31.377926500Z"
    }
   }
  },
  {
   "cell_type": "markdown",
   "source": [
    "## XGBoost"
   ],
   "metadata": {
    "collapsed": false
   }
  },
  {
   "cell_type": "code",
   "execution_count": 131,
   "outputs": [
    {
     "name": "stderr",
     "output_type": "stream",
     "text": [
      "WARNING:root:Malformed experiment 'mlruns'. Detailed error Yaml file 'C:\\Users\\PC1\\DataspellProjects\\Home_Credit_Default_Risk\\notebook\\mlruns\\mlruns\\meta.yaml' does not exist.\n",
      "Traceback (most recent call last):\n",
      "  File \"C:\\Users\\PC1\\anaconda3\\Lib\\site-packages\\mlflow\\store\\tracking\\file_store.py\", line 302, in search_experiments\n",
      "    exp = self._get_experiment(exp_id, view_type)\n",
      "          ^^^^^^^^^^^^^^^^^^^^^^^^^^^^^^^^^^^^^^^\n",
      "  File \"C:\\Users\\PC1\\anaconda3\\Lib\\site-packages\\mlflow\\store\\tracking\\file_store.py\", line 395, in _get_experiment\n",
      "    meta = FileStore._read_yaml(experiment_dir, FileStore.META_DATA_FILE_NAME)\n",
      "           ^^^^^^^^^^^^^^^^^^^^^^^^^^^^^^^^^^^^^^^^^^^^^^^^^^^^^^^^^^^^^^^^^^^\n",
      "  File \"C:\\Users\\PC1\\anaconda3\\Lib\\site-packages\\mlflow\\store\\tracking\\file_store.py\", line 1303, in _read_yaml\n",
      "    return _read_helper(root, file_name, attempts_remaining=retries)\n",
      "           ^^^^^^^^^^^^^^^^^^^^^^^^^^^^^^^^^^^^^^^^^^^^^^^^^^^^^^^^^\n",
      "  File \"C:\\Users\\PC1\\anaconda3\\Lib\\site-packages\\mlflow\\store\\tracking\\file_store.py\", line 1296, in _read_helper\n",
      "    result = read_yaml(root, file_name)\n",
      "             ^^^^^^^^^^^^^^^^^^^^^^^^^^\n",
      "  File \"C:\\Users\\PC1\\anaconda3\\Lib\\site-packages\\mlflow\\utils\\file_utils.py\", line 303, in read_yaml\n",
      "    raise MissingConfigException(f\"Yaml file '{file_path}' does not exist.\")\n",
      "mlflow.exceptions.MissingConfigException: Yaml file 'C:\\Users\\PC1\\DataspellProjects\\Home_Credit_Default_Risk\\notebook\\mlruns\\mlruns\\meta.yaml' does not exist.\n",
      "WARNING:root:Malformed experiment 'mlruns'. Detailed error Yaml file 'C:\\Users\\PC1\\DataspellProjects\\Home_Credit_Default_Risk\\notebook\\mlruns\\mlruns\\meta.yaml' does not exist.\n",
      "Traceback (most recent call last):\n",
      "  File \"C:\\Users\\PC1\\anaconda3\\Lib\\site-packages\\mlflow\\store\\tracking\\file_store.py\", line 302, in search_experiments\n",
      "    exp = self._get_experiment(exp_id, view_type)\n",
      "          ^^^^^^^^^^^^^^^^^^^^^^^^^^^^^^^^^^^^^^^\n",
      "  File \"C:\\Users\\PC1\\anaconda3\\Lib\\site-packages\\mlflow\\store\\tracking\\file_store.py\", line 395, in _get_experiment\n",
      "    meta = FileStore._read_yaml(experiment_dir, FileStore.META_DATA_FILE_NAME)\n",
      "           ^^^^^^^^^^^^^^^^^^^^^^^^^^^^^^^^^^^^^^^^^^^^^^^^^^^^^^^^^^^^^^^^^^^\n",
      "  File \"C:\\Users\\PC1\\anaconda3\\Lib\\site-packages\\mlflow\\store\\tracking\\file_store.py\", line 1303, in _read_yaml\n",
      "    return _read_helper(root, file_name, attempts_remaining=retries)\n",
      "           ^^^^^^^^^^^^^^^^^^^^^^^^^^^^^^^^^^^^^^^^^^^^^^^^^^^^^^^^^\n",
      "  File \"C:\\Users\\PC1\\anaconda3\\Lib\\site-packages\\mlflow\\store\\tracking\\file_store.py\", line 1296, in _read_helper\n",
      "    result = read_yaml(root, file_name)\n",
      "             ^^^^^^^^^^^^^^^^^^^^^^^^^^\n",
      "  File \"C:\\Users\\PC1\\anaconda3\\Lib\\site-packages\\mlflow\\utils\\file_utils.py\", line 303, in read_yaml\n",
      "    raise MissingConfigException(f\"Yaml file '{file_path}' does not exist.\")\n",
      "mlflow.exceptions.MissingConfigException: Yaml file 'C:\\Users\\PC1\\DataspellProjects\\Home_Credit_Default_Risk\\notebook\\mlruns\\mlruns\\meta.yaml' does not exist.\n"
     ]
    },
    {
     "name": "stdout",
     "output_type": "stream",
     "text": [
      "Custom Credit Score: 1303800\n"
     ]
    },
    {
     "data": {
      "text/plain": "<Figure size 640x480 with 2 Axes>",
      "image/png": "[encoded data removed]"
     },
     "metadata": {},
     "output_type": "display_data"
    }
   ],
   "source": [
    "from xgboost import XGBClassifier\n",
    "from sklearn.metrics import f1_score, roc_auc_score, make_scorer, confusion_matrix, ConfusionMatrixDisplay\n",
    "from sklearn.model_selection import GridSearchCV, StratifiedKFold\n",
    "import mlflow\n",
    "import time\n",
    "import datetime\n",
    "import matplotlib.pyplot as plt\n",
    "import pandas as pd\n",
    "\n",
    "current_time = datetime.datetime.now().strftime(\"%Y-%m-%d_%H-%M-%S\")\n",
    "experiment_name = f\"experiment_xgboost_auc_scorer_{current_time}\"\n",
    "\n",
    "mlflow.create_experiment(experiment_name)\n",
    "mlflow.set_experiment(experiment_name)\n",
    "\n",
    "# Assurez-vous que les fonctions custom_scorer, auc_scorer et f1_score_scorer sont définies correctement\n",
    "\n",
    "param_grid = {\n",
    "    'n_estimators': [100, 500],\n",
    "    'learning_rate': [0.01, 0.2],\n",
    "    'max_depth': [3, 10],\n",
    "    'subsample': [0.8, 1],\n",
    "    'colsample_bytree': [0.8, 1]\n",
    "}\n",
    "\n",
    "cv = StratifiedKFold(n_splits=5, shuffle=True, random_state=42)\n",
    "\n",
    "clf = XGBClassifier(random_state=42, use_label_encoder=False, eval_metric='logloss')\n",
    "\n",
    "grid_search = GridSearchCV(\n",
    "    estimator=clf,\n",
    "    param_grid=param_grid,\n",
    "    cv=cv,\n",
    "    scoring=make_scorer(auc_scorer, needs_proba=True)\n",
    ")\n",
    "\n",
    "try:\n",
    "    with mlflow.start_run():\n",
    "\n",
    "        start_time = time.time()\n",
    "        #grid_search.fit(X_train, y_train, sample_weight=sample_weight)\n",
    "        grid_search.fit(X_train, y_train)\n",
    "\n",
    "        # Enregistrement des meilleurs paramètres et modèle\n",
    "        best_params = grid_search.best_params_\n",
    "        mlflow.log_params(best_params)\n",
    "\n",
    "        best_estimator = grid_search.best_estimator_\n",
    "        mlflow.sklearn.log_model(best_estimator, \"best_model\")\n",
    "\n",
    "        # Calcul de la métrique personnalisée sur le jeu de test\n",
    "        test_pred_proba = best_estimator.predict_proba(X_test)[:, 1]\n",
    "        test_cost = custom_scorer(y_test, test_pred_proba)\n",
    "        mlflow.log_metric('test_custom_cost', test_cost)\n",
    "\n",
    "        test_auc = auc_scorer(y_test, test_pred_proba)\n",
    "        mlflow.log_metric('test_auc', test_auc)\n",
    "\n",
    "        # Calcul et enregistrement du F1 score\n",
    "        test_pred = best_estimator.predict(X_test)\n",
    "        test_f1_score = f1_score(y_test, test_pred)\n",
    "        mlflow.log_metric('test_f1_score', test_f1_score)\n",
    "\n",
    "        # Création et enregistrement de la matrice de confusion\n",
    "        conf_matrix = confusion_matrix(y_test, test_pred)\n",
    "        disp = ConfusionMatrixDisplay(confusion_matrix=conf_matrix)\n",
    "        cmap = plt.cm.Blues\n",
    "        disp.plot(cmap=cmap)\n",
    "        plt.savefig(\"confusion_matrix.png\")\n",
    "        mlflow.log_artifact(\"confusion_matrix.png\")\n",
    "\n",
    "        duration = time.time() - start_time\n",
    "        mlflow.log_metric('training_duration', duration)\n",
    "\n",
    "        pd.DataFrame(grid_search.cv_results_).to_csv('grid_search_results.csv')\n",
    "        mlflow.log_artifact('grid_search_results.csv')\n",
    "\n",
    "except Exception as e:\n",
    "    print(f\"Une erreur est survenue lors de l'entraînement : {e}\")\n",
    "\n",
    "finally:\n",
    "    mlflow.end_run()\n"
   ],
   "metadata": {
    "collapsed": false,
    "ExecuteTime": {
     "end_time": "2023-12-20T16:51:35.679560600Z",
     "start_time": "2023-12-20T16:47:31.381533200Z"
    }
   }
  },
  {
   "cell_type": "markdown",
   "metadata": {
    "pycharm": {
     "name": "#%% md\n"
    }
   },
   "source": [
    "## Random forest classifier"
   ]
  },
  {
   "cell_type": "code",
   "execution_count": 122,
   "outputs": [],
   "source": [
    "missing_values_count = X_train.isna().sum()\n",
    "\n",
    "# Filtrer pour garder uniquement les colonnes avec des valeurs manquantes\n",
    "missing_values_count = missing_values_count[missing_values_count > 0]\n",
    "\n",
    "# Trier les colonnes par le nombre de valeurs manquantes, en ordre décroissant\n",
    "missing_values_count = missing_values_count.sort_values(ascending=False)"
   ],
   "metadata": {
    "collapsed": false,
    "ExecuteTime": {
     "end_time": "2023-12-20T15:06:46.906180400Z",
     "start_time": "2023-12-20T15:06:46.876482100Z"
    }
   }
  },
  {
   "cell_type": "code",
   "execution_count": 123,
   "outputs": [
    {
     "data": {
      "text/plain": "PREV_NAME_GOODS_CATEGORY_XNA_MEAN          71398\nPREV_NAME_PRODUCT_TYPE_WALKIN_MEAN         71398\nPREV_DAYS_DECISION_MEAN                    71398\nPREV_NAME_CONTRACT_STATUS_APPROVED_MEAN    71398\nPREV_NAME_CONTRACT_STATUS_REFUSED_MEAN     71398\nPREV_CODE_REJECT_REASON_SCOFR_MEAN         71398\nPREV_CODE_REJECT_REASON_XAP_MEAN           71398\nPREV_NAME_YIELD_GROUP_XNA_MEAN             71398\nOWN_CAR_AGE                                63433\nINSTAL_DAYS_ENTRY_PAYMENT_MEAN             59641\nEXT_SOURCE_1                               54021\nFLOORSMAX_MODE                             47752\nFLOORSMAX_AVG                              47752\nFLOORSMAX_MEDI                             47752\nEXT_SOURCE_3                               19007\nDAYS_EMPLOYED_PERC                         17210\nDAYS_EMPLOYED                              17210\nEXT_SOURCE_2                                 197\nAMT_GOODS_PRICE                               79\nDAYS_LAST_PHONE_CHANGE                         1\ndtype: int64"
     },
     "execution_count": 123,
     "metadata": {},
     "output_type": "execute_result"
    }
   ],
   "source": [
    "missing_values_count"
   ],
   "metadata": {
    "collapsed": false,
    "ExecuteTime": {
     "end_time": "2023-12-20T15:06:47.855175300Z",
     "start_time": "2023-12-20T15:06:47.811187500Z"
    }
   }
  },
  {
   "cell_type": "code",
   "execution_count": 124,
   "outputs": [
    {
     "data": {
      "text/plain": "<Figure size 1000x600 with 1 Axes>",
      "image/png": "[encoded data removed]"
     },
     "metadata": {},
     "output_type": "display_data"
    }
   ],
   "source": [
    "import matplotlib.pyplot as plt\n",
    "\n",
    "# Créer un graphique en barres des valeurs manquantes\n",
    "plt.figure(figsize=(10, 6))\n",
    "missing_values_count.plot(kind='bar')\n",
    "plt.title('Nombre de valeurs manquantes par colonne')\n",
    "plt.xlabel('Colonnes')\n",
    "plt.ylabel('Nombre de valeurs manquantes')\n",
    "plt.xticks(rotation=45)\n",
    "plt.show()"
   ],
   "metadata": {
    "collapsed": false,
    "ExecuteTime": {
     "end_time": "2023-12-20T15:07:14.363083Z",
     "start_time": "2023-12-20T15:07:14.177189600Z"
    }
   }
  },
  {
   "cell_type": "code",
   "execution_count": 125,
   "outputs": [
    {
     "name": "stdout",
     "output_type": "stream",
     "text": [
      "Colonnes avec des valeurs manquantes: ['EXT_SOURCE_3', 'EXT_SOURCE_2', 'EXT_SOURCE_1', 'DAYS_EMPLOYED', 'DAYS_EMPLOYED_PERC', 'PREV_NAME_CONTRACT_STATUS_APPROVED_MEAN', 'PREV_NAME_CONTRACT_STATUS_REFUSED_MEAN', 'PREV_CODE_REJECT_REASON_SCOFR_MEAN', 'PREV_CODE_REJECT_REASON_XAP_MEAN', 'DAYS_LAST_PHONE_CHANGE', 'FLOORSMAX_AVG', 'FLOORSMAX_MEDI', 'PREV_NAME_PRODUCT_TYPE_WALKIN_MEAN', 'FLOORSMAX_MODE', 'OWN_CAR_AGE', 'PREV_NAME_YIELD_GROUP_XNA_MEAN', 'INSTAL_DAYS_ENTRY_PAYMENT_MEAN', 'AMT_GOODS_PRICE', 'PREV_DAYS_DECISION_MEAN', 'PREV_NAME_GOODS_CATEGORY_XNA_MEAN']\n"
     ]
    }
   ],
   "source": [
    "# Identifier les colonnes avec des valeurs manquantes\n",
    "missing_values_cols = X_train.columns[X_train.isna().any()].tolist()\n",
    "print(\"Colonnes avec des valeurs manquantes:\", missing_values_cols)\n"
   ],
   "metadata": {
    "collapsed": false,
    "ExecuteTime": {
     "end_time": "2023-12-20T15:07:40.423243600Z",
     "start_time": "2023-12-20T15:07:40.393163300Z"
    }
   }
  },
  {
   "cell_type": "code",
   "execution_count": 126,
   "outputs": [],
   "source": [
    "from sklearn.impute import SimpleImputer\n",
    "\n",
    "imputer = SimpleImputer(strategy='median') # ou 'mean', 'constant'\n",
    "X_train = imputer.fit_transform(X_train)\n",
    "X_test = imputer.transform(X_test)"
   ],
   "metadata": {
    "collapsed": false,
    "ExecuteTime": {
     "end_time": "2023-12-20T15:09:23.954766200Z",
     "start_time": "2023-12-20T15:09:23.592080800Z"
    }
   }
  },
  {
   "cell_type": "code",
   "execution_count": 129,
   "outputs": [
    {
     "name": "stderr",
     "output_type": "stream",
     "text": [
      "WARNING:root:Malformed experiment 'mlruns'. Detailed error Yaml file 'C:\\Users\\PC1\\DataspellProjects\\Home_Credit_Default_Risk\\notebook\\mlruns\\mlruns\\meta.yaml' does not exist.\n",
      "Traceback (most recent call last):\n",
      "  File \"C:\\Users\\PC1\\anaconda3\\Lib\\site-packages\\mlflow\\store\\tracking\\file_store.py\", line 302, in search_experiments\n",
      "    exp = self._get_experiment(exp_id, view_type)\n",
      "          ^^^^^^^^^^^^^^^^^^^^^^^^^^^^^^^^^^^^^^^\n",
      "  File \"C:\\Users\\PC1\\anaconda3\\Lib\\site-packages\\mlflow\\store\\tracking\\file_store.py\", line 395, in _get_experiment\n",
      "    meta = FileStore._read_yaml(experiment_dir, FileStore.META_DATA_FILE_NAME)\n",
      "           ^^^^^^^^^^^^^^^^^^^^^^^^^^^^^^^^^^^^^^^^^^^^^^^^^^^^^^^^^^^^^^^^^^^\n",
      "  File \"C:\\Users\\PC1\\anaconda3\\Lib\\site-packages\\mlflow\\store\\tracking\\file_store.py\", line 1303, in _read_yaml\n",
      "    return _read_helper(root, file_name, attempts_remaining=retries)\n",
      "           ^^^^^^^^^^^^^^^^^^^^^^^^^^^^^^^^^^^^^^^^^^^^^^^^^^^^^^^^^\n",
      "  File \"C:\\Users\\PC1\\anaconda3\\Lib\\site-packages\\mlflow\\store\\tracking\\file_store.py\", line 1296, in _read_helper\n",
      "    result = read_yaml(root, file_name)\n",
      "             ^^^^^^^^^^^^^^^^^^^^^^^^^^\n",
      "  File \"C:\\Users\\PC1\\anaconda3\\Lib\\site-packages\\mlflow\\utils\\file_utils.py\", line 303, in read_yaml\n",
      "    raise MissingConfigException(f\"Yaml file '{file_path}' does not exist.\")\n",
      "mlflow.exceptions.MissingConfigException: Yaml file 'C:\\Users\\PC1\\DataspellProjects\\Home_Credit_Default_Risk\\notebook\\mlruns\\mlruns\\meta.yaml' does not exist.\n",
      "WARNING:root:Malformed experiment 'mlruns'. Detailed error Yaml file 'C:\\Users\\PC1\\DataspellProjects\\Home_Credit_Default_Risk\\notebook\\mlruns\\mlruns\\meta.yaml' does not exist.\n",
      "Traceback (most recent call last):\n",
      "  File \"C:\\Users\\PC1\\anaconda3\\Lib\\site-packages\\mlflow\\store\\tracking\\file_store.py\", line 302, in search_experiments\n",
      "    exp = self._get_experiment(exp_id, view_type)\n",
      "          ^^^^^^^^^^^^^^^^^^^^^^^^^^^^^^^^^^^^^^^\n",
      "  File \"C:\\Users\\PC1\\anaconda3\\Lib\\site-packages\\mlflow\\store\\tracking\\file_store.py\", line 395, in _get_experiment\n",
      "    meta = FileStore._read_yaml(experiment_dir, FileStore.META_DATA_FILE_NAME)\n",
      "           ^^^^^^^^^^^^^^^^^^^^^^^^^^^^^^^^^^^^^^^^^^^^^^^^^^^^^^^^^^^^^^^^^^^\n",
      "  File \"C:\\Users\\PC1\\anaconda3\\Lib\\site-packages\\mlflow\\store\\tracking\\file_store.py\", line 1303, in _read_yaml\n",
      "    return _read_helper(root, file_name, attempts_remaining=retries)\n",
      "           ^^^^^^^^^^^^^^^^^^^^^^^^^^^^^^^^^^^^^^^^^^^^^^^^^^^^^^^^^\n",
      "  File \"C:\\Users\\PC1\\anaconda3\\Lib\\site-packages\\mlflow\\store\\tracking\\file_store.py\", line 1296, in _read_helper\n",
      "    result = read_yaml(root, file_name)\n",
      "             ^^^^^^^^^^^^^^^^^^^^^^^^^^\n",
      "  File \"C:\\Users\\PC1\\anaconda3\\Lib\\site-packages\\mlflow\\utils\\file_utils.py\", line 303, in read_yaml\n",
      "    raise MissingConfigException(f\"Yaml file '{file_path}' does not exist.\")\n",
      "mlflow.exceptions.MissingConfigException: Yaml file 'C:\\Users\\PC1\\DataspellProjects\\Home_Credit_Default_Risk\\notebook\\mlruns\\mlruns\\meta.yaml' does not exist.\n"
     ]
    },
    {
     "name": "stdout",
     "output_type": "stream",
     "text": [
      "Custom Credit Score: 1348800\n"
     ]
    },
    {
     "data": {
      "text/plain": "<Figure size 640x480 with 2 Axes>",
      "image/png": "[encoded data removed]"
     },
     "metadata": {},
     "output_type": "display_data"
    }
   ],
   "source": [
    "from sklearn.metrics import f1_score, roc_auc_score, make_scorer, confusion_matrix, ConfusionMatrixDisplay\n",
    "from sklearn.model_selection import GridSearchCV, StratifiedKFold\n",
    "from sklearn.ensemble import RandomForestClassifier\n",
    "import mlflow\n",
    "import time\n",
    "import datetime\n",
    "import matplotlib.pyplot as plt\n",
    "import pandas as pd\n",
    "\n",
    "current_time = datetime.datetime.now().strftime(\"%Y-%m-%d_%H-%M-%S\")\n",
    "experiment_name = f\"experiment_rf_auc_scorer_{current_time}\"\n",
    "\n",
    "mlflow.create_experiment(experiment_name)\n",
    "mlflow.set_experiment(experiment_name)\n",
    "\n",
    "param_grid = {\n",
    "    'n_estimators': [100, 500],\n",
    "    'max_depth': [None, 10, 30]\n",
    "}\n",
    "\n",
    "cv = StratifiedKFold(n_splits=5, shuffle=True, random_state=42)\n",
    "\n",
    "clf = RandomForestClassifier(random_state=42, class_weight='balanced')\n",
    "\n",
    "grid_search = GridSearchCV(\n",
    "    estimator=clf,\n",
    "    param_grid=param_grid,\n",
    "    cv=cv,\n",
    "    scoring=make_scorer(auc_scorer, needs_proba=True)\n",
    ")\n",
    "\n",
    "try:\n",
    "    with mlflow.start_run():\n",
    "\n",
    "        start_time = time.time()\n",
    "        grid_search.fit(X_train, y_train)\n",
    "\n",
    "        best_params = grid_search.best_params_\n",
    "        mlflow.log_params(best_params)\n",
    "\n",
    "        best_estimator = grid_search.best_estimator_\n",
    "        mlflow.sklearn.log_model(best_estimator, \"best_model\")\n",
    "\n",
    "        test_pred_proba = best_estimator.predict_proba(X_test)[:, 1]\n",
    "        test_cost = custom_scorer(y_test, test_pred_proba)\n",
    "        mlflow.log_metric('test_custom_cost', test_cost)\n",
    "\n",
    "        test_auc = auc_scorer(y_test, test_pred_proba)\n",
    "        mlflow.log_metric('test_auc', test_auc)\n",
    "\n",
    "        test_pred = best_estimator.predict(X_test)\n",
    "        test_f1_score = f1_score(y_test, test_pred)\n",
    "        mlflow.log_metric('test_f1_score', test_f1_score)\n",
    "\n",
    "        conf_matrix = confusion_matrix(y_test, test_pred)\n",
    "        disp = ConfusionMatrixDisplay(confusion_matrix=conf_matrix)\n",
    "        cmap = plt.cm.Blues\n",
    "        disp.plot(cmap=cmap)\n",
    "        plt.savefig(\"confusion_matrix.png\")\n",
    "        mlflow.log_artifact(\"confusion_matrix.png\")\n",
    "\n",
    "        duration = time.time() - start_time\n",
    "        mlflow.log_metric('training_duration', duration)\n",
    "\n",
    "        pd.DataFrame(grid_search.cv_results_).to_csv('grid_search_results.csv')\n",
    "        mlflow.log_artifact('grid_search_results.csv')\n",
    "\n",
    "except Exception as e:\n",
    "    print(f\"Une erreur est survenue lors de l'entraînement : {e}\")\n",
    "\n",
    "finally:\n",
    "    mlflow.end_run()\n"
   ],
   "metadata": {
    "collapsed": false,
    "ExecuteTime": {
     "end_time": "2023-12-20T15:35:48.242299500Z",
     "start_time": "2023-12-20T15:10:34.357888900Z"
    }
   }
  },
  {
   "cell_type": "code",
   "execution_count": null,
   "outputs": [],
   "source": [
    "# Compléxité à ne pas impacter la prédiction à cause de données manquantes qui pourraient venir fausser la prédiction"
   ],
   "metadata": {
    "collapsed": false
   }
  },
  {
   "cell_type": "markdown",
   "source": [
    "# Comparaison des modèles via mlflow"
   ],
   "metadata": {
    "collapsed": false
   }
  },
  {
   "cell_type": "code",
   "execution_count": null,
   "outputs": [],
   "source": [
    "# cmd : mlflow ui --port 1234"
   ],
   "metadata": {
    "collapsed": false
   }
  },
  {
   "cell_type": "code",
   "execution_count": null,
   "outputs": [],
   "source": [],
   "metadata": {
    "collapsed": false
   }
  },
  {
   "cell_type": "markdown",
   "source": [
    "# Evidently\n",
    "Définir et mettre en œuvre une stratégie de suivi de la performance d’un modèle en production et en assurer la maintenance afin de garantir dans le temps la production de prédictions performantes.\n",
    "CE1 Analyse de data drift entre le dataset train et le dataset test\n",
    "CE2 Vous avez réalisé un système de stockage d’événements relatifs aux prédictions réalisées par l’API et une gestion d’alerte en cas de dégradation significative de la performance. Dans le cadre du projet :\n",
    "choix de réaliser a priori cette analyse de data drift, via une simulation dans un notebook et création d’un tableau HTML d’analyse avec la librairie evidently\n",
    "CE3 Vous avez analysé la stabilité du modèle dans le temps et défini des actions d’amélioration de sa performance. Dans le cadre de ce projet :\n",
    "Analyse du tableau HTML evidently, et conclusion sur un éventuel data drift"
   ],
   "metadata": {
    "collapsed": false
   }
  },
  {
   "cell_type": "code",
   "execution_count": 80,
   "outputs": [],
   "source": [
    "import evidently\n",
    "from sklearn import datasets\n",
    "from evidently import ColumnMapping\n",
    "from evidently.report import Report\n",
    "from evidently.metric_preset import DataDriftPreset\n",
    "from evidently.ui.dashboards import Dashboard\n",
    "\n",
    "iris_data = datasets.load_iris()\n",
    "iris_frame = iris_data.frame\n"
   ],
   "metadata": {
    "collapsed": false
   }
  },
  {
   "cell_type": "code",
   "execution_count": 76,
   "outputs": [
    {
     "name": "stderr",
     "output_type": "stream",
     "text": [
      "C:\\Users\\PC1\\anaconda3\\Lib\\site-packages\\scipy\\stats\\_stats_py.py:8064: RuntimeWarning: divide by zero encountered in divide\n",
      "  terms = (f_obs_float - f_exp)**2 / f_exp\n",
      "C:\\Users\\PC1\\anaconda3\\Lib\\site-packages\\scipy\\stats\\_stats_py.py:8064: RuntimeWarning: divide by zero encountered in divide\n",
      "  terms = (f_obs_float - f_exp)**2 / f_exp\n",
      "C:\\Users\\PC1\\anaconda3\\Lib\\site-packages\\scipy\\stats\\_stats_py.py:8064: RuntimeWarning: divide by zero encountered in divide\n",
      "  terms = (f_obs_float - f_exp)**2 / f_exp\n",
      "C:\\Users\\PC1\\anaconda3\\Lib\\site-packages\\scipy\\stats\\_stats_py.py:8064: RuntimeWarning: divide by zero encountered in divide\n",
      "  terms = (f_obs_float - f_exp)**2 / f_exp\n",
      "C:\\Users\\PC1\\anaconda3\\Lib\\site-packages\\scipy\\stats\\_stats_py.py:8064: RuntimeWarning: divide by zero encountered in divide\n",
      "  terms = (f_obs_float - f_exp)**2 / f_exp\n",
      "C:\\Users\\PC1\\anaconda3\\Lib\\site-packages\\scipy\\stats\\_stats_py.py:8064: RuntimeWarning: divide by zero encountered in divide\n",
      "  terms = (f_obs_float - f_exp)**2 / f_exp\n",
      "C:\\Users\\PC1\\anaconda3\\Lib\\site-packages\\scipy\\stats\\_stats_py.py:8064: RuntimeWarning: divide by zero encountered in divide\n",
      "  terms = (f_obs_float - f_exp)**2 / f_exp\n",
      "C:\\Users\\PC1\\anaconda3\\Lib\\site-packages\\scipy\\stats\\_stats_py.py:8064: RuntimeWarning: divide by zero encountered in divide\n",
      "  terms = (f_obs_float - f_exp)**2 / f_exp\n",
      "C:\\Users\\PC1\\anaconda3\\Lib\\site-packages\\scipy\\stats\\_stats_py.py:8064: RuntimeWarning: divide by zero encountered in divide\n",
      "  terms = (f_obs_float - f_exp)**2 / f_exp\n",
      "C:\\Users\\PC1\\anaconda3\\Lib\\site-packages\\scipy\\stats\\_stats_py.py:8064: RuntimeWarning: divide by zero encountered in divide\n",
      "  terms = (f_obs_float - f_exp)**2 / f_exp\n",
      "C:\\Users\\PC1\\anaconda3\\Lib\\site-packages\\scipy\\stats\\_stats_py.py:8064: RuntimeWarning: divide by zero encountered in divide\n",
      "  terms = (f_obs_float - f_exp)**2 / f_exp\n",
      "C:\\Users\\PC1\\anaconda3\\Lib\\site-packages\\scipy\\stats\\_stats_py.py:8064: RuntimeWarning: divide by zero encountered in divide\n",
      "  terms = (f_obs_float - f_exp)**2 / f_exp\n"
     ]
    }
   ],
   "source": [
    "data_drift_report = Report(metrics=[\n",
    "    DataDriftPreset(),\n",
    "])\n",
    "\n",
    "current_data_filtered = final_test_df.sample(random_state=1)\n",
    "reference_data_filtered = X.sample(random_state=1)\n",
    "\n",
    "data_drift_report.run(current_data=current_data_filtered, reference_data=reference_data_filtered)\n",
    "\n",
    "# Enregistrez le tableau de bord au format HTML\n",
    "data_drift_report.save_html('data_drift_report.html')"
   ],
   "metadata": {
    "collapsed": false
   }
  }
 ],
 "metadata": {
  "kernelspec": {
   "display_name": "Python 3 (ipykernel)",
   "language": "python",
   "name": "python3"
  },
  "language_info": {
   "codemirror_mode": {
    "name": "ipython",
    "version": 3
   },
   "file_extension": ".py",
   "mimetype": "text/x-python",
   "name": "python",
   "nbconvert_exporter": "python",
   "pygments_lexer": "ipython3",
   "version": "3.11.5"
  }
 },
 "nbformat": 4,
 "nbformat_minor": 4
}
